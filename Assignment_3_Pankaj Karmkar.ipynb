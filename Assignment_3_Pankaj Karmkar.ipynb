{
 "cells": [
  {
   "cell_type": "markdown",
   "id": "faee2a90",
   "metadata": {},
   "source": [
    "# Assignment 3"
   ]
  },
  {
   "cell_type": "markdown",
   "id": "2098d1f2",
   "metadata": {},
   "source": [
    "#### 1. Why are functions advantageous to have in your programs? "
   ]
  },
  {
   "cell_type": "markdown",
   "id": "42e1adef",
   "metadata": {},
   "source": [
    "#### Solution: "
   ]
  },
  {
   "cell_type": "markdown",
   "id": "5060597b",
   "metadata": {},
   "source": [
    "Functions reduce our effort on coding repetitive tasks. There are in-built functions which we can directly use based on our use. And there are user defined functions where we can create our own functions to perform our defined tasks multiple times over the program. "
   ]
  },
  {
   "cell_type": "markdown",
   "id": "e667906f",
   "metadata": {},
   "source": [
    "#### 2. When does the code in a function run: when it's specified or when it's called? "
   ]
  },
  {
   "cell_type": "markdown",
   "id": "3db49501",
   "metadata": {},
   "source": [
    "#### Solution: "
   ]
  },
  {
   "cell_type": "markdown",
   "id": "9f77a5c6",
   "metadata": {},
   "source": [
    "The code in a function runs when it’s invoked/called."
   ]
  },
  {
   "cell_type": "markdown",
   "id": "984b98f4",
   "metadata": {},
   "source": [
    "#### 3. What statement creates a function?  "
   ]
  },
  {
   "cell_type": "markdown",
   "id": "2d60139c",
   "metadata": {},
   "source": [
    "#### Solution: "
   ]
  },
  {
   "cell_type": "markdown",
   "id": "1da0e5fb",
   "metadata": {},
   "source": [
    "‘def’ keyword then the function name followed by parenthesis."
   ]
  },
  {
   "cell_type": "code",
   "execution_count": 3,
   "id": "3b4b25a5",
   "metadata": {},
   "outputs": [],
   "source": [
    "def hello(): \n",
    "    print('Hello')"
   ]
  },
  {
   "cell_type": "code",
   "execution_count": 4,
   "id": "dea3a092",
   "metadata": {},
   "outputs": [
    {
     "name": "stdout",
     "output_type": "stream",
     "text": [
      "Hello\n"
     ]
    }
   ],
   "source": [
    "hello()"
   ]
  },
  {
   "cell_type": "markdown",
   "id": "9fd0ff2e",
   "metadata": {},
   "source": [
    "#### 4. What is the difference between a function and a function call?  "
   ]
  },
  {
   "cell_type": "markdown",
   "id": "58cd3221",
   "metadata": {},
   "source": [
    "#### Solution: "
   ]
  },
  {
   "cell_type": "markdown",
   "id": "6c63156d",
   "metadata": {},
   "source": [
    "A function is piece of code created to do some specific tasks and can be used multiple times to avoid writing the same code again and again. \n",
    "\n",
    "A function call means calling/invoking the function to do the defined tasks. "
   ]
  },
  {
   "cell_type": "code",
   "execution_count": 7,
   "id": "230d5624",
   "metadata": {},
   "outputs": [],
   "source": [
    "# Function Definition:\n",
    "\n",
    "def minimum_balance_check():\n",
    "    min_balance = 5000\n",
    "    balance_inp = float(input('Enter your account balance'))\n",
    "    if balance_inp < min_balance:\n",
    "        print('Your account balance is less than the required minimum')\n",
    "    else:\n",
    "        print('Your account balance is', balance_inp)\n"
   ]
  },
  {
   "cell_type": "code",
   "execution_count": 9,
   "id": "4aa860d9",
   "metadata": {},
   "outputs": [
    {
     "name": "stdout",
     "output_type": "stream",
     "text": [
      "Enter your account balance4000\n",
      "Your account balance is less than the required minimum\n"
     ]
    }
   ],
   "source": [
    "# Function Call: \n",
    "\n",
    "minimum_balance_check()"
   ]
  },
  {
   "cell_type": "markdown",
   "id": "e4c34e4e",
   "metadata": {},
   "source": [
    "#### 5. How many global scopes are there in a Python program? How many local scopes? "
   ]
  },
  {
   "cell_type": "markdown",
   "id": "cf68701f",
   "metadata": {},
   "source": [
    "#### Solution: "
   ]
  },
  {
   "cell_type": "markdown",
   "id": "6d74798f",
   "metadata": {},
   "source": [
    "There is only one global Python scope per program execution. \n",
    "\n",
    "Each function in Python introduces a new local scope. Hence, number of local scopes depend on the structure of the program, how many functions are nested functions are defined. "
   ]
  },
  {
   "cell_type": "markdown",
   "id": "ea825102",
   "metadata": {},
   "source": [
    "#### 6. What happens to variables in a local scope when the function call returns?  "
   ]
  },
  {
   "cell_type": "markdown",
   "id": "7d011732",
   "metadata": {},
   "source": [
    "#### Solution: "
   ]
  },
  {
   "cell_type": "markdown",
   "id": "4d470d3b",
   "metadata": {},
   "source": [
    "Variables in a local scope are limited within that function it is used. If we try to access that variable outside of the function it will throw an error. \n",
    "\n",
    "Example – "
   ]
  },
  {
   "cell_type": "code",
   "execution_count": 13,
   "id": "1f5a8e22",
   "metadata": {},
   "outputs": [],
   "source": [
    "def sum(a,b):\n",
    "    result = a+b\n",
    "    return result  # returning the value stored in 'result' variable inside the function"
   ]
  },
  {
   "cell_type": "code",
   "execution_count": 14,
   "id": "61c759ea",
   "metadata": {},
   "outputs": [
    {
     "data": {
      "text/plain": [
       "30"
      ]
     },
     "execution_count": 14,
     "metadata": {},
     "output_type": "execute_result"
    }
   ],
   "source": [
    "sum(10,20)"
   ]
  },
  {
   "cell_type": "markdown",
   "id": "2a7bb1ec",
   "metadata": {},
   "source": [
    "The local variable “result” cannot be accessed outside of the function. For accessing the value stored in result, we need to call the function and the return statement will give us the value stored in “result”. "
   ]
  },
  {
   "cell_type": "markdown",
   "id": "17b0ceca",
   "metadata": {},
   "source": [
    "#### 7. What is the concept of a return value? Is it possible to have a return value in an expression?  "
   ]
  },
  {
   "cell_type": "markdown",
   "id": "9b02776b",
   "metadata": {},
   "source": [
    "#### Solution: "
   ]
  },
  {
   "cell_type": "markdown",
   "id": "db9b836a",
   "metadata": {},
   "source": [
    "When we try to compute something inside a function and want to use that result in our program we can use return statement inside a function, when we call that function, we can fetch the result and store/use it. For example – "
   ]
  },
  {
   "cell_type": "code",
   "execution_count": 15,
   "id": "d47d3c99",
   "metadata": {},
   "outputs": [],
   "source": [
    "def area_circle(r):\n",
    "    result = 3.14*r*r \n",
    "\n",
    "    return result"
   ]
  },
  {
   "cell_type": "code",
   "execution_count": 16,
   "id": "93133f79",
   "metadata": {},
   "outputs": [
    {
     "name": "stdout",
     "output_type": "stream",
     "text": [
      "50.24\n"
     ]
    }
   ],
   "source": [
    "print(area_circle(4))"
   ]
  },
  {
   "cell_type": "markdown",
   "id": "2ea13f54",
   "metadata": {},
   "source": [
    "Python always returns a value if return statement is not explicitly provided, it implicitly returns a default value. "
   ]
  },
  {
   "cell_type": "markdown",
   "id": "a1682661",
   "metadata": {},
   "source": [
    "Yes, in Python we can use function call as a part of an expression and the returned value can be used directly in that expression. \n",
    "\n",
    "For example – "
   ]
  },
  {
   "cell_type": "code",
   "execution_count": 17,
   "id": "ef689816",
   "metadata": {},
   "outputs": [],
   "source": [
    "def area_circle(r):\n",
    "    result = 3.14*r*r \n",
    "\n",
    "    return result"
   ]
  },
  {
   "cell_type": "code",
   "execution_count": 18,
   "id": "8613a25d",
   "metadata": {},
   "outputs": [
    {
     "data": {
      "text/plain": [
       "62.800000000000004"
      ]
     },
     "execution_count": 18,
     "metadata": {},
     "output_type": "execute_result"
    }
   ],
   "source": [
    "height = 5\n",
    "area_cylinder = area_circle(2)*height\n",
    "area_cylinder"
   ]
  },
  {
   "cell_type": "markdown",
   "id": "c21034a7",
   "metadata": {},
   "source": [
    "#### 8. If a function does not have a return statement, what is the return value of a call to that function?  "
   ]
  },
  {
   "cell_type": "markdown",
   "id": "2984d95a",
   "metadata": {},
   "source": [
    "#### Solution: "
   ]
  },
  {
   "cell_type": "markdown",
   "id": "dd6aeae5",
   "metadata": {},
   "source": [
    "None (Null)"
   ]
  },
  {
   "cell_type": "markdown",
   "id": "c3d3fbd1",
   "metadata": {},
   "source": [
    "#### 9. How do you make a function variable refer to the global variable?  "
   ]
  },
  {
   "cell_type": "markdown",
   "id": "c50104ea",
   "metadata": {},
   "source": [
    "#### Solution: "
   ]
  },
  {
   "cell_type": "markdown",
   "id": "4f59164f",
   "metadata": {},
   "source": [
    "By using a keyword “global”"
   ]
  },
  {
   "cell_type": "markdown",
   "id": "f9096de8",
   "metadata": {},
   "source": [
    "#### 10. What is the data type of None?  "
   ]
  },
  {
   "cell_type": "markdown",
   "id": "1d988dba",
   "metadata": {},
   "source": [
    "#### Solution: "
   ]
  },
  {
   "cell_type": "markdown",
   "id": "b23d1cb0",
   "metadata": {},
   "source": [
    "None is a datatype of its own nontype "
   ]
  },
  {
   "cell_type": "markdown",
   "id": "718f1ee3",
   "metadata": {},
   "source": [
    "#### 11. What does the sentence import areallyourpetsnamederic do? "
   ]
  },
  {
   "cell_type": "markdown",
   "id": "83025f51",
   "metadata": {},
   "source": [
    "#### Solution: "
   ]
  },
  {
   "cell_type": "markdown",
   "id": "6b3b24b9",
   "metadata": {},
   "source": [
    "If there is a module present with that name, it will import that module else it will throw an error."
   ]
  },
  {
   "cell_type": "markdown",
   "id": "6db66016",
   "metadata": {},
   "source": [
    "#### 12. If you had a bacon() feature in a spam module, what would you call it after importing spam?  "
   ]
  },
  {
   "cell_type": "markdown",
   "id": "99eeb7db",
   "metadata": {},
   "source": [
    "#### Solution: "
   ]
  },
  {
   "cell_type": "markdown",
   "id": "0cbe70d9",
   "metadata": {},
   "source": [
    "spam.bacon()"
   ]
  },
  {
   "cell_type": "markdown",
   "id": "5c70d55f",
   "metadata": {},
   "source": [
    "#### 13. What can you do to save a programme from crashing if it encounters an error?  "
   ]
  },
  {
   "cell_type": "markdown",
   "id": "3860e22e",
   "metadata": {},
   "source": [
    "#### Solution: "
   ]
  },
  {
   "cell_type": "markdown",
   "id": "ea34108f",
   "metadata": {},
   "source": [
    "Error Handling can be used"
   ]
  },
  {
   "cell_type": "markdown",
   "id": "0877f14f",
   "metadata": {},
   "source": [
    "#### 14. What is the purpose of the try clause? What is the purpose of the except clause?"
   ]
  },
  {
   "cell_type": "markdown",
   "id": "a7b4a7ca",
   "metadata": {},
   "source": [
    "#### Solution: "
   ]
  },
  {
   "cell_type": "markdown",
   "id": "a0f6b446",
   "metadata": {},
   "source": [
    "The try clause tests the code for any error, the except clause lets us handle the error. "
   ]
  },
  {
   "cell_type": "code",
   "execution_count": null,
   "id": "435cb270",
   "metadata": {},
   "outputs": [],
   "source": []
  }
 ],
 "metadata": {
  "kernelspec": {
   "display_name": "Python 3 (ipykernel)",
   "language": "python",
   "name": "python3"
  },
  "language_info": {
   "codemirror_mode": {
    "name": "ipython",
    "version": 3
   },
   "file_extension": ".py",
   "mimetype": "text/x-python",
   "name": "python",
   "nbconvert_exporter": "python",
   "pygments_lexer": "ipython3",
   "version": "3.10.9"
  }
 },
 "nbformat": 4,
 "nbformat_minor": 5
}
