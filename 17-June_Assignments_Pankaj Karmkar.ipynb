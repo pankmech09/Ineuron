{
 "cells": [
  {
   "cell_type": "markdown",
   "id": "4196acde",
   "metadata": {},
   "source": [
    "# 17-June Assignments - Exception Handling"
   ]
  },
  {
   "cell_type": "markdown",
   "id": "18a8d059",
   "metadata": {},
   "source": [
    "#### 1. What is the role of try and exception block?"
   ]
  },
  {
   "cell_type": "markdown",
   "id": "8613d72c",
   "metadata": {},
   "source": [
    "'try-except' block is known as exception handling block used to handle and manage errors that may occur during the execution of a program. The main function of 'try-except' block is to provide a structured way to handle exceptions and ensuring the program to recover from errors without abruptly terminating the whole program. "
   ]
  },
  {
   "cell_type": "markdown",
   "id": "46c486db",
   "metadata": {},
   "source": [
    "The code that may raise an exception is placed inside 'try' block. Once an exception occurs, the control from the 'try' block immediately gets transferred to the nearest matching 'except' block."
   ]
  },
  {
   "cell_type": "markdown",
   "id": "d0960fb4",
   "metadata": {},
   "source": [
    "If the exception occured matches with the 'except' block, the code inside the 'except' block is executed."
   ]
  },
  {
   "cell_type": "markdown",
   "id": "1c505532",
   "metadata": {},
   "source": [
    "#### 2. What is the syntax for a basic try-except block?"
   ]
  },
  {
   "cell_type": "code",
   "execution_count": 3,
   "id": "8db3940c",
   "metadata": {},
   "outputs": [],
   "source": [
    "# Syntax -\n",
    "\n",
    "try:\n",
    "    '''\n",
    "    Code that may raise exception\n",
    "    ................\n",
    "    ................\n",
    "    '''\n",
    "except ErrorType:\n",
    "    '''\n",
    "    Code to handle the exception\n",
    "    ................\n",
    "    ................\n",
    "    \n",
    "    '''"
   ]
  },
  {
   "cell_type": "code",
   "execution_count": 5,
   "id": "672fbfc3",
   "metadata": {},
   "outputs": [
    {
     "name": "stdout",
     "output_type": "stream",
     "text": [
      "Error ! Invalid input, type mismatch for adding two variables\n"
     ]
    }
   ],
   "source": [
    "# Example -\n",
    "\n",
    "# try block where we may encounter an error\n",
    "try:\n",
    "    x = 'A'   # String value\n",
    "    y = 100   # Integer value\n",
    "    \n",
    "    result = x + y   # trying to add a stringer value and an integer value\n",
    "    print(result)\n",
    "    \n",
    "# except 'TypeError' block which handles wrong data type\n",
    "except TypeError: \n",
    "    print('Error ! Invalid input, type mismatch for adding two variables')"
   ]
  },
  {
   "cell_type": "markdown",
   "id": "700d5633",
   "metadata": {},
   "source": [
    "#### 3.  What happens if an exception occurs inside a try block and there is no matching except block?"
   ]
  },
  {
   "cell_type": "markdown",
   "id": "9202ba06",
   "metadata": {},
   "source": [
    "If an exception occurs and there is no matching 'except' block, this can be termed as 'unhandled exception'. The program then finds a 'finally' block, if present then the code inside the 'finally' block is executed and then the program is terminated."
   ]
  },
  {
   "cell_type": "code",
   "execution_count": 13,
   "id": "4725b9e2",
   "metadata": {
    "scrolled": true
   },
   "outputs": [
    {
     "ename": "TypeError",
     "evalue": "unsupported operand type(s) for +: 'int' and 'str'",
     "output_type": "error",
     "traceback": [
      "\u001b[1;31m---------------------------------------------------------------------------\u001b[0m",
      "\u001b[1;31mTypeError\u001b[0m                                 Traceback (most recent call last)",
      "Cell \u001b[1;32mIn[13], line 7\u001b[0m\n\u001b[0;32m      4\u001b[0m     x \u001b[38;5;241m=\u001b[39m \u001b[38;5;241m200\u001b[39m   \u001b[38;5;66;03m# String value\u001b[39;00m\n\u001b[0;32m      5\u001b[0m     y \u001b[38;5;241m=\u001b[39m \u001b[38;5;124m'\u001b[39m\u001b[38;5;124mStr\u001b[39m\u001b[38;5;124m'\u001b[39m   \u001b[38;5;66;03m# Integer value\u001b[39;00m\n\u001b[1;32m----> 7\u001b[0m     result \u001b[38;5;241m=\u001b[39m \u001b[43mx\u001b[49m\u001b[43m \u001b[49m\u001b[38;5;241;43m+\u001b[39;49m\u001b[43m \u001b[49m\u001b[43my\u001b[49m   \u001b[38;5;66;03m# trying to add a stringer value and an integer value\u001b[39;00m\n\u001b[0;32m      8\u001b[0m     \u001b[38;5;28mprint\u001b[39m(result)\n\u001b[0;32m     10\u001b[0m \u001b[38;5;28;01mexcept\u001b[39;00m \u001b[38;5;167;01mValueError\u001b[39;00m:\n",
      "\u001b[1;31mTypeError\u001b[0m: unsupported operand type(s) for +: 'int' and 'str'"
     ]
    }
   ],
   "source": [
    "# Example -\n",
    "\n",
    "try:\n",
    "    x = 200   # String value\n",
    "    y = 'Str'   # Integer value\n",
    "    \n",
    "    result = x + y   # trying to add a stringer value and an integer value\n",
    "    print(result)\n",
    "    \n",
    "except ValueError:\n",
    "    print('Error ! Value Error block executed')    \n",
    "\n",
    "#except TypeError: \n",
    "    #print('Error ! Invalid input, type mismatch for adding two variables')"
   ]
  },
  {
   "cell_type": "markdown",
   "id": "61997ba3",
   "metadata": {},
   "source": [
    "#### 4. What is the difference between using a bare except block and specifying a specific exception type?"
   ]
  },
  {
   "cell_type": "markdown",
   "id": "b9bfe9f7",
   "metadata": {},
   "source": [
    "Bare except block catches all exceptions regardless of the type. When using a bare 'except' block, any exception which occurs in 'try' block will be caught. This could be useful if we want to handle the unexpected errors and don't want our program to terminate abruptly. However, it masks the programming errors and makes it difficult to find what type of error has occured."
   ]
  },
  {
   "cell_type": "markdown",
   "id": "b950463a",
   "metadata": {},
   "source": [
    "Using specific exception types provides better control and clarity in handling different exceptions. It allows you to define different exception handlers for different types of errors and provides more targeted error handling."
   ]
  },
  {
   "cell_type": "code",
   "execution_count": 15,
   "id": "530813c7",
   "metadata": {},
   "outputs": [
    {
     "name": "stdout",
     "output_type": "stream",
     "text": [
      "Some Error occured !\n"
     ]
    }
   ],
   "source": [
    "# Example -\n",
    "\n",
    "try:\n",
    "    x = 200   # String value\n",
    "    y = 'Str'   # Integer value\n",
    "    \n",
    "    result = x + y   # trying to add a stringer value and an integer value\n",
    "    print(result)\n",
    "    \n",
    "except ValueError:\n",
    "    print('Error ! Value Error block executed')\n",
    "    \n",
    "except:\n",
    "    print('Some Error occured !')"
   ]
  },
  {
   "cell_type": "markdown",
   "id": "6929de56",
   "metadata": {},
   "source": [
    "#### 5. Can you have nested try-except blocks in Python? If yes, then give an example."
   ]
  },
  {
   "cell_type": "markdown",
   "id": "20d695b0",
   "metadata": {},
   "source": [
    "Yes, it is possible to have nested try-except blocks in Python. Nested try-except block allows us to handle exceptions at different level of code execution."
   ]
  },
  {
   "cell_type": "code",
   "execution_count": 21,
   "id": "2ad77105",
   "metadata": {},
   "outputs": [
    {
     "name": "stdout",
     "output_type": "stream",
     "text": [
      "Enter a number : ABC\n",
      "Outer except block: Invalid number !\n"
     ]
    }
   ],
   "source": [
    "# Example :\n",
    "\n",
    "# Outer try block\n",
    "try:\n",
    "    num = int(input('Enter a number : '))\n",
    "    \n",
    "    try:                                        # Inner try block\n",
    "        result = 100/num\n",
    "        print(result)    \n",
    "    \n",
    "    except ZeroDivisionError:                   # Inner except ZeroDivisionError block\n",
    "        print('Inner except block: Error ! cannot divide by zero')\n",
    "    \n",
    "    except ValueError:                          # Inner except ValueError block\n",
    "        print('Inner except block: Error ! Invalid number, expected an integer value')\n",
    "\n",
    "except ValueError:\n",
    "    print('Outer except block: Invalid number !')\n",
    "    \n",
    "# Input as 0 - Inner ZeroDivisionError except block gets executed."
   ]
  },
  {
   "cell_type": "markdown",
   "id": "eb51b703",
   "metadata": {},
   "source": [
    "In the above code, we are showing an example of nested try-except blocks. We are feeding input as 2.5 which throws ValueError exception hence, the control doesn't go inside the inner try-except block and goes directly to the outer ValueError except block and prints the message."
   ]
  },
  {
   "cell_type": "markdown",
   "id": "eb7ed72e",
   "metadata": {},
   "source": [
    "#### 6. Can we use multiple exception blocks, if yes then give an example."
   ]
  },
  {
   "cell_type": "markdown",
   "id": "9c0315d0",
   "metadata": {},
   "source": [
    "Yes, we can use multiple exception blocks. Below is one example"
   ]
  },
  {
   "cell_type": "code",
   "execution_count": 26,
   "id": "0dc537fc",
   "metadata": {},
   "outputs": [
    {
     "name": "stdout",
     "output_type": "stream",
     "text": [
      "Error ! Cannot divide by zero\n",
      "Error/No Error, Finally Block executed\n"
     ]
    }
   ],
   "source": [
    "# Example -\n",
    "\n",
    "try:\n",
    "    x = 200   # String value\n",
    "    y = 0   # Integer value\n",
    "    \n",
    "    result = x/y   # trying to add a stringer value and an integer value\n",
    "    print(result)\n",
    "    \n",
    "except ZeroDivisionError:\n",
    "    print('Error ! Cannot divide by zero')\n",
    "    \n",
    "except ValueError:\n",
    "    print('Error ! Value Error block executed')    \n",
    "\n",
    "except TypeError: \n",
    "    print('Error ! Invalid input, type mismatch for adding two variables')\n",
    "\n",
    "# 'else' block gets executed if no exception occurs.    \n",
    "else:\n",
    "    print(\"No Error, Else Block executed\")\n",
    "\n",
    "# 'finally' block gets executed regardless of what happens in 'try-except' blocks.    \n",
    "finally:\n",
    "    print('Error/No Error, Finally Block executed')"
   ]
  },
  {
   "cell_type": "markdown",
   "id": "65cdae9f",
   "metadata": {},
   "source": [
    "#### 7. Write the reason due to which following errors are raised:"
   ]
  },
  {
   "cell_type": "code",
   "execution_count": null,
   "id": "a83bf504",
   "metadata": {},
   "outputs": [],
   "source": [
    "# a. EOFError\n",
    "# b. FloatingPointError\n",
    "# c. IndexError\n",
    "# d. MemoryError\n",
    "# e. OverflowError\n",
    "# f. TabError\n",
    "# g. ValueError"
   ]
  },
  {
   "cell_type": "markdown",
   "id": "5bc36321",
   "metadata": {},
   "source": [
    "#### a. EOFError:"
   ]
  },
  {
   "cell_type": "markdown",
   "id": "b3787ae8",
   "metadata": {},
   "source": [
    "EOF Error stands for End of File Error. It is raised when an input function, such as input() reaches the end of a file or encounters an unexpected end of input while trying to read user input."
   ]
  },
  {
   "cell_type": "markdown",
   "id": "6d01c105",
   "metadata": {},
   "source": [
    "####  b. FloatingPointError:"
   ]
  },
  {
   "cell_type": "markdown",
   "id": "0f1d6e69",
   "metadata": {},
   "source": [
    "Raised when a floating point operation fails."
   ]
  },
  {
   "cell_type": "markdown",
   "id": "614af68f",
   "metadata": {},
   "source": [
    "In the below case, the code performs a simple addition of 0.1 and 0.2. However, due to the limited precision of floating-point representation, the result is not exactly 0.3. As a result, it may raise an exception or provide an imprecise result, depending on the specific calculations performed. The except block catches any exception that may occur during the calculation.\n",
    "\n",
    "It's important to handle floating-point errors appropriately in your code, considering the nature of the calculations and the desired behavior when encountering such errors."
   ]
  },
  {
   "cell_type": "code",
   "execution_count": 41,
   "id": "b0615651",
   "metadata": {},
   "outputs": [
    {
     "name": "stdout",
     "output_type": "stream",
     "text": [
      "Result: 0.30000000000000004\n"
     ]
    }
   ],
   "source": [
    "try:\n",
    "    result = 0.1 + 0.2\n",
    "    print(\"Result:\", result)\n",
    "\n",
    "except:\n",
    "    print(\"Error: Floating-point calculation error.\")"
   ]
  },
  {
   "cell_type": "markdown",
   "id": "56063069",
   "metadata": {},
   "source": [
    "#### c. IndexError"
   ]
  },
  {
   "cell_type": "markdown",
   "id": "eeceeddc",
   "metadata": {},
   "source": [
    "IndexError is raised when we try to access an index that is out of the range of a sequence(such as lists,tuples,strings). When working with indices we need to make sure that they are within the valid range of the sequence to avoid IndexError."
   ]
  },
  {
   "cell_type": "code",
   "execution_count": 44,
   "id": "3930da37",
   "metadata": {},
   "outputs": [
    {
     "name": "stdout",
     "output_type": "stream",
     "text": [
      "Error: Index is out of range\n"
     ]
    }
   ],
   "source": [
    "# Example -\n",
    "\n",
    "try:\n",
    "    list1 = [12,13,11,24,23,11,10] # list of integer values from indices 0 to 7    \n",
    "    print(list1[10]) # Trying to access an index which is out of range\n",
    "    \n",
    "except IndexError:\n",
    "    print('Error: Index is out of range')"
   ]
  },
  {
   "cell_type": "markdown",
   "id": "3caac418",
   "metadata": {},
   "source": [
    "#### d. MemoryError"
   ]
  },
  {
   "cell_type": "markdown",
   "id": "708da64b",
   "metadata": {},
   "source": [
    "MemoryError is raised when any operation runs out of available memory."
   ]
  },
  {
   "cell_type": "code",
   "execution_count": 49,
   "id": "ca7811ec",
   "metadata": {},
   "outputs": [
    {
     "name": "stdout",
     "output_type": "stream",
     "text": [
      "Not enough memory to perform this operation\n"
     ]
    }
   ],
   "source": [
    "# Example -\n",
    "\n",
    "try:\n",
    "    big_list = [0] * (10 ** 9)  # Attempt to create a very large list\n",
    "    print(big_list)\n",
    "    \n",
    "except MemoryError:\n",
    "    print('Not enough memory to perform this operation')"
   ]
  },
  {
   "cell_type": "markdown",
   "id": "698cedee",
   "metadata": {},
   "source": [
    "#### e. OverflowError"
   ]
  },
  {
   "cell_type": "markdown",
   "id": "11d1226a",
   "metadata": {},
   "source": [
    "OverflowError is raised when a calculation exceeds its maximum representable value for a numeric type. This error indicates that the calculation result is too large or too small to represented within the range of that data type."
   ]
  },
  {
   "cell_type": "code",
   "execution_count": 58,
   "id": "ae372c2b",
   "metadata": {},
   "outputs": [
    {
     "ename": "ValueError",
     "evalue": "Exceeds the limit (4300) for integer string conversion; use sys.set_int_max_str_digits() to increase the limit",
     "output_type": "error",
     "traceback": [
      "\u001b[1;31m---------------------------------------------------------------------------\u001b[0m",
      "\u001b[1;31mValueError\u001b[0m                                Traceback (most recent call last)",
      "Cell \u001b[1;32mIn[58], line 3\u001b[0m\n\u001b[0;32m      1\u001b[0m \u001b[38;5;28;01mtry\u001b[39;00m:\n\u001b[0;32m      2\u001b[0m     result \u001b[38;5;241m=\u001b[39m \u001b[38;5;241m5\u001b[39m \u001b[38;5;241m*\u001b[39m\u001b[38;5;241m*\u001b[39m \u001b[38;5;241m10000\u001b[39m  \u001b[38;5;66;03m# Attempt to calculate 5 to the power of 1000\u001b[39;00m\n\u001b[1;32m----> 3\u001b[0m     \u001b[38;5;28;43mprint\u001b[39;49m\u001b[43m(\u001b[49m\u001b[43mresult\u001b[49m\u001b[43m)\u001b[49m\n\u001b[0;32m      5\u001b[0m \u001b[38;5;28;01mexcept\u001b[39;00m \u001b[38;5;167;01mOverflowError\u001b[39;00m:\n\u001b[0;32m      6\u001b[0m     \u001b[38;5;28mprint\u001b[39m(\u001b[38;5;124m\"\u001b[39m\u001b[38;5;124mError: Calculation result is too large, cannot be represented in numeric form.\u001b[39m\u001b[38;5;124m\"\u001b[39m)\n",
      "\u001b[1;31mValueError\u001b[0m: Exceeds the limit (4300) for integer string conversion; use sys.set_int_max_str_digits() to increase the limit"
     ]
    }
   ],
   "source": [
    "try:\n",
    "    result = 5 ** 10000  # Attempt to calculate 5 to the power of 1000\n",
    "    print(result)\n",
    "    \n",
    "except OverflowError:\n",
    "    print(\"Error: Calculation result is too large, cannot be represented in numeric form.\")"
   ]
  },
  {
   "cell_type": "markdown",
   "id": "245acc31",
   "metadata": {},
   "source": [
    "#### f. TabError"
   ]
  },
  {
   "cell_type": "markdown",
   "id": "0ee6ec69",
   "metadata": {},
   "source": [
    "TabError is raised when there are inconsistencies in the indentation of the code using mixture of tabs and spaces."
   ]
  },
  {
   "cell_type": "code",
   "execution_count": 56,
   "id": "fd6f697b",
   "metadata": {},
   "outputs": [
    {
     "ename": "IndentationError",
     "evalue": "unexpected indent (3046838567.py, line 5)",
     "output_type": "error",
     "traceback": [
      "\u001b[1;36m  Cell \u001b[1;32mIn[56], line 5\u001b[1;36m\u001b[0m\n\u001b[1;33m    print(f\"Name : {x}\")\u001b[0m\n\u001b[1;37m    ^\u001b[0m\n\u001b[1;31mIndentationError\u001b[0m\u001b[1;31m:\u001b[0m unexpected indent\n"
     ]
    }
   ],
   "source": [
    "# Example -\n",
    "\n",
    "try:\n",
    "    x = 'Pankaj'\n",
    "     print(f\"Name : {x}\")\n",
    "        \n",
    "except TabError:\n",
    "    print(\"Error! Tab and spaces used for indentation\")"
   ]
  },
  {
   "cell_type": "markdown",
   "id": "25a99b0f",
   "metadata": {},
   "source": [
    "#### g. ValueError"
   ]
  },
  {
   "cell_type": "markdown",
   "id": "e2271da7",
   "metadata": {},
   "source": [
    "ValueError is raised when an inbuilt operation or function received an argument of the correct type but an inappropriate value."
   ]
  },
  {
   "cell_type": "code",
   "execution_count": 59,
   "id": "cd28a86e",
   "metadata": {},
   "outputs": [
    {
     "name": "stdout",
     "output_type": "stream",
     "text": [
      "Error ! cannot convert a string into an integer\n"
     ]
    }
   ],
   "source": [
    "# Example -\n",
    "\n",
    "try:\n",
    "    str_value = 'A'\n",
    "    int_value = int(str_value)\n",
    "    \n",
    "except ValueError:\n",
    "    print('Error ! cannot convert a string into an integer')"
   ]
  },
  {
   "cell_type": "markdown",
   "id": "88a565ec",
   "metadata": {},
   "source": [
    "#### 8. Write code for the following given scenario and add try-exception block to it."
   ]
  },
  {
   "cell_type": "code",
   "execution_count": 60,
   "id": "36c73df6",
   "metadata": {},
   "outputs": [],
   "source": [
    "# a. Program to divide two numbers\n",
    "# b. Program to convert a string to an integer\n",
    "# c. Program to access an element in a list\n",
    "# d. Program to handle a specific exception\n",
    "# e. Program to handle any exception"
   ]
  },
  {
   "cell_type": "code",
   "execution_count": 66,
   "id": "554f8f7c",
   "metadata": {},
   "outputs": [
    {
     "name": "stdout",
     "output_type": "stream",
     "text": [
      "Enter the first number: 1000\n",
      "Enter the second number: string\n",
      "Value Error ! Enter an appropriate value\n"
     ]
    }
   ],
   "source": [
    "# a. Program to divide two numbers\n",
    "\n",
    "try:\n",
    "    num1 = int(input('Enter the first number: '))\n",
    "    num2 = int(input('Enter the second number: '))\n",
    "    \n",
    "    result = num1/num2\n",
    "    print(result)\n",
    "\n",
    "except ZeroDivisionError:\n",
    "    print('Zero division Error ! dinominator should not be zero')\n",
    "\n",
    "except ValueError:\n",
    "    print('Value Error ! Enter an appropriate value')\n",
    "\n",
    "except:\n",
    "    print('Some Error in the inputs')"
   ]
  },
  {
   "cell_type": "code",
   "execution_count": 70,
   "id": "0d433ef6",
   "metadata": {},
   "outputs": [
    {
     "name": "stdout",
     "output_type": "stream",
     "text": [
      "Enter a number: ABC\n",
      "Error: Invalid input, expected an integer type input.\n"
     ]
    }
   ],
   "source": [
    "# b. Program to convert a string to an integer\n",
    "\n",
    "try:\n",
    "    str_num = input(\"Enter a number: \")\n",
    "    int_num = int(str_num)\n",
    "    print(\"Converted integer: \", int_num)\n",
    "\n",
    "except ValueError:\n",
    "    print(\"Error: Invalid input, expected an integer type input.\")\n",
    "    \n",
    "except:\n",
    "    print('Some error has occured')"
   ]
  },
  {
   "cell_type": "code",
   "execution_count": 71,
   "id": "9de1dca0",
   "metadata": {},
   "outputs": [
    {
     "name": "stdout",
     "output_type": "stream",
     "text": [
      "Error ! Index mentioned is out of range\n"
     ]
    }
   ],
   "source": [
    "# c. Program to access an element in a list\n",
    "\n",
    "try:\n",
    "    emp_details = ['Pankaj','34','Male','Pune',10]\n",
    "    print(emp_details[5])\n",
    "    \n",
    "except IndexError:\n",
    "    print('Error ! Index mentioned is out of range')"
   ]
  },
  {
   "cell_type": "code",
   "execution_count": 74,
   "id": "539f5184",
   "metadata": {},
   "outputs": [
    {
     "name": "stdout",
     "output_type": "stream",
     "text": [
      "Enter your age: 15\n",
      "Age entered should be more than 18\n"
     ]
    }
   ],
   "source": [
    "# d. Program to handle a specific exception\n",
    "\n",
    "try:\n",
    "    age = int(input('Enter your age: '))\n",
    "    \n",
    "    if age < 18:\n",
    "        raise ValueError('Age entered should be more than 18')\n",
    "    else:\n",
    "        print('Your age is: ',age)\n",
    "        \n",
    "except ValueError as e:\n",
    "    print(e)"
   ]
  },
  {
   "cell_type": "code",
   "execution_count": 75,
   "id": "fda1d6c4",
   "metadata": {},
   "outputs": [
    {
     "name": "stdout",
     "output_type": "stream",
     "text": [
      "Enter the first number: A\n",
      "Error ! Inappropriate value\n"
     ]
    }
   ],
   "source": [
    "# e. Program to handle any exception\n",
    "\n",
    "try:\n",
    "    num1 = int(input('Enter the first number: '))\n",
    "    num2 = int(input('Enter the second number'))\n",
    "    \n",
    "    result = num1/num2\n",
    "    print(result)\n",
    "\n",
    "except ZeroDivisionError:\n",
    "    print('Error ! Dinominator cannot be zero')\n",
    "    \n",
    "except ValueError:\n",
    "    print('Error ! Inappropriate value')\n",
    "\n",
    "# the following except block handles any exception which is not caught by other except blocks in the program\n",
    "except:\n",
    "    print('Some Error has occured')"
   ]
  },
  {
   "cell_type": "code",
   "execution_count": null,
   "id": "55e81583",
   "metadata": {},
   "outputs": [],
   "source": []
  }
 ],
 "metadata": {
  "kernelspec": {
   "display_name": "Python 3 (ipykernel)",
   "language": "python",
   "name": "python3"
  },
  "language_info": {
   "codemirror_mode": {
    "name": "ipython",
    "version": 3
   },
   "file_extension": ".py",
   "mimetype": "text/x-python",
   "name": "python",
   "nbconvert_exporter": "python",
   "pygments_lexer": "ipython3",
   "version": "3.10.9"
  }
 },
 "nbformat": 4,
 "nbformat_minor": 5
}
