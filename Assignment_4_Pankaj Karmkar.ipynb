{
 "cells": [
  {
   "cell_type": "markdown",
   "id": "200209e5",
   "metadata": {},
   "source": [
    "# Assignment 4"
   ]
  },
  {
   "cell_type": "markdown",
   "id": "d3cd9a38",
   "metadata": {},
   "source": [
    "#### 1. What exactly is []?"
   ]
  },
  {
   "cell_type": "markdown",
   "id": "282d4385",
   "metadata": {},
   "source": [
    "#### Solution: "
   ]
  },
  {
   "cell_type": "markdown",
   "id": "cb5815e8",
   "metadata": {},
   "source": [
    "This defines a data type “list”. We can store collection of data inside lists. \n",
    "\n",
    "For Example –"
   ]
  },
  {
   "cell_type": "code",
   "execution_count": 1,
   "id": "720a4b36",
   "metadata": {},
   "outputs": [
    {
     "data": {
      "text/plain": [
       "['Mango', 'Apple', 2023, True, 34.5]"
      ]
     },
     "execution_count": 1,
     "metadata": {},
     "output_type": "execute_result"
    }
   ],
   "source": [
    "List_1 = ['Mango', 'Apple',2023,True,34.5] # Hetrogeneous type of List\n",
    "List_1"
   ]
  },
  {
   "cell_type": "markdown",
   "id": "5582b475",
   "metadata": {},
   "source": [
    "#### 2. In a list of values stored in a variable called spam, how would you assign the value 'hello' as the third value? (Assume [2, 4, 6, 8, 10] are in spam.) "
   ]
  },
  {
   "cell_type": "markdown",
   "id": "806e2c2b",
   "metadata": {},
   "source": [
    "#### Solution: "
   ]
  },
  {
   "cell_type": "code",
   "execution_count": 2,
   "id": "5f227ae0",
   "metadata": {},
   "outputs": [
    {
     "data": {
      "text/plain": [
       "[2, 4, 'hello', 8, 10]"
      ]
     },
     "execution_count": 2,
     "metadata": {},
     "output_type": "execute_result"
    }
   ],
   "source": [
    "spam = [2,4,6,8,10]\n",
    "spam[2] = 'hello'\n",
    "spam"
   ]
  },
  {
   "cell_type": "markdown",
   "id": "cc769cf1",
   "metadata": {},
   "source": [
    "#### Let's pretend the spam includes the list ['a', 'b', 'c', 'd'] for the next three queries.  "
   ]
  },
  {
   "cell_type": "markdown",
   "id": "a738edcb",
   "metadata": {},
   "source": [
    "#### 3. What is the value of spam[int(int('3' * 2) / 11)]? "
   ]
  },
  {
   "cell_type": "markdown",
   "id": "466da14e",
   "metadata": {},
   "source": [
    "#### Solution: "
   ]
  },
  {
   "cell_type": "code",
   "execution_count": 4,
   "id": "f64e02b9",
   "metadata": {},
   "outputs": [],
   "source": [
    "# spam[3] - value a 3rd index"
   ]
  },
  {
   "cell_type": "markdown",
   "id": "14749d76",
   "metadata": {},
   "source": [
    "Output: 'd'"
   ]
  },
  {
   "cell_type": "markdown",
   "id": "0ac3cf45",
   "metadata": {},
   "source": [
    "#### 4. What is the value of spam[-1]?  "
   ]
  },
  {
   "cell_type": "markdown",
   "id": "3edb5862",
   "metadata": {},
   "source": [
    "#### Solution: "
   ]
  },
  {
   "cell_type": "code",
   "execution_count": 5,
   "id": "442dd770",
   "metadata": {},
   "outputs": [],
   "source": [
    "# Value at -1 index which is the last value in the the list spam."
   ]
  },
  {
   "cell_type": "markdown",
   "id": "f9f0ba14",
   "metadata": {},
   "source": [
    "Output: 'd'"
   ]
  },
  {
   "cell_type": "markdown",
   "id": "b8361b39",
   "metadata": {},
   "source": [
    "#### 5. What is the value of spam[:2]?  "
   ]
  },
  {
   "cell_type": "markdown",
   "id": "e65799c0",
   "metadata": {},
   "source": [
    "#### Solution: "
   ]
  },
  {
   "cell_type": "code",
   "execution_count": 6,
   "id": "9c9fd0f4",
   "metadata": {},
   "outputs": [],
   "source": [
    "# Slicing - values from index 0 to 2"
   ]
  },
  {
   "cell_type": "markdown",
   "id": "d0e6bf85",
   "metadata": {},
   "source": [
    "Output: [‘a’,’b’] "
   ]
  },
  {
   "cell_type": "markdown",
   "id": "d210d4c3",
   "metadata": {},
   "source": [
    "#### Let's pretend bacon has the list [3.14, 'cat,' 11, 'cat,' True] for the next three questions. "
   ]
  },
  {
   "cell_type": "markdown",
   "id": "d6cae079",
   "metadata": {},
   "source": [
    "####  6. What is the value of bacon.index('cat')? "
   ]
  },
  {
   "cell_type": "markdown",
   "id": "41e7b650",
   "metadata": {},
   "source": [
    "#### Solution: "
   ]
  },
  {
   "cell_type": "markdown",
   "id": "d01597d3",
   "metadata": {},
   "source": [
    "Output: 1"
   ]
  },
  {
   "cell_type": "markdown",
   "id": "9c559803",
   "metadata": {},
   "source": [
    "#### 7. How does bacon.append(99) change the look of the list value in bacon? "
   ]
  },
  {
   "cell_type": "markdown",
   "id": "6eb54133",
   "metadata": {},
   "source": [
    "#### Solution: "
   ]
  },
  {
   "cell_type": "code",
   "execution_count": null,
   "id": "5876e825",
   "metadata": {},
   "outputs": [],
   "source": [
    "# It adds integer value 99 at the end of the list."
   ]
  },
  {
   "cell_type": "markdown",
   "id": "c9ce54ef",
   "metadata": {},
   "source": [
    "Output: [3.14, 'cat', 11, 'cat’, True, 99] "
   ]
  },
  {
   "cell_type": "markdown",
   "id": "7229b8e8",
   "metadata": {},
   "source": [
    "####  8. How does bacon.remove('cat') change the look of the list in bacon? "
   ]
  },
  {
   "cell_type": "markdown",
   "id": "f44bf1a4",
   "metadata": {},
   "source": [
    "#### Solution: "
   ]
  },
  {
   "cell_type": "code",
   "execution_count": null,
   "id": "62e21566",
   "metadata": {},
   "outputs": [],
   "source": [
    "# Removes the first appearing string value 'cat' from index 0 to n"
   ]
  },
  {
   "cell_type": "markdown",
   "id": "d6f61ddd",
   "metadata": {},
   "source": [
    "Output: [3.14, 11, 'cat', True, 99]"
   ]
  },
  {
   "cell_type": "markdown",
   "id": "75cdd2ca",
   "metadata": {},
   "source": [
    "#### 9. What are the list concatenation and list replication operators? "
   ]
  },
  {
   "cell_type": "markdown",
   "id": "0c33225d",
   "metadata": {},
   "source": [
    "#### Solution:"
   ]
  },
  {
   "cell_type": "markdown",
   "id": "de13950a",
   "metadata": {},
   "source": [
    "List concatenation – “+” \n",
    "\n",
    "This is used to combine the values present in two or more lists. \n",
    "\n",
    "For Example – \n",
    "\n",
    "List1 = [1,2,3,4,5]\n",
    "\n",
    "List2 = [6,7,8,9,10] \n",
    "\n",
    "List_concat = List1+List2 \n",
    "\n",
    "Print(List_concat) \n",
    "\n",
    "Output: \n",
    "\n",
    "[1,2,3,4,5,6,7,8,9,10] \n",
    "\n",
    "List Replication – “*” \n",
    "\n",
    "This is used to create a new list by repeating the elements of a list to mentioned amount of times. \n",
    "\n",
    "For Example – \n",
    "\n",
    "List1 = [1,2,3,4,5] \n",
    "\n",
    "List_Replicate = List1 * 2 \n",
    "\n",
    "Print(List_Replicate) \n",
    "\n",
    "Output: \n",
    "\n",
    "[1,2,3,4,5,1,2,3,4,5] "
   ]
  },
  {
   "cell_type": "markdown",
   "id": "25694ff8",
   "metadata": {},
   "source": [
    "#### 9. What is difference between the list methods append() and insert()?  "
   ]
  },
  {
   "cell_type": "markdown",
   "id": "2db01297",
   "metadata": {},
   "source": [
    "#### Solution: "
   ]
  },
  {
   "cell_type": "markdown",
   "id": "8f65533b",
   "metadata": {},
   "source": [
    "append() – append allows us to add a value at the end of the list \n",
    "\n",
    "insert() – insert allows us to add a value at desired index position "
   ]
  },
  {
   "cell_type": "markdown",
   "id": "23c6ec83",
   "metadata": {},
   "source": [
    "#### 10. What are the two methods for removing items from a list?  "
   ]
  },
  {
   "cell_type": "markdown",
   "id": "16ec0ce3",
   "metadata": {},
   "source": [
    "#### Solution: "
   ]
  },
  {
   "cell_type": "markdown",
   "id": "9078df79",
   "metadata": {},
   "source": [
    "remove() – remove allows us to remove items by value.\n",
    "\n",
    "pop() – pop allows us to remove items by index. "
   ]
  },
  {
   "cell_type": "markdown",
   "id": "880fe74c",
   "metadata": {},
   "source": [
    "#### 11. Describe how list values and string values are identical.  "
   ]
  },
  {
   "cell_type": "markdown",
   "id": "dd741af0",
   "metadata": {},
   "source": [
    "#### Solution:"
   ]
  },
  {
   "cell_type": "markdown",
   "id": "a807e957",
   "metadata": {},
   "source": [
    "Both lists and strings are stored in sequence. \n",
    "\n",
    "Both can be accessed using their index values/position. \n",
    "\n",
    "Both can be iterated using loops to access the values. \n",
    "\n",
    "We can check the length of list and a string using a method len(). \n",
    "\n",
    "For Example – \n",
    "\n",
    "List1 = [“Hello”,100,True,3.3] \n",
    "\n",
    "String1= ‘Hello World’ \n",
    "\n",
    "Print(List1[1]) \n",
    "\n",
    "Output: 100 \n",
    "\n",
    "Print(String1[1]) \n",
    "\n",
    "Output: e "
   ]
  },
  {
   "cell_type": "markdown",
   "id": "32af5df0",
   "metadata": {},
   "source": [
    "#### 12. What's the difference between tuples and lists?  "
   ]
  },
  {
   "cell_type": "markdown",
   "id": "a2eaa445",
   "metadata": {},
   "source": [
    "#### Solution: "
   ]
  },
  {
   "cell_type": "markdown",
   "id": "5c26acdc",
   "metadata": {},
   "source": [
    "Lists = Defined with square brackets “[]” \n",
    "\n",
    "Tuples = Defined with braces “()”\n",
    "\n",
    "Lists – Mutable \n",
    "\n",
    "Tuples - Immutable"
   ]
  },
  {
   "cell_type": "markdown",
   "id": "2395cde1",
   "metadata": {},
   "source": [
    "#### 13. How do you type a tuple value that only contains the integer 42?  "
   ]
  },
  {
   "cell_type": "markdown",
   "id": "a9410b27",
   "metadata": {},
   "source": [
    "#### Solution: "
   ]
  },
  {
   "cell_type": "markdown",
   "id": "0ac85024",
   "metadata": {},
   "source": [
    "tup_1 = (4) "
   ]
  },
  {
   "cell_type": "markdown",
   "id": "af91f5f2",
   "metadata": {},
   "source": [
    "#### 14. How do you get a list value's tuple form? How do you get a tuple value's list form?  "
   ]
  },
  {
   "cell_type": "markdown",
   "id": "6a0f1586",
   "metadata": {},
   "source": [
    "#### Solution: "
   ]
  },
  {
   "cell_type": "markdown",
   "id": "d567221c",
   "metadata": {},
   "source": [
    "tup_1 = tuple(list_1) \n",
    "\n",
    "list_1 = list(tup_1) "
   ]
  },
  {
   "cell_type": "markdown",
   "id": "887afcc8",
   "metadata": {},
   "source": [
    "#### 15. Variables that \"contain\" list values are not necessarily lists themselves. Instead, what do they contain?  "
   ]
  },
  {
   "cell_type": "markdown",
   "id": "0f99eefc",
   "metadata": {},
   "source": [
    "#### Solution: "
   ]
  },
  {
   "cell_type": "markdown",
   "id": "736cf7e4",
   "metadata": {},
   "source": [
    "Variables that \"contain\" list values are not necessarily lists themselves, instead they store a reference to the list in memory. \n",
    "\n",
    "For Example – \n",
    "\n",
    "List1 = [1,2,3,4,5] \n",
    "\n",
    "List2=List1 \n",
    "\n",
    "List1.append(6) \n",
    "\n",
    "Print(List1) \n",
    "\n",
    "Print(List2) \n",
    "\n",
    "Once we append a value into List1 it also updates List2 "
   ]
  },
  {
   "cell_type": "markdown",
   "id": "38b7aacd",
   "metadata": {},
   "source": [
    "#### 16. How do you distinguish between copy.copy() and copy.deepcopy()? "
   ]
  },
  {
   "cell_type": "markdown",
   "id": "214ab567",
   "metadata": {},
   "source": [
    "#### Solution: "
   ]
  },
  {
   "cell_type": "markdown",
   "id": "43e5bb72",
   "metadata": {},
   "source": [
    "copy.copy() – Shallow Copy \n",
    "\n",
    "A shallow copy doesn't create a copy of nested objects, instead it just copies the reference of nested objects. \n",
    "\n",
    "For Example – \n",
    "\n",
    "import copy \n",
    "\n",
    "old_list = [[1, 1, 1], [2, 2, 2], [3, 3, 3]] \n",
    "\n",
    "new_list = copy.copy(old_list) \n",
    "\n",
    "old_list[1][1] = 'AA' \n",
    "\n",
    "print(\"Old list:\", old_list) \n",
    "\n",
    "print(\"New list:\", new_list) \n",
    "\n",
    "Output: \n",
    "\n",
    "Old_list = [[1,1,1],[2,AA,2],[3,3,3]] \n",
    "\n",
    "New_list = [[1,1,1],[2,AA,2],[3,3,3]] \n",
    "\n",
    "Copy.deepcopy() – Deep Copy \n",
    "\n",
    "A deep copy creates independent copy of original object and all its nested objects. \n",
    "\n",
    "For Example – \n",
    "\n",
    "import copy \n",
    "\n",
    "old_list = [[1, 1, 1], [2, 2, 2], [3, 3, 3]] \n",
    "\n",
    "new_list = copy.deepcopy(old_list) \n",
    "\n",
    "old_list[1][1] = 'AA' \n",
    "\n",
    "print(\"Old list:\", old_list) \n",
    "\n",
    "print(\"New list:\", new_list) \n",
    "\n",
    "Output: \n",
    "\n",
    "Old_list = [[1,1,1],[2,AA,2],[3,3,3]] \n",
    "\n",
    "New_list = [[1,1,1],[2,2,2],[3,3,3]] "
   ]
  },
  {
   "cell_type": "code",
   "execution_count": null,
   "id": "5b5b73b7",
   "metadata": {},
   "outputs": [],
   "source": []
  }
 ],
 "metadata": {
  "kernelspec": {
   "display_name": "Python 3 (ipykernel)",
   "language": "python",
   "name": "python3"
  },
  "language_info": {
   "codemirror_mode": {
    "name": "ipython",
    "version": 3
   },
   "file_extension": ".py",
   "mimetype": "text/x-python",
   "name": "python",
   "nbconvert_exporter": "python",
   "pygments_lexer": "ipython3",
   "version": "3.10.9"
  }
 },
 "nbformat": 4,
 "nbformat_minor": 5
}
