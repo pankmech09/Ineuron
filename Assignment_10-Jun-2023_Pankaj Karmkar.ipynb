{
 "cells": [
  {
   "cell_type": "markdown",
   "id": "caeb5535",
   "metadata": {},
   "source": [
    "# Assignment - 10th June 2023"
   ]
  },
  {
   "cell_type": "markdown",
   "id": "28a22189",
   "metadata": {},
   "source": [
    "# Functions, Lambda Functions"
   ]
  },
  {
   "cell_type": "markdown",
   "id": "7eb3f50e",
   "metadata": {},
   "source": [
    "### 1. In Python, what is the difference between a built-in function and a user-defined function? Provide an example of each."
   ]
  },
  {
   "cell_type": "markdown",
   "id": "3e44729e",
   "metadata": {},
   "source": [
    "#### Solution:"
   ]
  },
  {
   "cell_type": "markdown",
   "id": "9813abc2",
   "metadata": {},
   "source": [
    "#### Built-in Functions:"
   ]
  },
  {
   "cell_type": "markdown",
   "id": "12a2c332",
   "metadata": {},
   "source": [
    "In Python, there are pre-defined functions readily available for use for which we don't need to code separately.\n",
    "Some of them are print(),input(),len() etc"
   ]
  },
  {
   "cell_type": "markdown",
   "id": "129a67d4",
   "metadata": {},
   "source": [
    "#### User-Defined Functions: "
   ]
  },
  {
   "cell_type": "markdown",
   "id": "9dcef109",
   "metadata": {},
   "source": [
    "These are the functions created by us to do our desired task.\n",
    "We can define the user-defined functions using 'def' followed by a function name and a parameter list (optional). Like the built-in functions we can use the user-defined functions multiple times in our program."
   ]
  },
  {
   "cell_type": "code",
   "execution_count": 2,
   "id": "a89fbedc",
   "metadata": {},
   "outputs": [
    {
     "name": "stdout",
     "output_type": "stream",
     "text": [
      "Enter your name :Pankaj\n",
      "Hello Pankaj\n"
     ]
    }
   ],
   "source": [
    "# Example - Built-in Functions\n",
    "\n",
    "name = input(\"Enter your name :\")   # built-in function input() is used here to get name from the user.\n",
    "\n",
    "print(\"Hello\",name)    # built-in function print() is used here to print/display the desired message."
   ]
  },
  {
   "cell_type": "code",
   "execution_count": 3,
   "id": "b57ef6cc",
   "metadata": {},
   "outputs": [
    {
     "name": "stdout",
     "output_type": "stream",
     "text": [
      "Good morning !!\n"
     ]
    }
   ],
   "source": [
    "# Example - User Defined Functions\n",
    "\n",
    "def greetings():    # Defined thge user-defined function using 'def' and function name.\n",
    "    print (\"Good morning !!\")   # Body of the function\n",
    "\n",
    "greetings()    # Calling the function"
   ]
  },
  {
   "cell_type": "markdown",
   "id": "5d67c1bf",
   "metadata": {},
   "source": [
    "### 2. How can you pass arguments to a function in Python? Explain the difference between positional arguments and keyword arguments.\n",
    " "
   ]
  },
  {
   "cell_type": "markdown",
   "id": "0ddaed58",
   "metadata": {},
   "source": [
    "#### Solution: "
   ]
  },
  {
   "cell_type": "markdown",
   "id": "fc08ef27",
   "metadata": {},
   "source": [
    "There are different ways we can pass arguments to a function in Python -\n",
    "1. Positional arguments\n",
    "2. Keyword arguments\n",
    "3. Default arguments\n",
    "\n",
    "Positional arguments - In this, we pass the arguments in sequence.\n",
    "The values are assigned to the functions parameters in the same order they are provided in the function call.\n",
    "\n",
    "Keyword arguments - In this, we pass the arguments using the parameter name explicitly along with their corresponding values using '=' sign.\n",
    "This allows fexibility in passing the arguments without necessarily being in order.\n",
    "\n",
    "Default arguments - This is a type of arguments for which a default value is provided in the function defintion.\n",
    "If the value for that argument is not provided during function call, then default value is used."
   ]
  },
  {
   "cell_type": "code",
   "execution_count": 8,
   "id": "7b773563",
   "metadata": {},
   "outputs": [],
   "source": [
    "# Positional arguments\n",
    "\n",
    "def employee_details(name,age,years_of_exp):\n",
    "    print(\"Hello\",name + \",\",\"your age is\",age,\"and\",\"having\",years_of_exp,\"Years of experience\")"
   ]
  },
  {
   "cell_type": "code",
   "execution_count": 10,
   "id": "a6973c5f",
   "metadata": {},
   "outputs": [
    {
     "name": "stdout",
     "output_type": "stream",
     "text": [
      "Hello Alice, your age is 25 and having 5 Years of experience\n"
     ]
    }
   ],
   "source": [
    "employee_details(\"Alice\",25,5)"
   ]
  },
  {
   "cell_type": "code",
   "execution_count": 11,
   "id": "dd26e123",
   "metadata": {},
   "outputs": [],
   "source": [
    "# Keyword arguments\n",
    "\n",
    "def employee_details(name,age,years_of_exp):\n",
    "    print(\"Hello\",name + \",\",\"your age is\",age,\"and\",\"having\",years_of_exp,\"Years of experience\")"
   ]
  },
  {
   "cell_type": "code",
   "execution_count": 12,
   "id": "9799d3d7",
   "metadata": {},
   "outputs": [
    {
     "name": "stdout",
     "output_type": "stream",
     "text": [
      "Hello Jason, your age is 30 and having 8 Years of experience\n"
     ]
    }
   ],
   "source": [
    "employee_details(name = \"Jason\",age = 30,years_of_exp = 8)"
   ]
  },
  {
   "cell_type": "code",
   "execution_count": null,
   "id": "11f6e729",
   "metadata": {},
   "outputs": [],
   "source": [
    "'''\n",
    "Second one, Keyword arguments look better as the chances of error in passing values in sequence is less compared to the\n",
    "positional arguments.\n",
    "\n",
    "'''"
   ]
  },
  {
   "cell_type": "markdown",
   "id": "6cd9a9d6",
   "metadata": {},
   "source": [
    "### 3 . What is the purpose of the return statement in a function? Can a function have multiple return statements? Explain with an example. "
   ]
  },
  {
   "cell_type": "markdown",
   "id": "4428648a",
   "metadata": {},
   "source": [
    "#### Solution: "
   ]
  },
  {
   "cell_type": "markdown",
   "id": "940fd334",
   "metadata": {},
   "source": [
    "The main purpose of return statement in a function is to provide the evaluated value when the function is called.\n",
    "For example -\n",
    "Lets say we have a function to calculate the sum of two numbers and the result is stored in a variable called 'result' inside that function. When we try to access the variable 'result' outside of the function it doesn't allow, as the scope of that variable was inside the function only. To access the value inside the variable 'result' we need to use return statement and return the value inside the variable 'result'."
   ]
  },
  {
   "cell_type": "code",
   "execution_count": 16,
   "id": "396e4ee2",
   "metadata": {},
   "outputs": [],
   "source": [
    "# Return Statement\n",
    "\n",
    "def sum_two_numbers(num1, num2):\n",
    "    result = num1 + num2\n",
    "    \n",
    "    return result"
   ]
  },
  {
   "cell_type": "code",
   "execution_count": 17,
   "id": "56c49841",
   "metadata": {},
   "outputs": [
    {
     "name": "stdout",
     "output_type": "stream",
     "text": [
      "15\n"
     ]
    }
   ],
   "source": [
    "Sum = sum_two_numbers(5,10) # assigning the result from the function to a new variable which can be used further in the program.\n",
    "print(Sum)"
   ]
  },
  {
   "cell_type": "markdown",
   "id": "f04ab3ae",
   "metadata": {},
   "source": [
    "A function can have multiple 'return' statements, but it can execute only one 'return' statement at a time. When a 'return' statement is executed it exits the function and returns the specified value, all other subsequent return statements in the function are not executed."
   ]
  },
  {
   "cell_type": "code",
   "execution_count": 18,
   "id": "d048e4bd",
   "metadata": {},
   "outputs": [],
   "source": [
    "# Example - Multiple return statements\n",
    "\n",
    "def grade(marks):\n",
    "    if marks >= 90:\n",
    "        return 'A'\n",
    "    elif marks >= 70 < 90:\n",
    "        return 'B'\n",
    "    elif marks >= 60 < 70:\n",
    "        return 'C'\n",
    "    elif marks >= 40 < 60: \n",
    "        return 'Passed'\n",
    "    else:\n",
    "        return 'Failed'"
   ]
  },
  {
   "cell_type": "code",
   "execution_count": 21,
   "id": "db9bd772",
   "metadata": {},
   "outputs": [
    {
     "data": {
      "text/plain": [
       "'Passed'"
      ]
     },
     "execution_count": 21,
     "metadata": {},
     "output_type": "execute_result"
    }
   ],
   "source": [
    "grade(40)"
   ]
  },
  {
   "cell_type": "markdown",
   "id": "3bbc67a3",
   "metadata": {},
   "source": [
    "### 4. What are lambda functions in Python? How are they different from regular functions? Provide an example where a lambda function can be useful. "
   ]
  },
  {
   "cell_type": "markdown",
   "id": "7a80cbc1",
   "metadata": {},
   "source": [
    "#### Solution:"
   ]
  },
  {
   "cell_type": "markdown",
   "id": "dd3fba0e",
   "metadata": {},
   "source": [
    "Lambda functions are also known anonymous functions which are used to create one-line functions without the need of using 'def' keyword. A lambda function can have any number of arguments but can have only single expression. When the lambda functions is invoked/called it returns the evaluated expression."
   ]
  },
  {
   "cell_type": "code",
   "execution_count": 22,
   "id": "ad272ae1",
   "metadata": {},
   "outputs": [
    {
     "data": {
      "text/plain": [
       "225"
      ]
     },
     "execution_count": 22,
     "metadata": {},
     "output_type": "execute_result"
    }
   ],
   "source": [
    "# For Example -\n",
    "\n",
    "square = lambda x: x ** 2 # lambda function evaluating square of a number\n",
    "\n",
    "square(15)"
   ]
  },
  {
   "cell_type": "markdown",
   "id": "f941292c",
   "metadata": {},
   "source": [
    "Main difference between a lambda function and a regular function is that a lambda function can have only a single expression whereas regular function can have more than one complex expressions comprising of loops, if-else conditions etc. Lambda functions are best suited for simple, short-lived tasks where we need concise and immediate definition."
   ]
  },
  {
   "cell_type": "code",
   "execution_count": 27,
   "id": "30641f55",
   "metadata": {},
   "outputs": [
    {
     "name": "stdout",
     "output_type": "stream",
     "text": [
      "['HP', 'Dell', 'Asus', 'Lenovo', 'Macbook', 'Sony Vaio']\n"
     ]
    }
   ],
   "source": [
    "# For Example -\n",
    "\n",
    "computer_brands = [\"Dell\",\"Lenovo\",\"Macbook\",\"Asus\",\"HP\",\"Sony Vaio\"]\n",
    "\n",
    "computer_brands.sort(key = lambda x:len(x))  # Sorting based on the length of the computer name strings \n",
    "\n",
    "print(computer_brands)"
   ]
  },
  {
   "cell_type": "markdown",
   "id": "b90702de",
   "metadata": {},
   "source": [
    "### 5.  How does the concept of \"scope\" apply to functions in Python? Explain the difference between local scope and global scope. "
   ]
  },
  {
   "cell_type": "markdown",
   "id": "7d1dfb1c",
   "metadata": {},
   "source": [
    "#### Solution -"
   ]
  },
  {
   "cell_type": "markdown",
   "id": "1de91507",
   "metadata": {},
   "source": [
    "'Scope' refers to visibility and accessibility of variables within different parts of a program.\n",
    "\n",
    "When it comes to functions, we have local scope and global scope.\n",
    "\n",
    "Local Scope - Variables defined inside a function have local scope. They can be accessed only within that function, cannot be accessed outside of that function.\n",
    "\n",
    "Global Scope - Variables defined outside of functions have a global scope. They can be accessed from anywhere in the code including within functions. If we wish to modify a global variable from within a function we have to use 'global' keyword to explicitly indicate that we want to use the global variable and not create a new local variable."
   ]
  },
  {
   "cell_type": "code",
   "execution_count": 40,
   "id": "114cc777",
   "metadata": {},
   "outputs": [
    {
     "name": "stdout",
     "output_type": "stream",
     "text": [
      "Before modifying a global variable: 10\n"
     ]
    }
   ],
   "source": [
    "x = 10  # Global Variable\n",
    "\n",
    "def local_global():\n",
    "    print('Before modifying a global variable:',x)\n",
    "    #x += 10  # This expression will result in Error, we cannot modify a global variable within a function, refer next code\n",
    "    #print('After Modifying a global variable:',x)\n",
    "\n",
    "local_global()"
   ]
  },
  {
   "cell_type": "code",
   "execution_count": 32,
   "id": "c27b3037",
   "metadata": {},
   "outputs": [
    {
     "name": "stdout",
     "output_type": "stream",
     "text": [
      "20\n"
     ]
    }
   ],
   "source": [
    "# Modifying a global variable\n",
    "x = 15\n",
    "\n",
    "def local_global():\n",
    "    \n",
    "    global x  # accessing the global varible within a function    \n",
    "    x +=5  # Modifying the global variable\n",
    "    print(x)\n",
    "    \n",
    "local_global()"
   ]
  },
  {
   "cell_type": "markdown",
   "id": "8685d101",
   "metadata": {},
   "source": [
    "### 6. How can you use the \"return\" statement in a Python function to return multiple values?"
   ]
  },
  {
   "cell_type": "markdown",
   "id": "b45a86c3",
   "metadata": {},
   "source": [
    "#### Solution: "
   ]
  },
  {
   "cell_type": "markdown",
   "id": "9711a805",
   "metadata": {},
   "source": [
    "A 'return' statement is used to specify the value or values that the function should evaluate and produce a result when the function is invoked or called."
   ]
  },
  {
   "cell_type": "code",
   "execution_count": 48,
   "id": "27a6adbc",
   "metadata": {},
   "outputs": [
    {
     "name": "stdout",
     "output_type": "stream",
     "text": [
      "Enter the first number20\n",
      "Enter the second number10\n",
      "(30, 10, 200, 2.0)\n",
      "Sum of two entered numbers: 30\n",
      "Difference of two entered numbers: 10\n",
      "Product of two entered numbers: 200\n",
      "Quotient of two entered numbers: 2.0\n"
     ]
    }
   ],
   "source": [
    "def my_calculator():\n",
    "    num1 = int(input(\"Enter the first number\"))\n",
    "    num2 = int(input(\"Enter the second number\"))\n",
    "    \n",
    "    add = num1+num2\n",
    "    sub = num1-num2\n",
    "    mul = num1*num2\n",
    "    div = num1/num2\n",
    "    \n",
    "    # returning multiple values using a dictionary\n",
    "    #return {\"addition\":add,\"substraction\":sub,\"product\":mul,\"division\":div}\n",
    "\n",
    "    # returning multiple values using a list\n",
    "    #return [add,sub,mul,div]\n",
    "    \n",
    "    # returning multiple values using a tuple\n",
    "    return add,sub,mul,div\n",
    "    \n",
    "results = my_calculator()\n",
    "print(results)\n",
    "#print(\"Sum of two entered numbers:\",results[\"addition\"])\n",
    "print(\"Sum of two entered numbers:\",results[0])\n",
    "#print(\"Difference of two entered numbers:\",results[\"substraction\"])\n",
    "print(\"Difference of two entered numbers:\",results[1])\n",
    "#print(\"Product of two entered numbers:\",results[\"product\"])\n",
    "print(\"Product of two entered numbers:\",results[2])\n",
    "#print(\"Quotient of two entered numbers:\",results[\"division\"])\n",
    "print(\"Quotient of two entered numbers:\",results[3])"
   ]
  },
  {
   "cell_type": "markdown",
   "id": "2e2cefce",
   "metadata": {},
   "source": [
    "### 7. What is the difference between the \"pass by value\" and \"pass by reference\" concepts when it comes to function arguments in Python?\n"
   ]
  },
  {
   "cell_type": "markdown",
   "id": "74f7683a",
   "metadata": {},
   "source": [
    "#### Solution:"
   ]
  },
  {
   "cell_type": "markdown",
   "id": "8eb35ebe",
   "metadata": {},
   "source": [
    "In Python, we don't have to think about pass by value and pass by reference as it does that automatically for us. If the argument passed is immutable then it follows pass by value, else if the argument is mutable then it follows pass by reference."
   ]
  },
  {
   "cell_type": "code",
   "execution_count": 5,
   "id": "dc7ddaff",
   "metadata": {},
   "outputs": [
    {
     "name": "stdout",
     "output_type": "stream",
     "text": [
      "Before function call, num: 10\n",
      "In function, num: 30\n",
      "After function call, num: 10\n"
     ]
    }
   ],
   "source": [
    "# Pass by Value method:\n",
    "\n",
    "def change_value(x):\n",
    "    x += 20\n",
    "    print('In function, num:',x)\n",
    "\n",
    "    \n",
    "num = 10\n",
    "print('Before function call, num:',num)\n",
    "change_value(num)\n",
    "print('After function call, num:',num)"
   ]
  },
  {
   "cell_type": "code",
   "execution_count": 6,
   "id": "9c7acb39",
   "metadata": {},
   "outputs": [
    {
     "name": "stdout",
     "output_type": "stream",
     "text": [
      "Before function call, num: [10]\n",
      "In function, num: [10, 20]\n",
      "After function call, num: [10, 20]\n"
     ]
    }
   ],
   "source": [
    "# Pass by Reference method:\n",
    "\n",
    "def change_value(x):\n",
    "    x += [20]\n",
    "    print('In function, num:',x)\n",
    "\n",
    "num = [10]\n",
    "print('Before function call, num:',num)\n",
    "change_value(num)\n",
    "print('After function call, num:',num)"
   ]
  },
  {
   "cell_type": "markdown",
   "id": "d23213a4",
   "metadata": {},
   "source": [
    "### 8. Create a function that can intake integer or decimal value and do following operations:\n",
    "a. Logarithmic function (log x)\n",
    "b. Exponential function (exp(x))\n",
    "c. Power function with base 2 (2\n",
    "x\n",
    ")\n",
    "d. Square root"
   ]
  },
  {
   "cell_type": "markdown",
   "id": "6d33463e",
   "metadata": {},
   "source": [
    "#### Solution: "
   ]
  },
  {
   "cell_type": "code",
   "execution_count": 7,
   "id": "3e1370c4",
   "metadata": {},
   "outputs": [],
   "source": [
    "# a. Logarithmic Function\n",
    "import math"
   ]
  },
  {
   "cell_type": "code",
   "execution_count": 8,
   "id": "faffec68",
   "metadata": {},
   "outputs": [],
   "source": [
    "def log_func(num,base = 10):\n",
    "    result = math.log(num,10)\n",
    "    print(\"Logarithm of\",num,\"to the base 10 is:\",result)"
   ]
  },
  {
   "cell_type": "code",
   "execution_count": 10,
   "id": "f58f2912",
   "metadata": {},
   "outputs": [
    {
     "name": "stdout",
     "output_type": "stream",
     "text": [
      "Logarithm of 1000 to the base 10 is: 2.9999999999999996\n"
     ]
    }
   ],
   "source": [
    "log_func(1000)"
   ]
  },
  {
   "cell_type": "code",
   "execution_count": 12,
   "id": "ae835182",
   "metadata": {},
   "outputs": [],
   "source": [
    "# b. Exponential Function\n",
    "\n",
    "import math"
   ]
  },
  {
   "cell_type": "code",
   "execution_count": 17,
   "id": "b2a6bbca",
   "metadata": {},
   "outputs": [],
   "source": [
    "def exp_func(num):\n",
    "    result = math.exp(num)\n",
    "    print(\"\\'e' raised to the power of\",num,\"is:\",result)"
   ]
  },
  {
   "cell_type": "code",
   "execution_count": 18,
   "id": "d9e9bf35",
   "metadata": {},
   "outputs": [
    {
     "name": "stdout",
     "output_type": "stream",
     "text": [
      "'e' raised to the power of 3 is: 20.085536923187668\n"
     ]
    }
   ],
   "source": [
    "exp_func(3)"
   ]
  },
  {
   "cell_type": "code",
   "execution_count": 19,
   "id": "eeb8aa93",
   "metadata": {},
   "outputs": [],
   "source": [
    "# c. Power function with base 2 (2^x)"
   ]
  },
  {
   "cell_type": "code",
   "execution_count": 22,
   "id": "eed093fa",
   "metadata": {},
   "outputs": [],
   "source": [
    "def power_func(num):\n",
    "    result = 2 ** num\n",
    "    print(\"2 raised to the power:\",num,\"is:\",result)"
   ]
  },
  {
   "cell_type": "code",
   "execution_count": 23,
   "id": "253d1244",
   "metadata": {},
   "outputs": [
    {
     "name": "stdout",
     "output_type": "stream",
     "text": [
      "2 raised to the power: 10 is: 1024\n"
     ]
    }
   ],
   "source": [
    "power_func(10)"
   ]
  },
  {
   "cell_type": "code",
   "execution_count": 24,
   "id": "efaadf7b",
   "metadata": {},
   "outputs": [],
   "source": [
    "# d. Square Root\n",
    "\n",
    "import math"
   ]
  },
  {
   "cell_type": "code",
   "execution_count": 25,
   "id": "7841a213",
   "metadata": {},
   "outputs": [],
   "source": [
    "def square_root(num):\n",
    "    result = num ** 0.5\n",
    "    print(\"Square root of\",num,\"is:\",result)"
   ]
  },
  {
   "cell_type": "code",
   "execution_count": 28,
   "id": "40db9038",
   "metadata": {},
   "outputs": [
    {
     "name": "stdout",
     "output_type": "stream",
     "text": [
      "Square root of 121 is: 11.0\n"
     ]
    }
   ],
   "source": [
    "square_root(121)"
   ]
  },
  {
   "cell_type": "markdown",
   "id": "ea7b19ae",
   "metadata": {},
   "source": [
    "### 9. Create a function that takes a full name as an argument and returns first name and last name. "
   ]
  },
  {
   "cell_type": "markdown",
   "id": "f82c7716",
   "metadata": {},
   "source": [
    "#### Solution: "
   ]
  },
  {
   "cell_type": "code",
   "execution_count": 41,
   "id": "36e65af3",
   "metadata": {},
   "outputs": [],
   "source": [
    "def name_separator():\n",
    "    #Taking input from the user and space defines the separation between first name and last name\n",
    "    full_name = input(\"Enter your full name with a space between first name and last name\")    \n",
    "    \n",
    "    index_of_separator = full_name.index(\" \")\n",
    "    first_name = full_name[:index_of_separator]\n",
    "    last_name = full_name[(index_of_separator+1):]\n",
    "    \n",
    "    print(\"Your first name is:\",first_name.capitalize())\n",
    "    print(\"Your last name is:\",last_name.capitalize())   "
   ]
  },
  {
   "cell_type": "code",
   "execution_count": 42,
   "id": "e8402991",
   "metadata": {},
   "outputs": [
    {
     "name": "stdout",
     "output_type": "stream",
     "text": [
      "Enter your full name with a space between first name and last namesAchin tEnDULkar\n",
      "Your first name is: Sachin\n",
      "Your last name is: Tendulkar\n"
     ]
    }
   ],
   "source": [
    "name_separator()"
   ]
  },
  {
   "cell_type": "code",
   "execution_count": null,
   "id": "501655c4",
   "metadata": {},
   "outputs": [],
   "source": []
  }
 ],
 "metadata": {
  "kernelspec": {
   "display_name": "Python 3 (ipykernel)",
   "language": "python",
   "name": "python3"
  },
  "language_info": {
   "codemirror_mode": {
    "name": "ipython",
    "version": 3
   },
   "file_extension": ".py",
   "mimetype": "text/x-python",
   "name": "python",
   "nbconvert_exporter": "python",
   "pygments_lexer": "ipython3",
   "version": "3.10.9"
  }
 },
 "nbformat": 4,
 "nbformat_minor": 5
}
