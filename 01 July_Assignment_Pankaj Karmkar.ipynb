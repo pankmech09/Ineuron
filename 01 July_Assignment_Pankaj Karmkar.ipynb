{
 "cells": [
  {
   "cell_type": "markdown",
   "id": "4796ec25",
   "metadata": {},
   "source": [
    "# Object Oriented Programming (OOP) using Python"
   ]
  },
  {
   "cell_type": "markdown",
   "id": "7477cc4a",
   "metadata": {},
   "source": [
    "#### 1.  What is the primary goal of Object-Oriented Programming (OOP)?"
   ]
  },
  {
   "cell_type": "markdown",
   "id": "b44f460e",
   "metadata": {},
   "source": [
    "The primary goal of OOPS is to solve the real world complex software systems in a more structured and organised way by representing real-world entities as objects. In this style of programming we create a template/blueprint and create copies from that template/buleprint. The template/blueprint is known as \"Class\" where as the copies are known as \"Object\".\n",
    "\n",
    "The four pillars of OOPS are -\n",
    "1. Abstraction - Hiding the implementation. The user only knows \"what it does\" rather than \"how it does\".\n",
    "2. Encapsulation - Method of restricting access to our data by access modifiers - Public, Protected and Private.\n",
    "3. Inheritance - Inheriting properties and methods from parent class to child class.\n",
    "4. Polymorphism - Ability to perform many things in many ways. This allows us to define methods in the child class with the same name as defined in their parent class."
   ]
  },
  {
   "cell_type": "markdown",
   "id": "0cc9a190",
   "metadata": {},
   "source": [
    "#### 2. What is an object in Python?"
   ]
  },
  {
   "cell_type": "markdown",
   "id": "e4cffdb7",
   "metadata": {},
   "source": [
    "Objects are real world entities. Anything you can describe in this world is an object.\n",
    "Any object has its own state and behaviour.\n",
    "OR, we can say -\n",
    "Any object is simply a collection of data(variables) and methods(functions). So, on a similar note, Class is a blueprint for that object. For Example -\n",
    "Car can be a class and Black Hyundai Creta, Night Blue Ford Figo, Grey Honda City are objects of class \"Car\"."
   ]
  },
  {
   "cell_type": "markdown",
   "id": "1bc5ad72",
   "metadata": {},
   "source": [
    "#### 3.  What is a class in Python?"
   ]
  },
  {
   "cell_type": "markdown",
   "id": "b5328972",
   "metadata": {},
   "source": [
    "Class is a short form of classification. It is a classification of certain objects and it is just a description of the properties and behaviour all objects of that classification should possess."
   ]
  },
  {
   "cell_type": "code",
   "execution_count": null,
   "id": "4771a749",
   "metadata": {},
   "outputs": [],
   "source": [
    "#For Example -"
   ]
  },
  {
   "cell_type": "markdown",
   "id": "b166486b",
   "metadata": {},
   "source": [
    "Class is like a recipe and the object is like the cupcake we bake using it. All cupcakes created from the recipe share similar characteristics like shape,sweetness,etc. But they are all unique also. One cupcake may have vanilla flavour while the other may have strawberry flavour. Similarly, objects of a class share similar characteristics but they differ in their values for those characteristics."
   ]
  },
  {
   "cell_type": "markdown",
   "id": "4660e983",
   "metadata": {},
   "source": [
    "#### 4.  What are attributes and methods in a class?"
   ]
  },
  {
   "cell_type": "markdown",
   "id": "5dff351b",
   "metadata": {},
   "source": [
    "Any variable that is bound in a class is a class attribute. Any function defined within a class is a method. Methods receive an instance of the class, conventionally called self, as the first argument. For Example -"
   ]
  },
  {
   "cell_type": "code",
   "execution_count": 53,
   "id": "ef5f637d",
   "metadata": {},
   "outputs": [],
   "source": [
    "class MyClass:\n",
    "    attr1 = 10           #class attributes\n",
    "    attr2 = \"Hello\"\n",
    "    \n",
    "    def method1(self):   #class method \n",
    "        print(f\"Attribute 1: {self.attr1}\")   #reference the class attribute 'attr1'\n",
    "    \n",
    "    def method2(self):   #class method\n",
    "        print(f\"{self.attr2} World\")  #reference the class attribute 'attr2'"
   ]
  },
  {
   "cell_type": "markdown",
   "id": "e5cc4c55",
   "metadata": {},
   "source": [
    "#### 5. What is the difference between class variables and instance variables in Python?"
   ]
  },
  {
   "cell_type": "markdown",
   "id": "4f691619",
   "metadata": {},
   "source": [
    "Class variables are defined within the class scope but outside of any methods. They are shared among all instances of the class.\n",
    "They can be accessed and mofified using either the class name or an instance of the class. When modified using one instance, the change is reflected in all instances as well as the class itself. Class variables are commonly used to store data that is shared among all instances of a class. They represent attributes or characteristics that are common to the class as a whole."
   ]
  },
  {
   "cell_type": "markdown",
   "id": "63452691",
   "metadata": {},
   "source": [
    "Instance variables are defined within a class's method or class's __init__ method. They are unique to each instance of the class. They are accessed and modified using an instance of the class. Each instance maintains its own copy of instance variables, allowing them to have different values across different instances. Instance variables are used to store data that is unique to each instance of a class. They represent the specific attributes or state of individual objects created from the class."
   ]
  },
  {
   "cell_type": "code",
   "execution_count": 18,
   "id": "08f75e1c",
   "metadata": {},
   "outputs": [],
   "source": [
    "# For Example -\n",
    "\n",
    "class MyClass:\n",
    "    class_var = \"Class Variable\"\n",
    "    \n",
    "    def __init__(self,instance_var):\n",
    "        self.instance_var = instance_var"
   ]
  },
  {
   "cell_type": "code",
   "execution_count": 19,
   "id": "573cf02e",
   "metadata": {},
   "outputs": [],
   "source": [
    "Object_1 = MyClass(\"Instance Variable - 1\")\n",
    "Object_2 = MyClass(\"Instance Variable - 2\")"
   ]
  },
  {
   "cell_type": "code",
   "execution_count": 20,
   "id": "ee116c35",
   "metadata": {},
   "outputs": [
    {
     "name": "stdout",
     "output_type": "stream",
     "text": [
      "Class Variable\n"
     ]
    }
   ],
   "source": [
    "#Accessing Class Variable\n",
    "\n",
    "print(MyClass.class_var)"
   ]
  },
  {
   "cell_type": "code",
   "execution_count": 21,
   "id": "099c3009",
   "metadata": {},
   "outputs": [
    {
     "name": "stdout",
     "output_type": "stream",
     "text": [
      "Instance Variable - 1\n",
      "Instance Variable - 2\n"
     ]
    }
   ],
   "source": [
    "#Accessing Instance Variable\n",
    "\n",
    "print(Object_1.instance_var)\n",
    "print(Object_2.instance_var)"
   ]
  },
  {
   "cell_type": "code",
   "execution_count": 23,
   "id": "9a8603a7",
   "metadata": {},
   "outputs": [
    {
     "name": "stdout",
     "output_type": "stream",
     "text": [
      "Modified Class Variable\n",
      "Modified Class Variable\n"
     ]
    }
   ],
   "source": [
    "#Modifying Class Variable\n",
    "\n",
    "MyClass.class_var = \"Modified Class Variable\"\n",
    "print(MyClass.class_var)\n",
    "print(Object_1.class_var)"
   ]
  },
  {
   "cell_type": "code",
   "execution_count": 24,
   "id": "c45b06a0",
   "metadata": {},
   "outputs": [
    {
     "name": "stdout",
     "output_type": "stream",
     "text": [
      "Modified Instance Variable - 1\n",
      "Instance Variable - 2\n"
     ]
    }
   ],
   "source": [
    "#Modifying Instance Variable\n",
    "\n",
    "Object_1.instance_var = \"Modified Instance Variable - 1\"\n",
    "print(Object_1.instance_var)\n",
    "print(Object_2.instance_var)"
   ]
  },
  {
   "cell_type": "markdown",
   "id": "6d290cc1",
   "metadata": {},
   "source": [
    "#### 6. What is the purpose of the self parameter in Python class methods?"
   ]
  },
  {
   "cell_type": "markdown",
   "id": "a52f333b",
   "metadata": {},
   "source": [
    "'self' parameter serves the reference to the instance of the class. The main purpose of 'self' is to give methods access to the attributes and methods of the particular instance on which the method is called/invoked. When a method is called on an instance, the instance itself is automatically passed as the first argument to the method. This allows the method to interact and manipulate the instance's data. It is a convention to use 'self' for naming the first parameter of the instance methods, although we can use any valid name."
   ]
  },
  {
   "cell_type": "code",
   "execution_count": 25,
   "id": "1fb03b50",
   "metadata": {},
   "outputs": [],
   "source": [
    "# For Example -\n",
    "\n",
    "class MyClass:\n",
    "    def __init__(self,inst_var):\n",
    "        self.inst_var = inst_var\n",
    "    \n",
    "    def display(self):\n",
    "        print(self.inst_var)\n",
    "\n",
    "    def update(self,value):\n",
    "        self.inst_var = value"
   ]
  },
  {
   "cell_type": "code",
   "execution_count": 27,
   "id": "188d5baa",
   "metadata": {},
   "outputs": [
    {
     "name": "stdout",
     "output_type": "stream",
     "text": [
      "Hello\n",
      "Hello World !\n"
     ]
    }
   ],
   "source": [
    "# Creating an instance of MyClass\n",
    "Object = MyClass(\"Hello\")\n",
    "\n",
    "# Call instance methods using the self parameter\n",
    "Object.display()\n",
    "Object.update(\"Hello World !\")\n",
    "Object.display()"
   ]
  },
  {
   "cell_type": "markdown",
   "id": "8feb62f8",
   "metadata": {},
   "source": [
    "#### 7. For a library management system, you have to design the \"Book\" class with OOP principles in mind. The “Book” class will have following attributes:\n",
    "a. title: Represents the title of the book.\n",
    "b. author: Represents the author(s) of the book.\n",
    "c. isbn: Represents the ISBN (International Standard Book Number) of the book.\n",
    "d. publication_year: Represents the year of publication of the book.\n",
    "e. available_copies: Represents the number of copies available for checkout.\n",
    "The class will also include the following methods:\n",
    "a. check_out(self): Decrements the available copies by one if there are copies\n",
    "available for checkout.\n",
    "b. return_book(self): Increments the available copies by one when a book is\n",
    "returned.\n",
    "c. display_book_info(self): Displays the information about the book, including its\n",
    "attributes and the number of available copies.\n"
   ]
  },
  {
   "cell_type": "code",
   "execution_count": 37,
   "id": "255e5e0f",
   "metadata": {},
   "outputs": [],
   "source": [
    "class Book:\n",
    "    def __init__(self,title,author,isbn,publication_year,available_copies):\n",
    "        self.title = title\n",
    "        self.author = author\n",
    "        self.isbn = isbn\n",
    "        self.publication_year = publication_year\n",
    "        self.available_copies = available_copies\n",
    "        \n",
    "    def check_out(self):\n",
    "        if self.available_copies == 0:\n",
    "            print(\"SORRY, no available copies in the library\")\n",
    "            print(\"-----------------------------------------------------------------\")\n",
    "        else:\n",
    "            self.available_copies -= 1\n",
    "            print(\"Book successfully checked out\")\n",
    "            print(f\"Available Copies : {self.available_copies}\")\n",
    "            print(\"-----------------------------------------------------------------\")\n",
    "    \n",
    "    def return_book(self):\n",
    "        self.available_copies += 1\n",
    "        print(\"Book successfully returned\")\n",
    "        print(f\"Available Copies : {self.available_copies}\")\n",
    "        print(\"-----------------------------------------------------------------\")\n",
    "    \n",
    "    def display_book_info(self):\n",
    "        print(f\"Title : {self.title}\")\n",
    "        print(f\"Author : {self.author}\")\n",
    "        print(f\"ISBN : {self.isbn}\")\n",
    "        print(f\"Publication Year : {self.publication_year}\")\n",
    "        print(f\"Available Copies: {self.available_copies}\")\n",
    "        print(\"-----------------------------------------------------------------\")"
   ]
  },
  {
   "cell_type": "code",
   "execution_count": 39,
   "id": "2209f559",
   "metadata": {},
   "outputs": [
    {
     "name": "stdout",
     "output_type": "stream",
     "text": [
      "Book successfully checked out\n",
      "Available Copies : 0\n",
      "-----------------------------------------------------------------\n",
      "SORRY, no available copies in the library\n",
      "-----------------------------------------------------------------\n",
      "Title : Learning Python\n",
      "Author : Mark Lutz\n",
      "ISBN : 12311223344\n",
      "Publication Year : 2009\n",
      "Available Copies: 0\n",
      "-----------------------------------------------------------------\n",
      "Book successfully returned\n",
      "Available Copies : 1\n",
      "-----------------------------------------------------------------\n",
      "Title : Learning Python\n",
      "Author : Mark Lutz\n",
      "ISBN : 12311223344\n",
      "Publication Year : 2009\n",
      "Available Copies: 1\n",
      "-----------------------------------------------------------------\n"
     ]
    }
   ],
   "source": [
    "book_001 = Book(\"Learning Python\",\"Mark Lutz\",\"12311223344\",\"2009\",1)\n",
    "book_001.check_out()\n",
    "book_001.check_out()\n",
    "book_001.display_book_info()\n",
    "book_001.return_book()\n",
    "book_001.display_book_info()"
   ]
  },
  {
   "cell_type": "markdown",
   "id": "7c4acf72",
   "metadata": {},
   "source": [
    "#### 8. For a ticket booking system, you have to design the \"Ticket\" class with OOP principles in mind. The “Ticket” class should have the following attributes:"
   ]
  },
  {
   "cell_type": "code",
   "execution_count": null,
   "id": "854ae971",
   "metadata": {},
   "outputs": [],
   "source": [
    "# a. ticket_id: Represents the unique identifier for the ticket.\n",
    "# b. event_name: Represents the name of the event.\n",
    "# c. event_date: Represents the date of the event.\n",
    "# d. venue: Represents the venue of the event.\n",
    "# e. seat_number: Represents the seat number associated with the ticket.\n",
    "# f. price: Represents the price of the ticket.\n",
    "# g. is_reserved: Represents the reservation status of the ticket."
   ]
  },
  {
   "cell_type": "code",
   "execution_count": null,
   "id": "3fedddbf",
   "metadata": {},
   "outputs": [],
   "source": [
    "# The class also includes the following methods:\n",
    "# a. reserve_ticket(self): Marks the ticket as reserved if it is not already reserved.\n",
    "# b. cancel_reservation(self): Cancels the reservation of the ticket if it is already reserved.\n",
    "# c. display_ticket_info(self): Displays the information about the ticket, including its attributes and reservation status."
   ]
  },
  {
   "cell_type": "code",
   "execution_count": 50,
   "id": "f05edc40",
   "metadata": {},
   "outputs": [],
   "source": [
    "class Ticket:\n",
    "    def __init__(self,ticket_id,event_name,event_date,venue,seat_number,price,is_reserved = False):\n",
    "        self.ticket_id = ticket_id\n",
    "        self.event_name = event_name\n",
    "        self.event_date = event_date\n",
    "        self.venue = venue\n",
    "        self.seat_number = seat_number\n",
    "        self.price = price\n",
    "        self.is_reserved = is_reserved\n",
    "    \n",
    "    def reserve_ticket(self):\n",
    "        if not self.is_reserved:\n",
    "            self.is_reserved = True\n",
    "            print(\"Ticket Reserved Successfully !\")\n",
    "            print(\"----------------------------------------------\")\n",
    "        else:\n",
    "            print(\"Ticket already reserved\")\n",
    "            print(\"----------------------------------------------\")\n",
    "    \n",
    "    def cancel_reservation(self):\n",
    "        if self.is_reserved:\n",
    "            self.is_reserved = False\n",
    "            print(\"Ticket cancelled Successfully !\")\n",
    "            print(\"----------------------------------------------\")\n",
    "        else:\n",
    "            print(\"Ticket not reserved\")\n",
    "            print(\"----------------------------------------------\")\n",
    "            \n",
    "    def display_ticket_info(self):\n",
    "        print(\"Ticket Information :\")\n",
    "        print(\"----------------------------------------------\")\n",
    "        print(f\"Ticket ID: {self.ticket_id}\")\n",
    "        print(f\"Event Name: {self.event_name}\")\n",
    "        print(f\"Event Date: {self.event_date}\")\n",
    "        print(f\"Venue: {self.venue}\")\n",
    "        print(f\"Seat_number: {self.seat_number}\")\n",
    "        print(f\"Price: {self.price}\")\n",
    "        if self.is_reserved:\n",
    "            print(\"Reservation Status: Reserved\")\n",
    "        else:\n",
    "            print(\"Reservation Status: No Reservation Found\")\n",
    "        print(\"----------------------------------------------\")"
   ]
  },
  {
   "cell_type": "code",
   "execution_count": 52,
   "id": "0076d417",
   "metadata": {},
   "outputs": [
    {
     "name": "stdout",
     "output_type": "stream",
     "text": [
      "Ticket Reserved Successfully !\n",
      "----------------------------------------------\n",
      "Ticket Information :\n",
      "----------------------------------------------\n",
      "Ticket ID: 1001\n",
      "Event Name: Fashion Show\n",
      "Event Date: 07-07-2023\n",
      "Venue: Auditorium\n",
      "Seat_number: E10\n",
      "Price: 100.0\n",
      "Reservation Status: Reserved\n",
      "----------------------------------------------\n",
      "Ticket cancelled Successfully !\n",
      "----------------------------------------------\n",
      "Ticket Information :\n",
      "----------------------------------------------\n",
      "Ticket ID: 1001\n",
      "Event Name: Fashion Show\n",
      "Event Date: 07-07-2023\n",
      "Venue: Auditorium\n",
      "Seat_number: E10\n",
      "Price: 100.0\n",
      "Reservation Status: No Reservation Found\n",
      "----------------------------------------------\n"
     ]
    }
   ],
   "source": [
    "Ticket1 = Ticket(1001,\"Fashion Show\",\"07-07-2023\",\"Auditorium\",\"E10\",100.0)\n",
    "Ticket1.reserve_ticket()\n",
    "Ticket1.display_ticket_info()\n",
    "Ticket1.cancel_reservation()\n",
    "Ticket1.display_ticket_info()"
   ]
  },
  {
   "cell_type": "markdown",
   "id": "5918e632",
   "metadata": {},
   "source": [
    "#### 9. You are creating a shopping cart for an e-commerce website. Using OOP to model the \"ShoppingCart\" functionality the class should contain following attributes and methods:"
   ]
  },
  {
   "cell_type": "code",
   "execution_count": null,
   "id": "06dde6bd",
   "metadata": {},
   "outputs": [],
   "source": [
    "# a. items: Represents the list of items in the shopping cart.\n",
    "\n",
    "# The class also includes the following methods:\n",
    "# a. add_item(self, item): Adds an item to the shopping cart by appending it to the list of items.\n",
    "# b. remove_item(self, item): Removes an item from the shopping cart if it exists in the list.\n",
    "# c. view_cart(self): Displays the items currently present in the shopping cart.\n",
    "# d. clear_cart(self): Clears all items from the shopping cart by reassigning an empty list to the items attribute."
   ]
  },
  {
   "cell_type": "code",
   "execution_count": 90,
   "id": "761ddab0",
   "metadata": {},
   "outputs": [],
   "source": [
    "class ShoppingCart:\n",
    "    def __init__(self,items=[]):\n",
    "        self.items = items\n",
    "    \n",
    "    def add_item(self,item):\n",
    "        self.items.append(item)\n",
    "        print(f\"{item} added successfully to the cart\")\n",
    "        print(\"------------------------------------------------------\")\n",
    "    \n",
    "    def remove_item(self,item):\n",
    "        if item in self.items:\n",
    "            self.items.remove(item)\n",
    "            print(f\"{item} removed successfully from the cart\")\n",
    "            print(\"------------------------------------------------------\")\n",
    "        else:\n",
    "            print(f\"{item} not found in the cart\")\n",
    "            print(\"------------------------------------------------------\")\n",
    "    \n",
    "    def view_cart(self):\n",
    "        print(f\"List of items in the cart :\")\n",
    "        if len(self.items) == 0:\n",
    "            print(\"No items in the cart\")\n",
    "        else:\n",
    "            for items in range (len(self.items)):\n",
    "                print(f\"{items+1}. {self.items[items]}\")\n",
    "        print(\"------------------------------------------------------\")\n",
    "    \n",
    "    def clear_cart(self):\n",
    "        self.items = []\n",
    "        print(f\"All items removed from the cart\")\n",
    "        print(\"------------------------------------------------------\")"
   ]
  },
  {
   "cell_type": "code",
   "execution_count": 91,
   "id": "1a983ec9",
   "metadata": {
    "scrolled": true
   },
   "outputs": [],
   "source": [
    "#Creating an instance of ShoppingCart class\n",
    "cart1 = ShoppingCart()"
   ]
  },
  {
   "cell_type": "code",
   "execution_count": 92,
   "id": "86b59f80",
   "metadata": {},
   "outputs": [
    {
     "name": "stdout",
     "output_type": "stream",
     "text": [
      "headphones added successfully to the cart\n",
      "------------------------------------------------------\n",
      "List of items in the cart :\n",
      "1. headphones\n",
      "------------------------------------------------------\n"
     ]
    }
   ],
   "source": [
    "#Calling add_item(self,item) method to add a new item \"headphones\" into the cart\n",
    "cart1.add_item(\"headphones\")\n",
    "#Calling view_cart(self) method to view the items in the cart\n",
    "cart1.view_cart()"
   ]
  },
  {
   "cell_type": "code",
   "execution_count": 93,
   "id": "2cf69345",
   "metadata": {},
   "outputs": [
    {
     "name": "stdout",
     "output_type": "stream",
     "text": [
      "headphones removed successfully from the cart\n",
      "------------------------------------------------------\n",
      "mobile phone not found in the cart\n",
      "------------------------------------------------------\n",
      "screen guard added successfully to the cart\n",
      "------------------------------------------------------\n",
      "mobile cover added successfully to the cart\n",
      "------------------------------------------------------\n",
      "List of items in the cart :\n",
      "1. screen guard\n",
      "2. mobile cover\n",
      "------------------------------------------------------\n",
      "All items removed from the cart\n",
      "------------------------------------------------------\n",
      "List of items in the cart :\n",
      "No items in the cart\n",
      "------------------------------------------------------\n"
     ]
    }
   ],
   "source": [
    "#Calling remove_item(self,item) method to remove an item \"headphones\" from the cart\n",
    "cart1.remove_item(\"headphones\")\n",
    "\n",
    "#Calling remove_item(self,item) method to remove an item \"mobile phone\" from the cart which is not present\n",
    "#Output should show message \"mobile phone not found in the cart\"\n",
    "cart1.remove_item(\"mobile phone\")\n",
    "\n",
    "#Calling add_item(self,item) method to add a new item \"screen guard\" into the cart\n",
    "cart1.add_item(\"screen guard\")\n",
    "\n",
    "#Calling add_item(self,item) method to add a new item \"mobile cover\" into the cart\n",
    "cart1.add_item(\"mobile cover\")\n",
    "\n",
    "cart1.view_cart()\n",
    "\n",
    "#Calling clear_cart(self) method to empty the cart\n",
    "cart1.clear_cart()\n",
    "cart1.view_cart()"
   ]
  },
  {
   "cell_type": "markdown",
   "id": "80f4f70b",
   "metadata": {},
   "source": [
    "#### 10. Imagine a school management system. You have to design the \"Student\" class using OOP concepts.The “Student” class has the following attributes:"
   ]
  },
  {
   "cell_type": "code",
   "execution_count": 94,
   "id": "bf260326",
   "metadata": {},
   "outputs": [],
   "source": [
    "# a. name: Represents the name of the student.\n",
    "# b. age: Represents the age of the student.\n",
    "# c. grade: Represents the grade or class of the student.\n",
    "# d. student_id: Represents the unique identifier for the student.\n",
    "# e. attendance: Represents the attendance record of the student.\n",
    "\n",
    "#The class should also include the following methods:\n",
    "# a. update_attendance(self, date, status): Updates the attendance record of the student for a given date\n",
    "# with the provided status (e.g., present or absent).\n",
    "# b. get_attendance(self): Returns the attendance record of the student.\n",
    "# c. get_average_attendance(self): Calculates and returns the average attendance percentage of the student\n",
    "# based on their attendance record."
   ]
  },
  {
   "cell_type": "code",
   "execution_count": 117,
   "id": "edd37522",
   "metadata": {},
   "outputs": [],
   "source": [
    "class Student:\n",
    "    def __init__(self,name,age,grade,student_id):\n",
    "        self.name = name\n",
    "        self.age = age\n",
    "        self.grade = grade\n",
    "        self.student_id = student_id\n",
    "        self.attendance = {}\n",
    "        \n",
    "    def update_attendance(self,date,status):\n",
    "        if date in self.attendance.keys():\n",
    "            print(f\"Attendance record for the date {date} already exists\")\n",
    "            print(\"----------------------------------------------------------------\")\n",
    "        else:\n",
    "            self.attendance[date] = status\n",
    "            print(f\"Attendance submitted successfully for {date}\")\n",
    "            print(\"----------------------------------------------------------------\")\n",
    "        \n",
    "    def get_attendance(self):\n",
    "        print(f\"Attendance Record: {self.attendance}\")\n",
    "        print(\"----------------------------------------------------------------\")\n",
    "              \n",
    "    def get_average_attendance(self):\n",
    "        total_days = len(self.attendance)\n",
    "        present_days = 0\n",
    "        if len(self.attendance) == 0:\n",
    "            return 0\n",
    "        else:\n",
    "            for value in self.attendance.values():\n",
    "                if value == \"present\":\n",
    "                    present_days += 1\n",
    "            return (present_days/total_days)*100"
   ]
  },
  {
   "cell_type": "code",
   "execution_count": 119,
   "id": "40ffaef1",
   "metadata": {},
   "outputs": [
    {
     "name": "stdout",
     "output_type": "stream",
     "text": [
      "Attendance submitted successfully for 05-07-2023\n",
      "----------------------------------------------------------------\n",
      "Attendance submitted successfully for 06-07-2023\n",
      "----------------------------------------------------------------\n",
      "Attendance submitted successfully for 07-07-2023\n",
      "----------------------------------------------------------------\n",
      "Attendance record for the date 07-07-2023 already exists\n",
      "----------------------------------------------------------------\n",
      "Attendance submitted successfully for 08-07-2023\n",
      "----------------------------------------------------------------\n",
      "Attendance Record: {'05-07-2023': 'present', '06-07-2023': 'absent', '07-07-2023': 'present', '08-07-2023': 'present'}\n",
      "----------------------------------------------------------------\n",
      "Average Attendance Record for John is 75.0%\n"
     ]
    }
   ],
   "source": [
    "# Creating an instance of Student class\n",
    "student1 = Student(\"John\",12,'A',1001)\n",
    "\n",
    "# Calling update_attendance(self,date,status) method to update attendance for 4 days\n",
    "student1.update_attendance(\"05-07-2023\",\"present\") # Adding attendance\n",
    "student1.update_attendance(\"06-07-2023\",\"absent\")  # Adding attendance\n",
    "student1.update_attendance(\"07-07-2023\",\"present\") # Adding attendance\n",
    "student1.update_attendance(\"07-07-2023\",\"present\") # Trying to add a duplicate entry\n",
    "student1.update_attendance(\"08-07-2023\",\"present\") # Adding attendance\n",
    "\n",
    "# Calling get_attendance(self) method to get the attendance record\n",
    "student1.get_attendance()\n",
    "\n",
    "# Calling get_average_attendance(self) method to get the average attendance record\n",
    "print(f\"Average Attendance Record for {student1.name} is {student1.get_average_attendance()}%\")"
   ]
  },
  {
   "cell_type": "code",
   "execution_count": null,
   "id": "e0b60efe",
   "metadata": {},
   "outputs": [],
   "source": []
  }
 ],
 "metadata": {
  "kernelspec": {
   "display_name": "Python 3 (ipykernel)",
   "language": "python",
   "name": "python3"
  },
  "language_info": {
   "codemirror_mode": {
    "name": "ipython",
    "version": 3
   },
   "file_extension": ".py",
   "mimetype": "text/x-python",
   "name": "python",
   "nbconvert_exporter": "python",
   "pygments_lexer": "ipython3",
   "version": "3.10.9"
  }
 },
 "nbformat": 4,
 "nbformat_minor": 5
}
