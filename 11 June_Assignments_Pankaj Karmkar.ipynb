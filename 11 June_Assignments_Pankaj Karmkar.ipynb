{
 "cells": [
  {
   "cell_type": "markdown",
   "id": "77b2cd7d",
   "metadata": {},
   "source": [
    "# 11 June - Assignments - Functions"
   ]
  },
  {
   "cell_type": "markdown",
   "id": "c46eb30d",
   "metadata": {},
   "source": [
    "#### 1. What is a lambda function in Python, and how does it differ from a regular function?"
   ]
  },
  {
   "cell_type": "markdown",
   "id": "04a16cf7",
   "metadata": {},
   "source": [
    "A lambda function is a short, anonymous function that is defined without a name. It is created using the key work 'lambda' followed of parameters, a colon (:) and an expression."
   ]
  },
  {
   "cell_type": "markdown",
   "id": "26bd9b04",
   "metadata": {},
   "source": [
    "lambda arguments = expression"
   ]
  },
  {
   "cell_type": "markdown",
   "id": "5c06fe83",
   "metadata": {},
   "source": [
    "A lambda function can have any number of arguments but can have only one expression."
   ]
  },
  {
   "cell_type": "markdown",
   "id": "9ea48677",
   "metadata": {},
   "source": [
    "Difference - "
   ]
  },
  {
   "cell_type": "markdown",
   "id": "599f8abe",
   "metadata": {},
   "source": [
    "1. Lambda functions are anonymous functions, they don't have any name. They are defined and used on the spot without assigning them to any variable. Regular functions are defined using 'def' keyword"
   ]
  },
  {
   "cell_type": "markdown",
   "id": "f67796d6",
   "metadata": {},
   "source": [
    "2. Lambda functions can have only one expression. They are best suited for simple tasks which can be expressed within a single line of code whereas regular functions can have multiple expressions, variable assignments, loops, conditional statements etc."
   ]
  },
  {
   "cell_type": "markdown",
   "id": "ddbe2639",
   "metadata": {},
   "source": [
    "3. Lambda functions can make code concise but also reduces readability and maintainability if they are used for complex tasks. While regular functions have descriptive name with better readability and maintainability."
   ]
  },
  {
   "cell_type": "code",
   "execution_count": 1,
   "id": "5c0e84c6",
   "metadata": {},
   "outputs": [
    {
     "name": "stdout",
     "output_type": "stream",
     "text": [
      "8\n"
     ]
    }
   ],
   "source": [
    "# Lambda Function Example -\n",
    "\n",
    "lambda_func = lambda x,y: x+y\n",
    "print(lambda_func(5,3))"
   ]
  },
  {
   "cell_type": "code",
   "execution_count": 3,
   "id": "99917fe7",
   "metadata": {},
   "outputs": [],
   "source": [
    "# Regular Function Example -\n",
    "def regular_func(x,y):\n",
    "    return x+y"
   ]
  },
  {
   "cell_type": "code",
   "execution_count": 4,
   "id": "1b7e1bfc",
   "metadata": {},
   "outputs": [
    {
     "data": {
      "text/plain": [
       "8"
      ]
     },
     "execution_count": 4,
     "metadata": {},
     "output_type": "execute_result"
    }
   ],
   "source": [
    "regular_func(5,3)"
   ]
  },
  {
   "cell_type": "markdown",
   "id": "9d0dbbd6",
   "metadata": {},
   "source": [
    "#### 2. Can a lambda function in Python have multiple arguments? If yes, how can you define and use them?"
   ]
  },
  {
   "cell_type": "markdown",
   "id": "eab7b10f",
   "metadata": {},
   "source": [
    "Yes, Lambda functions can have multiple arguments."
   ]
  },
  {
   "cell_type": "code",
   "execution_count": 5,
   "id": "32de67ea",
   "metadata": {},
   "outputs": [
    {
     "name": "stdout",
     "output_type": "stream",
     "text": [
      "24\n"
     ]
    }
   ],
   "source": [
    "# Example -\n",
    "\n",
    "# The lambda function below takes three agruments -  x,y,z to calculate the volume of a box\n",
    "volume_of_box = lambda x,y,z: x*y*z\n",
    "\n",
    "print(volume_of_box(2,3,4))"
   ]
  },
  {
   "cell_type": "markdown",
   "id": "a1396b04",
   "metadata": {},
   "source": [
    "#### 3. How are lambda functions typically used in Python? Provide an example use case."
   ]
  },
  {
   "cell_type": "markdown",
   "id": "6242b361",
   "metadata": {},
   "source": [
    "Lambda functions are typically used where a small, anonymous function is required. For Example - In Functional programming constructs like map(), filter() and reduce().They provide a concise way to define and use functions without the need for a regular function definition."
   ]
  },
  {
   "cell_type": "markdown",
   "id": "cd9fbe0e",
   "metadata": {},
   "source": [
    "For Example -\n",
    "Mapping a list - We have a list of numbers and we want to create a new list where each element is the square of corresponding element in the original list. We can use map() function along with lambda function here"
   ]
  },
  {
   "cell_type": "code",
   "execution_count": 6,
   "id": "575e3bcc",
   "metadata": {},
   "outputs": [
    {
     "name": "stdout",
     "output_type": "stream",
     "text": [
      "[1, 4, 9, 16, 25, 36, 49, 64]\n"
     ]
    }
   ],
   "source": [
    "# map() function with lambda function\n",
    "\n",
    "list1 = [1,2,3,4,5,6,7,8]\n",
    "\n",
    "list1_square = list(map(lambda x: x ** 2,list1))\n",
    "print(list1_square)"
   ]
  },
  {
   "cell_type": "code",
   "execution_count": 8,
   "id": "df3792fc",
   "metadata": {},
   "outputs": [
    {
     "name": "stdout",
     "output_type": "stream",
     "text": [
      "[2, 4, 6, 8]\n"
     ]
    }
   ],
   "source": [
    "# filter() function with lambda function\n",
    "# Example - To filter out even numbers from list1\n",
    "\n",
    "list1_even_numbers = list(filter(lambda x: x%2 == 0,list1))\n",
    "print(list1_even_numbers)"
   ]
  },
  {
   "cell_type": "code",
   "execution_count": 12,
   "id": "a9853237",
   "metadata": {},
   "outputs": [
    {
     "name": "stdout",
     "output_type": "stream",
     "text": [
      "55\n"
     ]
    }
   ],
   "source": [
    "# reduce() function with lambda function\n",
    "# The reduce() function takes two arguments: a function and an iterable.\n",
    "# The function is applied cumulatively to the items of the iterable, from left to right, so as to reduce the iterable\n",
    "# to a single value.\n",
    "\n",
    "# We need to import 'reduce' from functools module.\n",
    "# Use Case - For example we have a list of number and we want to calculate the sum using reduce()\n",
    "\n",
    "from functools import reduce\n",
    "\n",
    "list1 = [1,2,3,4,5,6,7,8,9,10]\n",
    "\n",
    "list1_sum = reduce(lambda x,y: x+y,list1)\n",
    "print(list1_sum)"
   ]
  },
  {
   "cell_type": "markdown",
   "id": "44c5922c",
   "metadata": {},
   "source": [
    "#### 4. What are the advantages and limitations of lambda functions compared to regular functions in Python?"
   ]
  },
  {
   "cell_type": "markdown",
   "id": "2d2802c9",
   "metadata": {},
   "source": [
    "Advantages -"
   ]
  },
  {
   "cell_type": "markdown",
   "id": "adfd4fb4",
   "metadata": {},
   "source": [
    "Lambda functions provide a consise way to define small, anonymous functions without the need of a full-fledged function definition. For simple operations, they can look very consise and readable."
   ]
  },
  {
   "cell_type": "markdown",
   "id": "1d7ba8cf",
   "metadata": {},
   "source": [
    "Limitations -"
   ]
  },
  {
   "cell_type": "markdown",
   "id": "14d0e5e0",
   "metadata": {},
   "source": [
    "1. Lambda functions are limited to single expression. They cannot take multiple statements or complex logic. When we need to implement multiple operations or include control flow structures (like loops or conditionals) a regular function is preferred.\n",
    "\n",
    "2. Lambda functions can look very concise on the other hand for complex logic they can reduce readability."
   ]
  },
  {
   "cell_type": "markdown",
   "id": "348a3f14",
   "metadata": {},
   "source": [
    "#### 5. Are lambda functions in Python able to access variables defined outside of their own scope? Explain with an example."
   ]
  },
  {
   "cell_type": "markdown",
   "id": "f5c02e3a",
   "metadata": {},
   "source": [
    "Yes, Lambda functions have access to global variables and variables from outer functions. "
   ]
  },
  {
   "cell_type": "markdown",
   "id": "0793665b",
   "metadata": {},
   "source": [
    "Example -"
   ]
  },
  {
   "cell_type": "code",
   "execution_count": 17,
   "id": "dcdbc46b",
   "metadata": {},
   "outputs": [
    {
     "name": "stdout",
     "output_type": "stream",
     "text": [
      "200\n"
     ]
    }
   ],
   "source": [
    "x = 100  # Global variable\n",
    "\n",
    "sum_numbers = lambda y: x+y  # Accessing the global variable to calculate sum\n",
    "\n",
    "print(sum_numbers(100))"
   ]
  },
  {
   "cell_type": "code",
   "execution_count": 23,
   "id": "be55d363",
   "metadata": {},
   "outputs": [],
   "source": [
    "def func():\n",
    "    func_var = 100\n",
    "    sum_numbers = lambda y: func_var + y  # Lamda function accessing variable from outer scope    \n",
    "    return sum_numbers"
   ]
  },
  {
   "cell_type": "code",
   "execution_count": 24,
   "id": "350dfea1",
   "metadata": {},
   "outputs": [
    {
     "name": "stdout",
     "output_type": "stream",
     "text": [
      "200\n"
     ]
    }
   ],
   "source": [
    "# Calling func() to get the lambda function\n",
    "my_func = func()\n",
    "\n",
    "# Calling the lambda function with an argument\n",
    "results = my_func(100)\n",
    "print(results)"
   ]
  },
  {
   "cell_type": "markdown",
   "id": "ee1ef7e5",
   "metadata": {},
   "source": [
    "#### 6. Write a lambda function to calculate the square of a given number."
   ]
  },
  {
   "cell_type": "code",
   "execution_count": 28,
   "id": "394e8677",
   "metadata": {},
   "outputs": [
    {
     "name": "stdout",
     "output_type": "stream",
     "text": [
      "Enter a number whose square needs to be calculated9\n"
     ]
    },
    {
     "data": {
      "text/plain": [
       "81"
      ]
     },
     "execution_count": 28,
     "metadata": {},
     "output_type": "execute_result"
    }
   ],
   "source": [
    "# Taking the input from user\n",
    "num = int(input(\"Enter a number whose square needs to be calculated\"))\n",
    "\n",
    "# calculating the square using lambda function\n",
    "num_square = lambda x: num ** 2\n",
    "\n",
    "# calling the lambda function\n",
    "num_square(num)"
   ]
  },
  {
   "cell_type": "markdown",
   "id": "efb11b14",
   "metadata": {},
   "source": [
    "#### 7. Create a lambda function to find the maximum value in a list of integers."
   ]
  },
  {
   "cell_type": "code",
   "execution_count": 31,
   "id": "29fd4b26",
   "metadata": {},
   "outputs": [
    {
     "name": "stdout",
     "output_type": "stream",
     "text": [
      "Maximum vlaue in the list : 35\n"
     ]
    }
   ],
   "source": [
    "list1 = [10,15,9,25,35,22,11,18]\n",
    "\n",
    "list1_max = lambda x: max(x)\n",
    "\n",
    "result = list1_max(list1)\n",
    "print(f\"Maximum vlaue in the list : {result}\")"
   ]
  },
  {
   "cell_type": "markdown",
   "id": "447e2683",
   "metadata": {},
   "source": [
    "#### 8. Implement a lambda function to filter out all the even numbers from a list of integers."
   ]
  },
  {
   "cell_type": "code",
   "execution_count": 38,
   "id": "0cbe2cb6",
   "metadata": {},
   "outputs": [
    {
     "name": "stdout",
     "output_type": "stream",
     "text": [
      "[2, 4, 6, 8, 10, 12, 14, 16, 18, 20]\n"
     ]
    }
   ],
   "source": [
    "# list1 = [*range(1,21,1)]\n",
    "list1 = [1,2,3,4,5,6,7,8,9,10,11,12,13,14,15,16,17,18,19,20]\n",
    "\n",
    "list1_even = list(filter(lambda x: x%2 == 0,list1))\n",
    "\n",
    "print(list1_even)"
   ]
  },
  {
   "cell_type": "markdown",
   "id": "36352052",
   "metadata": {},
   "source": [
    "#### 9. Write a lambda function to sort a list of strings in ascending order based on the length of each string."
   ]
  },
  {
   "cell_type": "code",
   "execution_count": 40,
   "id": "ddd069d7",
   "metadata": {},
   "outputs": [
    {
     "name": "stdout",
     "output_type": "stream",
     "text": [
      "['One', 'Ten', 'Four', 'Five', 'Three', 'Eleven', 'Nineteen']\n"
     ]
    }
   ],
   "source": [
    "list_str = [\"One\",\"Three\",\"Four\",\"Ten\",\"Five\",\"Nineteen\",\"Eleven\"]\n",
    "\n",
    "# lambda function passed as 'key' argument to the sorted() function determines the criterion for sorting the strings\n",
    "list_str_sort = sorted(list_str, key = lambda x: len(x))\n",
    "\n",
    "print(list_str_sort)"
   ]
  },
  {
   "cell_type": "markdown",
   "id": "e171f40d",
   "metadata": {},
   "source": [
    "#### 10. Create a lambda function that takes two lists as input and returns a new list containing the common elements between the two lists.\n"
   ]
  },
  {
   "cell_type": "code",
   "execution_count": 41,
   "id": "abb56478",
   "metadata": {},
   "outputs": [
    {
     "name": "stdout",
     "output_type": "stream",
     "text": [
      "[10, 30, 70, 100]\n"
     ]
    }
   ],
   "source": [
    "list1 = [10,20,30,40,50,70,100]\n",
    "list2 = [12,14,10,30,60,70,100]\n",
    "\n",
    "list_common = lambda x,y: list(filter(lambda a: a in x,y))\n",
    "\n",
    "result = list_common(list1,list2)\n",
    "print(result)"
   ]
  },
  {
   "cell_type": "markdown",
   "id": "7d6df919",
   "metadata": {},
   "source": [
    "#### 11. Write a recursive function to calculate the factorial of a given positive integer"
   ]
  },
  {
   "cell_type": "code",
   "execution_count": 43,
   "id": "6b6fafac",
   "metadata": {},
   "outputs": [
    {
     "data": {
      "text/plain": [
       "120"
      ]
     },
     "execution_count": 43,
     "metadata": {},
     "output_type": "execute_result"
    }
   ],
   "source": [
    "def factorial(num):\n",
    "    if num == 0 or num == 1:\n",
    "        return 1\n",
    "    else:\n",
    "        return num * factorial(num-1) # Use of recursion - multiply num with factorial of num-1\n",
    "\n",
    "num = 5\n",
    "factorial(5)"
   ]
  },
  {
   "cell_type": "markdown",
   "id": "aa7f104c",
   "metadata": {},
   "source": [
    "#### 12. Implement a recursive function to compute the nth Fibonacci number."
   ]
  },
  {
   "cell_type": "code",
   "execution_count": 3,
   "id": "362ae2bb",
   "metadata": {},
   "outputs": [],
   "source": [
    "# Fibonacci series - 0,1,1,2,3,5,8,13,21,34,55.........\n",
    "# Sequence Number -  1,2,3,4,5,6,7,8, 9, 10,11.........\n",
    "\n",
    "\n",
    "def fibonacci(n):    # n --> nth number in a Fibonacci Series\n",
    "    if n == 0:       \n",
    "        print(\"n should be greater than zero\")\n",
    "    elif n == 1:    # 1st number of the series is zero\n",
    "        return 0\n",
    "    elif n == 2 or n == 3:  # 2nd and 3rd numbers in the series are 1\n",
    "        return 1\n",
    "    else:\n",
    "        return fibonacci(n-1) + fibonacci(n-2)  # nth number in the series is sum of numbers in (n-1)th and (n-2)th position"
   ]
  },
  {
   "cell_type": "code",
   "execution_count": 4,
   "id": "238fde58",
   "metadata": {},
   "outputs": [
    {
     "data": {
      "text/plain": [
       "34"
      ]
     },
     "execution_count": 4,
     "metadata": {},
     "output_type": "execute_result"
    }
   ],
   "source": [
    "# Calling the fibonacci function\n",
    "\n",
    "fibonacci(10)  # Number at 10th postion in the fibonacci series\n",
    "\n",
    "# Expected Output -\n",
    "# Fibonacci Series -    0,  1,   1,  2,  3,  5,  8,  13,  21,   34\n",
    "# Position in Series - 1st 2nd  3rd 4th 5th 6th 7th  8th  9th  10th"
   ]
  },
  {
   "cell_type": "markdown",
   "id": "f325292f",
   "metadata": {},
   "source": [
    "#### 13. Create a recursive function to find the sum of all the elements in a given list."
   ]
  },
  {
   "cell_type": "code",
   "execution_count": 39,
   "id": "7144121a",
   "metadata": {},
   "outputs": [],
   "source": [
    "def sum_of_elements(list_a):\n",
    "    if len(list_a) == 0:\n",
    "        return 0\n",
    "    else:\n",
    "        return list_a[0] + sum_of_elements(list_a[1:])"
   ]
  },
  {
   "cell_type": "code",
   "execution_count": 40,
   "id": "5178669f",
   "metadata": {},
   "outputs": [
    {
     "data": {
      "text/plain": [
       "55"
      ]
     },
     "execution_count": 40,
     "metadata": {},
     "output_type": "execute_result"
    }
   ],
   "source": [
    "lst = [1,2,3,4,5,6,7,8,9,10]\n",
    "\n",
    "sum_of_elements(lst)"
   ]
  },
  {
   "cell_type": "markdown",
   "id": "70ae4eae",
   "metadata": {},
   "source": [
    "#### 14. Write a recursive function to determine whether a given string is a palindrome."
   ]
  },
  {
   "cell_type": "code",
   "execution_count": 5,
   "id": "bb7fb88e",
   "metadata": {},
   "outputs": [],
   "source": [
    "def is_palindrome(string):\n",
    "    start = 0\n",
    "    end = len(string) - 1\n",
    "    if len(string) == 0:\n",
    "        print(\"Empty String !\")\n",
    "    elif len(string) == 1:\n",
    "        return True\n",
    "    else:\n",
    "        if string[start] == string[end]:\n",
    "            return is_palindrome(string[start+1:end])\n",
    "        else:\n",
    "            return False"
   ]
  },
  {
   "cell_type": "code",
   "execution_count": 7,
   "id": "7586dfc2",
   "metadata": {},
   "outputs": [
    {
     "data": {
      "text/plain": [
       "True"
      ]
     },
     "execution_count": 7,
     "metadata": {},
     "output_type": "execute_result"
    }
   ],
   "source": [
    "name = 'malayalam'\n",
    "is_palindrome(name)\n"
   ]
  },
  {
   "cell_type": "markdown",
   "id": "0eb22a46",
   "metadata": {},
   "source": [
    "#### 15. Implement a recursive function to find the greatest common divisor (GCD) of two positive integers."
   ]
  },
  {
   "cell_type": "code",
   "execution_count": 9,
   "id": "56cdb852",
   "metadata": {},
   "outputs": [],
   "source": [
    "def gcd(num1,num2):\n",
    "    if num1>num2:\n",
    "        maximum = num1\n",
    "        minimum = num2\n",
    "    else:\n",
    "        maximum = num2\n",
    "        minimum = num1\n",
    "    if minimum == 0:\n",
    "        return maximum\n",
    "    else:\n",
    "        return gcd(minimum,maximum % minimum)"
   ]
  },
  {
   "cell_type": "code",
   "execution_count": 12,
   "id": "ba80e6d9",
   "metadata": {},
   "outputs": [
    {
     "name": "stdout",
     "output_type": "stream",
     "text": [
      "Greatest Common Divisor (GCD) of (24, 48) is 24\n"
     ]
    }
   ],
   "source": [
    "num1 = 24\n",
    "num2 = 48\n",
    "print(f\"Greatest Common Divisor (GCD) of {num1,num2} is {gcd(num1,num2)}\")"
   ]
  },
  {
   "cell_type": "code",
   "execution_count": null,
   "id": "f32589c7",
   "metadata": {},
   "outputs": [],
   "source": []
  }
 ],
 "metadata": {
  "kernelspec": {
   "display_name": "Python 3 (ipykernel)",
   "language": "python",
   "name": "python3"
  },
  "language_info": {
   "codemirror_mode": {
    "name": "ipython",
    "version": 3
   },
   "file_extension": ".py",
   "mimetype": "text/x-python",
   "name": "python",
   "nbconvert_exporter": "python",
   "pygments_lexer": "ipython3",
   "version": "3.10.9"
  }
 },
 "nbformat": 4,
 "nbformat_minor": 5
}
