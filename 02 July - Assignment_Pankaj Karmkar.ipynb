{
 "cells": [
  {
   "cell_type": "markdown",
   "id": "01327f98",
   "metadata": {},
   "source": [
    "# 02 July - OOP using Python - Assignments - Inheritance"
   ]
  },
  {
   "cell_type": "markdown",
   "id": "7f9e746e",
   "metadata": {},
   "source": [
    "#### 1. Explain what inheritance is in object-oriented programming and why it is used?"
   ]
  },
  {
   "cell_type": "markdown",
   "id": "50632d40",
   "metadata": {},
   "source": [
    "Inheritance is concept in Object Oriented Programming (OOPS) which allows a class to inherit the attributes and behaviour from other class. It enables a hierarchical relationship between the base class (also called as Parent Class) and the derived class (also called as child class). The child class inherits all the properties and behaviour from its parent class and can modify them, also add new unique attributes and behaviours. It helps in code re-usabilty, code organisation and modularity."
   ]
  },
  {
   "cell_type": "markdown",
   "id": "12bbb782",
   "metadata": {},
   "source": [
    "#### 2. Discuss the concept of single inheritance and multiple inheritance, highlighting their differences and advantages."
   ]
  },
  {
   "cell_type": "markdown",
   "id": "1cb6ad7e",
   "metadata": {},
   "source": [
    "Single Inheritance - This refers to a concept where a derived/child class inherits from only one base/parent class."
   ]
  },
  {
   "cell_type": "markdown",
   "id": "8bac7d1d",
   "metadata": {},
   "source": [
    "Advantages - It simplifies the class heirarchy by limiting the number of base classes. Straight forward and linear relationship between the classes. It helps to maintain a clean and focused code structure. With Single inheritance, it reduces the chance of name conflicts when accessing attributes or methods."
   ]
  },
  {
   "cell_type": "markdown",
   "id": "ca164cd5",
   "metadata": {},
   "source": [
    "Multiple Inheritance - This refers to a concept where a derived class inherits from multiple base classes. The derived class can inherit and combine attributes and behaviors from multiple sources."
   ]
  },
  {
   "cell_type": "markdown",
   "id": "7f376ab4",
   "metadata": {},
   "source": [
    "Advantages - Greater Code Reusability. As it allows to inherit from multiple classes, it enables the derived class to have wide range of functionalities without any duplications. Multiple inheritance provides more flexibility in creating classes with diverse functionalities. Ability to model complex relationships."
   ]
  },
  {
   "cell_type": "markdown",
   "id": "6e5628e0",
   "metadata": {},
   "source": [
    "#### 3. Explain the terms \"base class\" and \"derived class\" in the context of inheritance."
   ]
  },
  {
   "cell_type": "markdown",
   "id": "05d87c5a",
   "metadata": {},
   "source": [
    "A base class also known as parent class or super class is the class from which other classes inherit the attributes and methods. The base class defines the common attributes and methods that are shared by one or more classes. In terms of class hierarchy, base class occupies a higher level and serves as a template/blueprint for the child/derived classes."
   ]
  },
  {
   "cell_type": "markdown",
   "id": "9e1a65d0",
   "metadata": {},
   "source": [
    "A derived class also known as child class or subclass is a class which inherits the attributes and methods from the base class. It extends or adds its own uniqueness on the functionality of the base class by adding its won features and behaviors or overiding base class inherited methods. A base class forms a more specialized or specific version of the base class, inheriting its characteristics while introducing new functionality or customizations."
   ]
  },
  {
   "cell_type": "markdown",
   "id": "032bc6d1",
   "metadata": {},
   "source": [
    "#### 4. What is the significance of the \"protected\" access modifier in inheritance? How does it differ from \"private\" and \"public\" modifiers?\n"
   ]
  },
  {
   "cell_type": "markdown",
   "id": "c63827f2",
   "metadata": {},
   "source": [
    "In object oriented programming (OOPS), access modifiers control the visibility and accessibility of attributes and methods outside the class. In Python, there are three main access modifiers - public, protected and private.\n",
    "\n",
    "The protected access modifier in inheritance provides a level of visibility and accessibility limited to the class and its derived classes."
   ]
  },
  {
   "cell_type": "markdown",
   "id": "4140ea03",
   "metadata": {},
   "source": [
    "Public Access Modifier - No Access restrictions, can be accessed from anywhere, both within the class and outside the class. By default all class members (attributes,methods) are public in Python."
   ]
  },
  {
   "cell_type": "markdown",
   "id": "f81b515b",
   "metadata": {},
   "source": [
    "Protected Access Modifier - In Python, protected members are denoted by prefixing the member name by single underscore '_member'. They are intended to be used only in the class and its derived classes. They are not typically accessed directly from outside the class heirarchy."
   ]
  },
  {
   "cell_type": "markdown",
   "id": "877a127f",
   "metadata": {},
   "source": [
    "Private Access Modifier - In Python, private members are denoted by prefixing the member name by double underscore '__member'. They are not intended to be accessed directly from outside the class. They are to be accessed within the class itself."
   ]
  },
  {
   "cell_type": "markdown",
   "id": "c221d49b",
   "metadata": {},
   "source": [
    "#### 5. What is the purpose of the \"super\" keyword in inheritance? Provide an example"
   ]
  },
  {
   "cell_type": "markdown",
   "id": "d67da182",
   "metadata": {},
   "source": [
    "The 'super'keyword is used to refer to the parent class from a derived class. It allows access and invocation of methods and attributes defined in the parent class from within the derived class."
   ]
  },
  {
   "cell_type": "code",
   "execution_count": 51,
   "id": "76d907a7",
   "metadata": {},
   "outputs": [],
   "source": [
    "# Example -\n",
    "\n",
    "class Parent:\n",
    "    def __init__(self,name = \"Parent\"):\n",
    "        self.name = name\n",
    "    \n",
    "    def display_info(self):\n",
    "        print(f\"{self.name} class method\")\n",
    "\n",
    "class Child(Parent):           # Inheriting from 'Parent' class\n",
    "    def __init__(self,name):\n",
    "        super().__init__(name) # Calling the parent class constructor\n",
    "        \n",
    "    def display_info(self):\n",
    "        super().display_info() # Calling the parent class's display_info() method"
   ]
  },
  {
   "cell_type": "code",
   "execution_count": 53,
   "id": "00c412c3",
   "metadata": {},
   "outputs": [
    {
     "name": "stdout",
     "output_type": "stream",
     "text": [
      "Derived class method\n"
     ]
    }
   ],
   "source": [
    "# Creating an instance of Child class\n",
    "child1 = Child(\"Derived\")\n",
    "child1.display_info()"
   ]
  },
  {
   "cell_type": "markdown",
   "id": "8d843db1",
   "metadata": {},
   "source": [
    "#### 6. Create a base class called \"Vehicle\" with attributes like \"make\", \"model\", and \"year\". Then, create a derived class called \"Car\" that inherits from \"Vehicle\" and adds an attribute called \"fuel_type\". Implement appropriate methods in both classes.\n"
   ]
  },
  {
   "cell_type": "code",
   "execution_count": 57,
   "id": "4806db97",
   "metadata": {},
   "outputs": [],
   "source": [
    "class Vehicle:\n",
    "    def __init__(self,make,model,year):\n",
    "        self.make = make\n",
    "        self.model = model\n",
    "        self.year = year\n",
    "    \n",
    "    def display_info(self):\n",
    "        print(\"Vehicle Details :\")\n",
    "        print(\"-------------------------------------------------------\")\n",
    "        print(f\"Make : {self.make}\")\n",
    "        print(f\"Model : {self.model}\")\n",
    "        print(f\"Year : {self.year}\")\n",
    "    \n",
    "class Car(Vehicle):\n",
    "    def __init__(self,make,model,year,fuel_type):   #Fuel_type attribute added as an extra feature in derived class 'Car'\n",
    "        super().__init__(make,model,year)\n",
    "        self.fuel_type = fuel_type\n",
    "    \n",
    "    def display_info(self):\n",
    "        super().display_info()   # Calling display_info() method from Parent Class 'Vehicle'\n",
    "        print(f\"Fuel type: {self.fuel_type}\")\n",
    "        print(\"-------------------------------------------------------\")"
   ]
  },
  {
   "cell_type": "code",
   "execution_count": 58,
   "id": "96549105",
   "metadata": {},
   "outputs": [
    {
     "name": "stdout",
     "output_type": "stream",
     "text": [
      "Vehicle Details :\n",
      "-------------------------------------------------------\n",
      "Make : Mercedez\n",
      "Model : C300\n",
      "Year : 2020\n",
      "Fuel type: Petrol\n",
      "-------------------------------------------------------\n"
     ]
    }
   ],
   "source": [
    "car1 = Car(\"Mercedez\",\"C300\",\"2020\",\"Petrol\")\n",
    "car1.display_info()"
   ]
  },
  {
   "cell_type": "markdown",
   "id": "4a6b1ac8",
   "metadata": {},
   "source": [
    "#### 7. Create a base class called \"Employee\" with attributes like \"name\" and \"salary.\" Derive two classes, \"Manager\" and \"Developer,\" from \"Employee.\" Add an additional attribute called \"department\" for the \"Manager\" class and \"programming_language\" for the \"Developer\" class.\n"
   ]
  },
  {
   "cell_type": "code",
   "execution_count": 59,
   "id": "6db0ab4c",
   "metadata": {},
   "outputs": [],
   "source": [
    "class Employee:\n",
    "    def __init__(self,name,salary):\n",
    "        self.name = name\n",
    "        self.salary = salary\n",
    "    \n",
    "    def display_info(self):\n",
    "        print(\"Employee Details:\")\n",
    "        print(\"-------------------------------------------------------\")\n",
    "        print(f\"Name : {self.name}\")\n",
    "        print(f\"Salary : {self.salary}\")\n",
    "        \n",
    "class Manager(Employee):\n",
    "    def __init__(self,name,salary,department):\n",
    "        super().__init__(name,salary)\n",
    "        self.department = department\n",
    "    \n",
    "    def display_info(self):\n",
    "        super().display_info()\n",
    "        print(f\"Department : {self.department}\")\n",
    "        print(\"-------------------------------------------------------\")\n",
    "        \n",
    "class Developer(Employee):\n",
    "    def __init__(self,name,salary,programming_language):\n",
    "        super().__init__(name,salary)\n",
    "        self.programming_language = programming_language\n",
    "    \n",
    "    def display_info(self):\n",
    "        super().display_info()\n",
    "        print(f\"Language : {self.programming_language}\")\n",
    "        print(\"-------------------------------------------------------\")"
   ]
  },
  {
   "cell_type": "code",
   "execution_count": 60,
   "id": "10c5f8dc",
   "metadata": {
    "scrolled": true
   },
   "outputs": [
    {
     "name": "stdout",
     "output_type": "stream",
     "text": [
      "Employee Details:\n",
      "-------------------------------------------------------\n",
      "Name : Saurabh\n",
      "Salary : 75000\n",
      "Department : Operations\n",
      "-------------------------------------------------------\n"
     ]
    }
   ],
   "source": [
    "manager1 = Manager(\"Saurabh\",75000,\"Operations\")\n",
    "manager1.display_info()"
   ]
  },
  {
   "cell_type": "code",
   "execution_count": 61,
   "id": "e74c1658",
   "metadata": {},
   "outputs": [
    {
     "name": "stdout",
     "output_type": "stream",
     "text": [
      "Employee Details:\n",
      "-------------------------------------------------------\n",
      "Name : Sachin\n",
      "Salary : 35000\n",
      "Language : C++\n",
      "-------------------------------------------------------\n"
     ]
    }
   ],
   "source": [
    "developer1 = Developer(\"Sachin\",35000,\"C++\")\n",
    "developer1.display_info()"
   ]
  },
  {
   "cell_type": "markdown",
   "id": "17d58117",
   "metadata": {},
   "source": [
    "#### 8. Design a base class called \"Shape\" with attributes like \"colour\" and \"border_width.\" Create derived classes, \"Rectangle\" and \"Circle,\" that inherit from \"Shape\" and add specific attributes like \"length\" and \"width\" for the \"Rectangle\" class and \"radius\" for the \"Circle\" class."
   ]
  },
  {
   "cell_type": "code",
   "execution_count": 65,
   "id": "2c3259ec",
   "metadata": {},
   "outputs": [],
   "source": [
    "class Shape:\n",
    "    def __init__(self,color,border_width):\n",
    "        self.color = color\n",
    "        self.border_width = border_width\n",
    "        \n",
    "    def display_info(self):\n",
    "        print(f\"Color : {self.color}\")\n",
    "        print(f\"Border Width : {self.border_width}\")\n",
    "        \n",
    "class Rectangle(Shape):\n",
    "    def __init__(self,color,border_width,length,width):\n",
    "        super().__init__(color,border_width)\n",
    "        self.length = length\n",
    "        self.width = width\n",
    "    \n",
    "    def display_info(self):\n",
    "        super().display_info()\n",
    "        print(f\"Length : {self.length}\")\n",
    "        print(f\"Width : {self.width}\")\n",
    "              \n",
    "    def area(self):\n",
    "        print(f\"Area of Rectangle : {self.length * self.width}\")\n",
    "\n",
    "class Circle(Shape):\n",
    "    def __init__(self,color,border_width,radius):\n",
    "        super().__init__(color,border_width)\n",
    "        self.radius = radius\n",
    "              \n",
    "    def display_info(self):\n",
    "        super().display_info()\n",
    "        print(f\"Radius : {self.radius}\")\n",
    "              \n",
    "    def area(self):\n",
    "        print(f\"Area of Circle : {3.14 * self.radius * self.radius}\")"
   ]
  },
  {
   "cell_type": "code",
   "execution_count": 66,
   "id": "fc460843",
   "metadata": {},
   "outputs": [
    {
     "name": "stdout",
     "output_type": "stream",
     "text": [
      "Color : Blue\n",
      "Border Width : 1.5\n",
      "Length : 10\n",
      "Width : 5\n",
      "Area of Rectangle : 50\n"
     ]
    }
   ],
   "source": [
    "rectangle1 = Rectangle(\"Blue\",1.5,10,5)\n",
    "rectangle1.display_info()\n",
    "rectangle1.area()"
   ]
  },
  {
   "cell_type": "code",
   "execution_count": 68,
   "id": "dcbe0fb6",
   "metadata": {},
   "outputs": [
    {
     "name": "stdout",
     "output_type": "stream",
     "text": [
      "Color : Red\n",
      "Border Width : 1\n",
      "Radius : 4\n",
      "Area of Circle : 50.24\n"
     ]
    }
   ],
   "source": [
    "circle1 = Circle(\"Red\",1,4)\n",
    "circle1.display_info()\n",
    "circle1.area()"
   ]
  },
  {
   "cell_type": "markdown",
   "id": "a4a19bde",
   "metadata": {},
   "source": [
    "#### 9. Create a base class called \"Device\" with attributes like \"brand\" and \"model.\" Derive two classes, \"Phone\" and \"Tablet,\" from \"Device.\" Add specific attributes like\"screen_size\" for the \"Phone\" class and \"battery_capacity\" for the \"Tablet\" class.\n"
   ]
  },
  {
   "cell_type": "code",
   "execution_count": 73,
   "id": "791a6f90",
   "metadata": {},
   "outputs": [],
   "source": [
    "class Device:\n",
    "    def __init__(self,brand,model):\n",
    "        self.brand = brand\n",
    "        self.model = model\n",
    "    \n",
    "    def display_info(self):\n",
    "        print(f\"Brand : {self.brand}\")\n",
    "        print(f\"Model : {self.model}\")\n",
    "\n",
    "class Phone(Device):\n",
    "    def __init__(self,brand,model,screen_size):\n",
    "        super().__init__(brand,model)\n",
    "        self.screen_size = screen_size\n",
    "    \n",
    "    def display_info(self):\n",
    "        super().display_info()\n",
    "        print(f\"Screen Size : {self.screen_size}\")\n",
    "        \n",
    "class Tablet(Device):\n",
    "    def __init__(self,brand,model,battery_capacity):\n",
    "        super().__init__(brand,model)\n",
    "        self.battery_capacity = battery_capacity\n",
    "        \n",
    "    def display_info(self):\n",
    "        super().display_info()\n",
    "        print(f\"Battery Capacity : {self.battery_capacity}\")"
   ]
  },
  {
   "cell_type": "code",
   "execution_count": 74,
   "id": "8375d157",
   "metadata": {},
   "outputs": [
    {
     "name": "stdout",
     "output_type": "stream",
     "text": [
      "Brand : Samsung\n",
      "Model : Galaxy S3\n",
      "Screen Size : 6.5\n"
     ]
    }
   ],
   "source": [
    "phone1 = Phone(\"Samsung\",\"Galaxy S3\",6.5)\n",
    "phone1.display_info()"
   ]
  },
  {
   "cell_type": "code",
   "execution_count": 76,
   "id": "217bf73e",
   "metadata": {},
   "outputs": [
    {
     "name": "stdout",
     "output_type": "stream",
     "text": [
      "Brand : Apple\n",
      "Model : iPad Air Gen 3.0\n",
      "Battery Capacity : 5500 mAh\n"
     ]
    }
   ],
   "source": [
    "tab1 = Tablet(\"Apple\",\"iPad Air Gen 3.0\",\"5500 mAh\")\n",
    "tab1.display_info()"
   ]
  },
  {
   "cell_type": "markdown",
   "id": "af3633a5",
   "metadata": {},
   "source": [
    "#### 10. Create a base class called \"BankAccount\" with attributes like \"account_number\" and \"balance.\" Derive two classes, \"SavingsAccount\" and \"CheckingAccount,\" from \"BankAccount.\" Add specific methods like \"calculate_interest\" for the \"SavingsAccount\" class and \"deduct_fees\" for the \"CheckingAccount\" class."
   ]
  },
  {
   "cell_type": "code",
   "execution_count": 81,
   "id": "5d81c393",
   "metadata": {},
   "outputs": [],
   "source": [
    "class BankAccount:\n",
    "    def __init__(self,account_number,balance):\n",
    "        self.account_number = account_number\n",
    "        self.balance = balance\n",
    "        \n",
    "    def display_info(self):\n",
    "        print(f\"Bank Account Number : {self.account_number}\")\n",
    "        print(f\"Account Balance : {self.balance}\")\n",
    "\n",
    "class SavingsAccount(BankAccount):\n",
    "    def __init__(self,account_number,balance):\n",
    "        super().__init__(account_number,balance)\n",
    "        self.interest = 0.03\n",
    "    \n",
    "    def calculate_interest(self):\n",
    "        self.balance += (self.balance * self.interest)\n",
    "        \n",
    "    def display_info(self):\n",
    "        print(\"Account Type : Savings Account\")\n",
    "        super().display_info()\n",
    "        print(\"---------------------------------------------------------------------\")\n",
    "\n",
    "class CheckingAccount(BankAccount):\n",
    "    def __init__(self,account_number,balance):\n",
    "        super().__init__(account_number,balance)\n",
    "        self.minimum_balance = 1000\n",
    "    \n",
    "    def deduct_fees(self):\n",
    "        penalty = self.balance * 0.01\n",
    "        if self.balance < self.minimum_balance:\n",
    "            self.balance -= penalty\n",
    "    \n",
    "    def display_info(self):\n",
    "        print(\"Account Type : Checking Account\")\n",
    "        super().display_info()\n",
    "        print(\"---------------------------------------------------------------------\")"
   ]
  },
  {
   "cell_type": "code",
   "execution_count": 82,
   "id": "eec1c715",
   "metadata": {},
   "outputs": [
    {
     "name": "stdout",
     "output_type": "stream",
     "text": [
      "Account Type : Savings Account\n",
      "Bank Account Number : 5800178001\n",
      "Account Balance : 50000\n",
      "---------------------------------------------------------------------\n",
      "Account Type : Savings Account\n",
      "Bank Account Number : 5800178001\n",
      "Account Balance : 51500.0\n",
      "---------------------------------------------------------------------\n"
     ]
    }
   ],
   "source": [
    "savings1 = SavingsAccount(\"5800178001\",50000)\n",
    "savings1.display_info()\n",
    "savings1.calculate_interest()\n",
    "savings1.display_info()"
   ]
  },
  {
   "cell_type": "code",
   "execution_count": 86,
   "id": "2d5c5e6b",
   "metadata": {},
   "outputs": [
    {
     "name": "stdout",
     "output_type": "stream",
     "text": [
      "Account Type : Checking Account\n",
      "Bank Account Number : 6800178005\n",
      "Account Balance : 50000\n",
      "---------------------------------------------------------------------\n",
      "Account Type : Checking Account\n",
      "Bank Account Number : 6800178005\n",
      "Account Balance : 495.0\n",
      "---------------------------------------------------------------------\n"
     ]
    }
   ],
   "source": [
    "checking1 = CheckingAccount(\"6800178005\",50000)\n",
    "checking1.display_info()\n",
    "checking1.balance = 500\n",
    "checking1.deduct_fees()\n",
    "checking1.display_info()"
   ]
  },
  {
   "cell_type": "markdown",
   "id": "7e58b164",
   "metadata": {},
   "source": [
    "# 2nd July - Class Assignments"
   ]
  },
  {
   "cell_type": "markdown",
   "id": "95e553ab",
   "metadata": {},
   "source": [
    "#### 1. the Person class has a constructor that takes name and age as arguments and assigns them to the object's attributes. The introduce method is then invoked on the object to introduce the person."
   ]
  },
  {
   "cell_type": "code",
   "execution_count": 1,
   "id": "b77fdd2b",
   "metadata": {},
   "outputs": [],
   "source": [
    "class Person:\n",
    "    def __init__(self,name,age):\n",
    "        self.name = name\n",
    "        self.age = age\n",
    "    \n",
    "    def introduce(self):\n",
    "        print(f\"Name is : {self.name} and Age is : {self.age}\")"
   ]
  },
  {
   "cell_type": "code",
   "execution_count": 3,
   "id": "b5e0aa4f",
   "metadata": {},
   "outputs": [
    {
     "name": "stdout",
     "output_type": "stream",
     "text": [
      "Name is : Pankaj and Age is : 35\n"
     ]
    }
   ],
   "source": [
    "person1 = Person(\"Pankaj\",35)\n",
    "person1.introduce()"
   ]
  },
  {
   "cell_type": "markdown",
   "id": "7733de60",
   "metadata": {},
   "source": [
    "#### 2. the Car class has a constructor that takes brand and model as arguments and assigns them to the object's attributes. The display_info method is then invoked on the object to display the car's brand and model."
   ]
  },
  {
   "cell_type": "code",
   "execution_count": 6,
   "id": "fc1cfe36",
   "metadata": {},
   "outputs": [],
   "source": [
    "class Car:\n",
    "    def __init__(self,brand,model):\n",
    "        self.brand = brand\n",
    "        self.model = model\n",
    "    \n",
    "    def display_info(self):\n",
    "        print(f\"Car's Brand is : {self.brand} and model is : {self.model}\")"
   ]
  },
  {
   "cell_type": "code",
   "execution_count": 7,
   "id": "6751ff91",
   "metadata": {},
   "outputs": [
    {
     "name": "stdout",
     "output_type": "stream",
     "text": [
      "Car's Brand is : Lamborghini and model is : Huracan\n"
     ]
    }
   ],
   "source": [
    "car1 = Car(\"Lamborghini\",\"Huracan\")\n",
    "car1.display_info()"
   ]
  },
  {
   "cell_type": "markdown",
   "id": "f11ce342",
   "metadata": {},
   "source": [
    "#### 3. the BankAccount class has a constructor that takes account_number and balance as arguments and assigns them to the object's attributes. The display_balance method is then invoked on the object to display the account number and balance."
   ]
  },
  {
   "cell_type": "code",
   "execution_count": 8,
   "id": "955084ed",
   "metadata": {},
   "outputs": [],
   "source": [
    "class BankAccount:\n",
    "    def __init__(self,account_number,balance):\n",
    "        self.account_number = account_number\n",
    "        self.balance = balance\n",
    "    \n",
    "    def display_balance(self):\n",
    "        print(f\"Account Number : {self.account_number}\")\n",
    "        print(f\"Balance : {self.balance}\")"
   ]
  },
  {
   "cell_type": "code",
   "execution_count": 9,
   "id": "154c3109",
   "metadata": {},
   "outputs": [
    {
     "name": "stdout",
     "output_type": "stream",
     "text": [
      "Account Number : 2132986\n",
      "Balance : 1000000\n"
     ]
    }
   ],
   "source": [
    "account1 = BankAccount(\"2132986\",1000000)\n",
    "account1.display_balance()"
   ]
  },
  {
   "cell_type": "markdown",
   "id": "ec58d7a6",
   "metadata": {},
   "source": [
    "#### 4. the MobilePhone class has a constructor that takes brand and model as arguments and assigns them to the object's attributes. The make_call method is then invoked on the object to make a call with the phone."
   ]
  },
  {
   "cell_type": "code",
   "execution_count": 13,
   "id": "550755b0",
   "metadata": {},
   "outputs": [],
   "source": [
    "class MobilePhone:\n",
    "    def __init__(self,brand,model):\n",
    "        self.brand = brand\n",
    "        self.model = model\n",
    "    \n",
    "    def make_call(self):\n",
    "        print(f\"Calling from {self.brand} {self.model} phone\")"
   ]
  },
  {
   "cell_type": "code",
   "execution_count": 14,
   "id": "89fff52b",
   "metadata": {},
   "outputs": [
    {
     "name": "stdout",
     "output_type": "stream",
     "text": [
      "Calling from Apple iPhone 14 Pro Max phone\n"
     ]
    }
   ],
   "source": [
    "iphone1 = MobilePhone(\"Apple\",\"iPhone 14 Pro Max\")\n",
    "iphone1.make_call()"
   ]
  },
  {
   "cell_type": "markdown",
   "id": "2b0caf33",
   "metadata": {},
   "source": [
    "#### 5. the Book class has a constructor that takes title and author as arguments and assigns them to the object's attributes. The display_info method is then invoked on the object to display the book's title and author."
   ]
  },
  {
   "cell_type": "code",
   "execution_count": 15,
   "id": "1cc71fe5",
   "metadata": {},
   "outputs": [],
   "source": [
    "class Book:\n",
    "    def __init__(self,title,author):\n",
    "        self.title = title\n",
    "        self.author = author\n",
    "    \n",
    "    def display_info(self):\n",
    "        print(f\"Book's Title is : {self.title}\")\n",
    "        print(f\"Book's Author is : {self.author}\")"
   ]
  },
  {
   "cell_type": "code",
   "execution_count": 16,
   "id": "9fd86d96",
   "metadata": {},
   "outputs": [
    {
     "name": "stdout",
     "output_type": "stream",
     "text": [
      "Book's Title is : Learn Python the hard way\n",
      "Book's Author is : Zed Shaw\n"
     ]
    }
   ],
   "source": [
    "python = Book(\"Learn Python the hard way\",\"Zed Shaw\")\n",
    "python.display_info()"
   ]
  },
  {
   "cell_type": "markdown",
   "id": "9202ac70",
   "metadata": {},
   "source": [
    "#### 6. Vehicles: Create a base class called Vehicle with attributes such as make, model, and year. Implement two subclasses Car and Motorcycle that inherit from Vehicle. Add additional methods to the subclasses, such as start_engine() and stop_engine(), and handle any specific behavior or rules for each vehicle type."
   ]
  },
  {
   "cell_type": "code",
   "execution_count": 29,
   "id": "d90ed4cc",
   "metadata": {},
   "outputs": [],
   "source": [
    "class Vehicle:\n",
    "    def __init__(self,make,model,year):\n",
    "        self.make = make\n",
    "        self.model = model\n",
    "        self.year = year\n",
    "    \n",
    "class Car(Vehicle):\n",
    "    def __init__(self,make,model,year,color):\n",
    "        super().__init__(make,model,year)\n",
    "        self.color = color\n",
    "    def start_engine(self):\n",
    "        print(f\"Engine has started for your {self.color} car {self.make} {self.model} - {self.year}\")\n",
    "    def stop_engine(self):\n",
    "        print(f\"Engine has stopped for your {self.color} car {self.make} {self.model} - {self.year}\")\n",
    "\n",
    "class Motorcycle(Vehicle):\n",
    "    def __init__(self,make,model,year,engine_capacity):\n",
    "        super().__init__(make,model,year)\n",
    "        self.engine_capacity = engine_capacity    \n",
    "    def start_engine(self):        \n",
    "        print(f\"Engine has started for your Motorcycle {self.make} {self.model} {self.engine_capacity} CC - {self.year}\")\n",
    "    def stop_engine(self):\n",
    "        print(f\"Engine has stopped for your Motorcycle {self.make} {self.model} {self.engine_capacity} CC - {self.year}\")"
   ]
  },
  {
   "cell_type": "code",
   "execution_count": 30,
   "id": "c33f83c9",
   "metadata": {},
   "outputs": [
    {
     "name": "stdout",
     "output_type": "stream",
     "text": [
      "Engine has started for your Red car BMW A7 - 2010\n",
      "Engine has stopped for your Red car BMW A7 - 2010\n"
     ]
    }
   ],
   "source": [
    "BMW_A7 = Car(\"BMW\",\"A7\",\"2010\",\"Red\")\n",
    "BMW_A7.start_engine()\n",
    "BMW_A7.stop_engine()"
   ]
  },
  {
   "cell_type": "code",
   "execution_count": 28,
   "id": "930c9ebe",
   "metadata": {},
   "outputs": [
    {
     "name": "stdout",
     "output_type": "stream",
     "text": [
      "Engine has started for your Motorcycle Yamaha R1 885 CC - 2008\n",
      "Engine has stopped for your Motorcycle Yamaha R1 885 CC - 2008\n"
     ]
    }
   ],
   "source": [
    "Yamaha_R1 = Motorcycle(\"Yamaha\",\"R1\",\"2008\",885)\n",
    "Yamaha_R1.start_engine()\n",
    "Yamaha_R1.stop_engine()"
   ]
  },
  {
   "cell_type": "markdown",
   "id": "7779e105",
   "metadata": {},
   "source": [
    "#### 7. Animals: Create a base class called Animal with methods such as eat() and sleep(). Implement two subclasses Dog and Cat that inherit from Animal. Add additional methods to the subclasses, such as bark() for dogs and meow() for cats, and handle any specific behavior or rules for each animal type."
   ]
  },
  {
   "cell_type": "code",
   "execution_count": 55,
   "id": "56a66231",
   "metadata": {},
   "outputs": [],
   "source": [
    "class Animal:\n",
    "    def __init__(self,name):\n",
    "        self.name = name\n",
    "    \n",
    "    def eat(self):\n",
    "        print(f\"{self.name} eats!!\")\n",
    "    \n",
    "    def sleep(self):\n",
    "        print(f\"{self.name} sleeps !!\")\n",
    "\n",
    "class Dog(Animal):\n",
    "    def bark(self):\n",
    "        print(f\"{self.name} barks !!\")\n",
    "class Cat(Animal):\n",
    "    def meow(self):\n",
    "        print(f\"{self.name} meows !!\")"
   ]
  },
  {
   "cell_type": "code",
   "execution_count": 56,
   "id": "37c4783f",
   "metadata": {},
   "outputs": [
    {
     "name": "stdout",
     "output_type": "stream",
     "text": [
      "Jimmy eats!!\n",
      "Jimmy sleeps !!\n",
      "Jimmy barks !!\n"
     ]
    }
   ],
   "source": [
    "dog1 = Dog(\"Jimmy\")\n",
    "dog1.eat()\n",
    "dog1.sleep()\n",
    "dog1.bark()"
   ]
  },
  {
   "cell_type": "code",
   "execution_count": 39,
   "id": "5f639a05",
   "metadata": {},
   "outputs": [
    {
     "name": "stdout",
     "output_type": "stream",
     "text": [
      "Tom eats!!\n",
      "Tom sleeps !!\n",
      "Tom meows !!\n"
     ]
    }
   ],
   "source": [
    "cat1 = Cat(\"Tom\")\n",
    "cat1.eat()\n",
    "cat1.sleep()\n",
    "cat1.meow()"
   ]
  },
  {
   "cell_type": "markdown",
   "id": "c56a3b13",
   "metadata": {},
   "source": [
    "#### 8. Library Catalog: Create a base class called LibraryItem with attributes such as title, author, and publication_year. Implement two subclasses Book and Magazine that inherit from LibraryItem. Add additional methods to the subclasses, such as checkout() and return_item(), and handle any specific behavior or rules for each item type."
   ]
  },
  {
   "cell_type": "code",
   "execution_count": 5,
   "id": "9caf4916",
   "metadata": {},
   "outputs": [],
   "source": [
    "class LibraryItem:\n",
    "    def __init__(self,title,author,publication_year):\n",
    "        self.title = title\n",
    "        self.author = author\n",
    "        self.publication_year = publication_year\n",
    "\n",
    "class Book(LibraryItem):\n",
    "    def checkout(self):\n",
    "        print(\"Your Checked Out Details:\")\n",
    "        print(\"---------------------------------------------------------------------\")\n",
    "        print(f\"Title : {self.title}, Author : {self.author}, Publication Year : {self.publication_year}\")\n",
    "        print(\"---------------------------------------------------------------------\")\n",
    "    def return_item(self):\n",
    "        print(\"Your Return Details:\")\n",
    "        print(\"---------------------------------------------------------------------\")\n",
    "        print(f\"Title: {self.title}, Author : {self.author}, Publication Year : {self.publication_year}\")\n",
    "        print(\"---------------------------------------------------------------------\")\n",
    "        \n",
    "class Magazine(LibraryItem):\n",
    "    def __init__(self,title,author,publication_year,publication_month):\n",
    "        super().__init__(title,author,publication_year)\n",
    "        self.publication_month = publication_month\n",
    "    \n",
    "    def checkout(self):\n",
    "        print(\"Your Checked Out Details:\")\n",
    "        print(\"---------------------------------------------------------------------\")\n",
    "        print(f\"Magazine Title : {self.title}\")\n",
    "        print(f\"Author : {self.author}, Year : {self.publication_year}, Month : {self.publication_month}\")\n",
    "        print(\"---------------------------------------------------------------------\")\n",
    "        \n",
    "    def return_item(self):\n",
    "        print(\"Your Return Details:\")\n",
    "        print(\"---------------------------------------------------------------------\")\n",
    "        print(f\"Magazine Title: {self.title}\")\n",
    "        print(f\"Author : {self.author}, Year : {self.publication_year}, Month : {self.publication_month}\")\n",
    "        print(\"---------------------------------------------------------------------\")"
   ]
  },
  {
   "cell_type": "code",
   "execution_count": 6,
   "id": "7f4668cf",
   "metadata": {},
   "outputs": [
    {
     "name": "stdout",
     "output_type": "stream",
     "text": [
      "Your Checked Out Details:\n",
      "---------------------------------------------------------------------\n",
      "Title : Think & Grow Rich, Author : Nepoleon Hill, Publication Year : 2000\n",
      "---------------------------------------------------------------------\n",
      "Your Return Details:\n",
      "---------------------------------------------------------------------\n",
      "Title: Think & Grow Rich, Author : Nepoleon Hill, Publication Year : 2000\n",
      "---------------------------------------------------------------------\n"
     ]
    }
   ],
   "source": [
    "book1 = Book(\"Think & Grow Rich\",\"Nepoleon Hill\",\"2000\")\n",
    "book1.checkout()\n",
    "book1.return_item()"
   ]
  },
  {
   "cell_type": "code",
   "execution_count": 7,
   "id": "4b7f8790",
   "metadata": {},
   "outputs": [
    {
     "name": "stdout",
     "output_type": "stream",
     "text": [
      "Your Checked Out Details:\n",
      "---------------------------------------------------------------------\n",
      "Magazine Title : Autocar India\n",
      "Author : Autocar, Year : 2023, Month : June\n",
      "---------------------------------------------------------------------\n",
      "Your Return Details:\n",
      "---------------------------------------------------------------------\n",
      "Magazine Title: Autocar India\n",
      "Author : Autocar, Year : 2023, Month : June\n",
      "---------------------------------------------------------------------\n"
     ]
    }
   ],
   "source": [
    "mag1 = Magazine(\"Autocar India\",\"Autocar\",\"2023\",\"June\")\n",
    "mag1.checkout()\n",
    "mag1.return_item()"
   ]
  },
  {
   "cell_type": "markdown",
   "id": "2527bf87",
   "metadata": {},
   "source": [
    "#### 9. Employees and Departments: Create a base class called Employee with attributes such as name, salary, and department. Implement two subclasses Manager and Staff that inherit from Employee. Add additional methods to the subclasses, such as assign_task() for managers and attend_meeting() for staff members. Create a separate class called Department that contains a list of employees and methods to add or remove employees from the department."
   ]
  },
  {
   "cell_type": "code",
   "execution_count": 8,
   "id": "0f752408",
   "metadata": {},
   "outputs": [],
   "source": [
    "class Employee:\n",
    "    def __init__(self,name,salary,department):\n",
    "        self.name = name\n",
    "        self.salary = salary\n",
    "        self.department = department\n",
    "        \n",
    "    def display_info(self):\n",
    "        print(f\"Name : {self.name}\")\n",
    "        print(f\"Department : {self.department}\")\n",
    "        print(f\"Salary : {self.salary}\")\n",
    "    \n",
    "class Manager(Employee):\n",
    "    def __init__(self,name,salary,department):\n",
    "        super().__init__(name,salary,department)\n",
    "        self.list_of_tasks = []\n",
    "    \n",
    "    def assign_task(self,new_task):        \n",
    "        self.list_of_tasks.append(new_task)\n",
    "        print(f\"Manager: {self.name} has been assigned a new task: {new_task}\")\n",
    "        print(\"----------------------------------------------------------------------------------\")\n",
    "    \n",
    "    def complete_task(self,completed_task):\n",
    "        self.list_of_tasks.remove(completed_task)\n",
    "        print(f\"{completed_task} is now completed by Manager: {self.name}\")\n",
    "        print(\"----------------------------------------------------------------------------------\")\n",
    "    \n",
    "    def display_tasks(self):\n",
    "        if len(self.list_of_tasks) == 0:\n",
    "            print(\"No Tasks ! for the manager yet\")\n",
    "        else:\n",
    "            for task in range(len(self.list_of_tasks)):\n",
    "                print(task+1,\":\",self.list_of_tasks[task])\n",
    "            \n",
    "class Staff(Employee):\n",
    "    def __init__(self,name,salary,department):\n",
    "        super().__init__(name,salary,department)\n",
    "        self.list_of_meetings = []\n",
    "    \n",
    "    def attend_meeting(self,new_meeting):\n",
    "        self.list_of_meetings.append(new_meeting)\n",
    "        print(f\"Staff: {self.name} has been invited for a meeting : {new_meeting}\")\n",
    "        print(\"----------------------------------------------------------------------------------\")\n",
    "        \n",
    "    def display_meetings(self):\n",
    "        if len(self.list_of_meetings) == 0:\n",
    "            print(\"No meetings scheduled ! for the staff\")\n",
    "            print(\"------------------------------------------------------------------------------\")\n",
    "        else:\n",
    "            for meeting in range(len(self.list_of_meetings)):\n",
    "                print(meeting+1,\":\",self.list_of_meetings[meeting])\n",
    "                print(\"--------------------------------------------------------------------------\")\n",
    "                \n",
    "class Department:\n",
    "    def __init__(self):\n",
    "        self.list_of_employees = []\n",
    "        \n",
    "    def add_employee(self,employee):\n",
    "        self.list_of_employees.append(employee)\n",
    "        print(f\"{employee.name} is added into Department: {employee.department}\")\n",
    "        print(\"----------------------------------------------------------------------------------\")\n",
    "        \n",
    "    def remove_employee(self,employee):\n",
    "        if employee in self.list_of_employees:\n",
    "            self.list_of_employees.remove(employee)\n",
    "            print(f\"{employee.name} is now removed from Department: {employee.department}\")\n",
    "            print(\"------------------------------------------------------------------------------\")\n",
    "        else:\n",
    "            print(\"Invalid Employee ! not a part of the department\")\n",
    "            print(\"------------------------------------------------------------------------------\")\n",
    "    \n",
    "    def display_department_info(self):\n",
    "        for employee in self.list_of_employees:\n",
    "            employee.display_info()\n",
    "            print(\"------------------------------------------------------------------------------\")\n"
   ]
  },
  {
   "cell_type": "code",
   "execution_count": 9,
   "id": "100b806f",
   "metadata": {},
   "outputs": [
    {
     "name": "stdout",
     "output_type": "stream",
     "text": [
      "Pankaj Karmkar is added into Department: Management\n",
      "----------------------------------------------------------------------------------\n",
      "Bob Iverson is added into Department: Administration\n",
      "----------------------------------------------------------------------------------\n",
      "John Anderson is added into Department: Operations\n",
      "----------------------------------------------------------------------------------\n",
      "Name : Pankaj Karmkar\n",
      "Department : Management\n",
      "Salary : 50000\n",
      "------------------------------------------------------------------------------\n",
      "Name : Bob Iverson\n",
      "Department : Administration\n",
      "Salary : 35000\n",
      "------------------------------------------------------------------------------\n",
      "Name : John Anderson\n",
      "Department : Operations\n",
      "Salary : 30000\n",
      "------------------------------------------------------------------------------\n",
      "Bob Iverson is now removed from Department: Administration\n",
      "------------------------------------------------------------------------------\n",
      "Name : Pankaj Karmkar\n",
      "Department : Management\n",
      "Salary : 50000\n",
      "------------------------------------------------------------------------------\n",
      "Name : John Anderson\n",
      "Department : Operations\n",
      "Salary : 30000\n",
      "------------------------------------------------------------------------------\n",
      "Manager: Pankaj Karmkar has been assigned a new task: Prepare Project Schedule\n",
      "----------------------------------------------------------------------------------\n",
      "Staff: John Anderson has been invited for a meeting : Budget planning for the quarter at 11 AM\n",
      "----------------------------------------------------------------------------------\n",
      "No meetings scheduled ! for the staff\n",
      "------------------------------------------------------------------------------\n",
      "1 : Budget planning for the quarter at 11 AM\n",
      "--------------------------------------------------------------------------\n"
     ]
    }
   ],
   "source": [
    "manager1 = Manager(\"Pankaj Karmkar\", 50000, \"Management\")\n",
    "staff1 = Staff(\"Bob Iverson\", 35000, \"Administration\")\n",
    "staff2 = Staff(\"John Anderson\", 30000, \"Operations\")\n",
    "\n",
    "department = Department()\n",
    "\n",
    "department.add_employee(manager1)\n",
    "department.add_employee(staff1)\n",
    "department.add_employee(staff2)\n",
    "\n",
    "department.display_department_info()\n",
    "department.remove_employee(staff1)\n",
    "department.display_department_info()\n",
    "manager1.assign_task(\"Prepare Project Schedule\")\n",
    "staff2.attend_meeting(\"Budget planning for the quarter at 11 AM\")\n",
    "staff1.display_meetings()\n",
    "staff2.display_meetings()\n"
   ]
  },
  {
   "cell_type": "markdown",
   "id": "e18c3aef",
   "metadata": {},
   "source": [
    "#### 10. Bank Transactions: Create a base class called BankAccount with attributes such as account_number and balance. Implement subclasses for different types of accounts such as CheckingAccount and SavingsAccount that inherit from BankAccount. Add additional methods to the subclasses, such as withdraw() and deposit(), and handle any specific behavior or rules for each account type."
   ]
  },
  {
   "cell_type": "code",
   "execution_count": 29,
   "id": "cab62a3e",
   "metadata": {},
   "outputs": [],
   "source": [
    "class BankAccount:\n",
    "    def __init__(self,account_number,balance):\n",
    "        self.account_number = account_number\n",
    "        self.balance = balance\n",
    "        \n",
    "    def deposit(self,amount):\n",
    "        self.balance += amount\n",
    "        print(f\"Your account number ending with XXXXXXXX{self.account_number[(len(self.account_number)-4):]} \"\n",
    "        f\"has been credited with Rs.{amount}\")\n",
    "    \n",
    "    def withdraw(self,amount):\n",
    "        if amount <= self.balance:\n",
    "            self.balance -= amount\n",
    "            print(f\"Your account number ending with XXXXXXXX{self.account_number[(len(self.account_number)-4):]} \"\n",
    "            f\"has been debited with Rs.{amount}\")\n",
    "        else:\n",
    "            print(\"Insuffient Funds !!\")\n",
    "            \n",
    "    def display_balance(self):\n",
    "        print(f\"Your account balance is : Rs.{self.balance}\")\n",
    "\n",
    "class CheckingAccount(BankAccount):\n",
    "    def __init__(self,account_number,balance):\n",
    "        super().__init__(account_number,balance)\n",
    "        self.minimum_balance = 1000                ## Extra attribute for Class CheckingAccount\n",
    "    \n",
    "    def deposit(self,amount):\n",
    "        super().deposit(amount)\n",
    "        super().display_balance()\n",
    "    \n",
    "    def withdraw(self,amount):\n",
    "        if amount <= self.minimum_balance:\n",
    "            print(\"Insufficient Funds !! Minimum Balance should be Rs.1000\")\n",
    "        else:\n",
    "            super().withdraw(amount)\n",
    "            super().display_balance()\n",
    "\n",
    "class SavingAccount(BankAccount):\n",
    "    def __init__(self,account_number,balance):\n",
    "        super().__init__(account_number,balance)\n",
    "        self.interest = 0.05                        ## Extra attribute for Class SavingAccount\n",
    "    \n",
    "    def add_interest(self):\n",
    "        self.balance = self.balance + (self.balance * 0.05)\n",
    "        super().display_balance()\n",
    "    \n",
    "    def deposit(self,amount):\n",
    "        super().deposit(amount)\n",
    "        super().display_balance()\n",
    "    \n",
    "    def withdraw(self,amount):\n",
    "        super().withdraw(amount)\n",
    "        super().display_balance()"
   ]
  },
  {
   "cell_type": "code",
   "execution_count": 34,
   "id": "1aa8ef63",
   "metadata": {},
   "outputs": [
    {
     "name": "stdout",
     "output_type": "stream",
     "text": [
      "Your account number ending with XXXXXXXX2003 has been credited with Rs.10000\n",
      "Your account balance is : Rs.20000\n",
      "Your account number ending with XXXXXXXX2003 has been debited with Rs.5000\n",
      "Your account balance is : Rs.15000\n",
      "-----------------------------------------------------------------------------------\n",
      "Your account number ending with XXXXXXXX2003 has been credited with Rs.10000\n",
      "Your account balance is : Rs.20000\n",
      "Your account number ending with XXXXXXXX2003 has been debited with Rs.10000\n",
      "Your account balance is : Rs.10000\n",
      "Your account balance is : Rs.10500.0\n"
     ]
    }
   ],
   "source": [
    "#Creating an instance of CheckingAccount\n",
    "Checking_Account = CheckingAccount(\"057001002003\",10000)\n",
    "#Deposit amount\n",
    "Checking_Account.deposit(10000)\n",
    "#Withdraw Amount\n",
    "Checking_Account.withdraw(5000)\n",
    "print(\"-----------------------------------------------------------------------------------\")\n",
    "#Creating an instance of SavingAccount\n",
    "Saving_Account = SavingAccount(\"067001002003\",10000)\n",
    "#Deposit Amount\n",
    "Saving_Account.deposit(10000)\n",
    "#Withdraw Amount\n",
    "Saving_Account.withdraw(10000)\n",
    "#Add Interest on the balance\n",
    "Saving_Account.add_interest()"
   ]
  },
  {
   "cell_type": "markdown",
   "id": "0a9ae1a2",
   "metadata": {},
   "source": [
    "#### 11. School Management System: Create a base class called Person with attributes such as name, age, and address. Implement subclasses for different roles such as Student, Teacher, and Staff that inherit from Person. Add additional methods to the subclasses, such as take_exam() for students and teach_subject() for teachers."
   ]
  },
  {
   "cell_type": "code",
   "execution_count": 49,
   "id": "b8c7d248",
   "metadata": {},
   "outputs": [],
   "source": [
    "class Person:\n",
    "    def __init__(self,name,age,address):\n",
    "        self.name = name\n",
    "        self.age = age\n",
    "        self.address = address\n",
    "    \n",
    "    def display_info(self):\n",
    "        print(f\"Name: {self.name}\\n\"\n",
    "             f\"Age: {self.age}\\n\"\n",
    "             f\"Address: {self.address}\")\n",
    "    \n",
    "class Student(Person):\n",
    "    def __init__(self,name,age,address):\n",
    "        super().__init__(name,age,address)\n",
    "        \n",
    "    def take_exam(self,subject):\n",
    "        print(f\"Student: {self.name} is taking exam for the subject: {subject}\")\n",
    "class Teacher(Person):\n",
    "    def __init__(self,name,age,address):\n",
    "        super().__init__(name,age,address)\n",
    "    \n",
    "    def teach_subject(self,subject):\n",
    "        print(f\"Teacher: {self.name} is teaching subject: {subject}\")\n",
    "\n",
    "class Staff(Person):\n",
    "    def __init__(self,name,age,address):\n",
    "        super().__init__(name,age,address)\n",
    "    \n",
    "    def display_info(self):\n",
    "        print(\"Staff Details:\")\n",
    "        print(\"-------------------------------------------------------------\")\n",
    "        super().display_info()"
   ]
  },
  {
   "cell_type": "code",
   "execution_count": 50,
   "id": "834072bc",
   "metadata": {},
   "outputs": [
    {
     "name": "stdout",
     "output_type": "stream",
     "text": [
      "Student: Jason is taking exam for the subject: OOPS using Python\n",
      "-------------------------------------------------------------\n",
      "Teacher: Krish is teaching subject: OOPS Inheritance\n",
      "-------------------------------------------------------------\n",
      "Staff Details:\n",
      "-------------------------------------------------------------\n",
      "Name: Pankaj\n",
      "Age: 30\n",
      "Address: Kormangala\n"
     ]
    }
   ],
   "source": [
    "Student1 = Student(\"Jason\",23,\"Bangalore East\")\n",
    "Student1.take_exam(\"OOPS using Python\")\n",
    "print(\"-------------------------------------------------------------\")\n",
    "\n",
    "Teacher1 = Teacher(\"Krish\",36,\"Electronics City\")\n",
    "Teacher1.teach_subject(\"OOPS Inheritance\")\n",
    "print(\"-------------------------------------------------------------\")\n",
    "\n",
    "Staff1 = Staff(\"Pankaj\",\"30\",\"Kormangala\")\n",
    "Staff1.display_info()"
   ]
  },
  {
   "cell_type": "code",
   "execution_count": null,
   "id": "66113c47",
   "metadata": {},
   "outputs": [],
   "source": []
  }
 ],
 "metadata": {
  "kernelspec": {
   "display_name": "Python 3 (ipykernel)",
   "language": "python",
   "name": "python3"
  },
  "language_info": {
   "codemirror_mode": {
    "name": "ipython",
    "version": 3
   },
   "file_extension": ".py",
   "mimetype": "text/x-python",
   "name": "python",
   "nbconvert_exporter": "python",
   "pygments_lexer": "ipython3",
   "version": "3.10.9"
  }
 },
 "nbformat": 4,
 "nbformat_minor": 5
}
