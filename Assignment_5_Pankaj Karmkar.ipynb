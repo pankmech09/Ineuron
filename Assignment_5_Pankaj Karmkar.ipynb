{
 "cells": [
  {
   "cell_type": "markdown",
   "id": "db2fb8ec",
   "metadata": {},
   "source": [
    "# Assignment 5"
   ]
  },
  {
   "cell_type": "markdown",
   "id": "82baed47",
   "metadata": {},
   "source": [
    "#### 1. What does an empty dictionary's code look like?"
   ]
  },
  {
   "cell_type": "markdown",
   "id": "29c94b2b",
   "metadata": {},
   "source": [
    "Solution – \n",
    "\n",
    "Dict_1 = {}"
   ]
  },
  {
   "cell_type": "markdown",
   "id": "3928f110",
   "metadata": {},
   "source": [
    "#### 2. What is the value of a dictionary value with the key 'foo' and the value 42? "
   ]
  },
  {
   "cell_type": "markdown",
   "id": "2da31ab8",
   "metadata": {},
   "source": [
    "Solution – \n",
    "\n",
    "Dict_1 = {‘foo’:42} \n",
    "\n",
    "Key: ‘foo’ \n",
    "\n",
    "Value: 42 "
   ]
  },
  {
   "cell_type": "markdown",
   "id": "4a39ee57",
   "metadata": {},
   "source": [
    "#### 3. What is the most significant distinction between a dictionary and a list?"
   ]
  },
  {
   "cell_type": "markdown",
   "id": "ca7a51e4",
   "metadata": {},
   "source": [
    "Solution – \n",
    "\n",
    "Dictionaries have keys while Lists have indices \n",
    "\n",
    "Lists are defined by square brackets – [] \n",
    "\n",
    "Dictionaries are defined by curly braces – {} "
   ]
  },
  {
   "cell_type": "markdown",
   "id": "f0153fa5",
   "metadata": {},
   "source": [
    "#### 4. What happens if you try to access spam['foo'] if spam is {'bar': 100}?"
   ]
  },
  {
   "cell_type": "markdown",
   "id": "c43a2a43",
   "metadata": {},
   "source": [
    "Solution – \n",
    "\n",
    "KeyError "
   ]
  },
  {
   "cell_type": "markdown",
   "id": "0ca7f7f5",
   "metadata": {},
   "source": [
    "#### 5. If a dictionary is stored in spam, what is the difference between the expressions 'cat' in spam and 'cat' in spam.keys()? "
   ]
  },
  {
   "cell_type": "markdown",
   "id": "dbab4181",
   "metadata": {},
   "source": [
    "Solution – \n",
    "\n",
    "Both are same. \n",
    "\n",
    "‘cat’ in spam checks if a key with that name is present in the dictionary or not, returns True or False.\n",
    "\n",
    "‘cat’ in spam.keys() checks if a key with string ‘cat’ is present, returns True or False. \n",
    "\n",
    "For Example – \n",
    "\n",
    "spam = {“John”:123, “cat”:1234, “Alice”:12345} \n",
    "\n",
    "Print(“cat” in spam) \n",
    "\n",
    "Output: \n",
    "\n",
    "True \n",
    "\n",
    "Print(“cat” in spam.keys()) \n",
    "\n",
    "Output: \n",
    "\n",
    "True "
   ]
  },
  {
   "cell_type": "markdown",
   "id": "e177b15c",
   "metadata": {},
   "source": [
    "#### 6. If a dictionary is stored in spam, what is the difference between the expressions 'cat' in spam and 'cat' in spam.values()? "
   ]
  },
  {
   "cell_type": "markdown",
   "id": "fb4ecb17",
   "metadata": {},
   "source": [
    "Solution –  \n",
    "\n",
    "‘cat’ in spam checks if a key with that name is present in the dictionary or not, returns True or False. \n",
    "\n",
    "‘cat’ in spam.values() checks if value with string ‘cat’ is present, returns True or False. \n",
    "\n",
    "For Example – \n",
    "\n",
    "spam = {“John”:123, “cat”:1234, “Alice”:12345} \n",
    "\n",
    "Print(“cat” in spam) \n",
    "\n",
    "Output: \n",
    "\n",
    "True \n",
    "\n",
    "Print(“cat” in spam.values()) \n",
    "\n",
    "Output: \n",
    "\n",
    "False "
   ]
  },
  {
   "cell_type": "markdown",
   "id": "d738bf9e",
   "metadata": {},
   "source": [
    "#### 7. What is a shortcut for the following code? \n",
    "\n",
    "if 'color' not in spam: \n",
    "\n",
    "spam['color'] = 'black' "
   ]
  },
  {
   "cell_type": "markdown",
   "id": "b987cdf4",
   "metadata": {},
   "source": [
    "Solution – \n",
    "\n",
    "We can define spam as a dictionary, if ‘color’ key is not present in the dictionary then it will automatically create a key ‘color’ with value ‘black’ if already present then it will update the value to ‘black’."
   ]
  },
  {
   "cell_type": "markdown",
   "id": "33f8c3fb",
   "metadata": {},
   "source": [
    "#### 8. How do you \"pretty print\" dictionary values using which module and function? "
   ]
  },
  {
   "cell_type": "markdown",
   "id": "4871c321",
   "metadata": {},
   "source": [
    "Solution – \n",
    "\n",
    "Module – pprint \n",
    "\n",
    "Function – pprint() \n",
    "\n",
    "For Example – \n",
    "\n",
    "emp_details = {\"Emp_Name\":[\"Pankaj\",\"Rahul\",\"Ashish\"],\"Emp_ID\":[1001,1002,1003],\"Role\":[\"Engineer\",\"Manager\",\"Director\"]} \n",
    "\n",
    "import pprint \n",
    "\n",
    "pprint.pprint(emp_details) \n",
    "\n",
    "Output: \n",
    "\n",
    "{'Emp_ID': [1001, 1002, 1003], \n",
    "\n",
    " 'Emp_Name': ['Pankaj', 'Rahul', 'Ashish'], \n",
    "\n",
    " 'Role': ['Engineer', 'Manager', 'Director']}"
   ]
  },
  {
   "cell_type": "code",
   "execution_count": null,
   "id": "5a156a99",
   "metadata": {},
   "outputs": [],
   "source": []
  }
 ],
 "metadata": {
  "kernelspec": {
   "display_name": "Python 3 (ipykernel)",
   "language": "python",
   "name": "python3"
  },
  "language_info": {
   "codemirror_mode": {
    "name": "ipython",
    "version": 3
   },
   "file_extension": ".py",
   "mimetype": "text/x-python",
   "name": "python",
   "nbconvert_exporter": "python",
   "pygments_lexer": "ipython3",
   "version": "3.10.9"
  }
 },
 "nbformat": 4,
 "nbformat_minor": 5
}
