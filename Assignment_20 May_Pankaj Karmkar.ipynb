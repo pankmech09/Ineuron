{
 "cells": [
  {
   "cell_type": "markdown",
   "id": "09cec260",
   "metadata": {},
   "source": [
    "## 20 May\n",
    "# Python Basic - 1"
   ]
  },
  {
   "cell_type": "markdown",
   "id": "ceb7dc29",
   "metadata": {},
   "source": [
    "## Q1. What are keywords in python? Using the keyword library, print all the python keywords.\n"
   ]
  },
  {
   "cell_type": "markdown",
   "id": "a4d72acf",
   "metadata": {},
   "source": [
    "Solution -\n",
    "Keywords are reserved words in Python which have predefined meanings and cannot be used as variable/identifiers."
   ]
  },
  {
   "cell_type": "code",
   "execution_count": 1,
   "id": "6501adcf",
   "metadata": {},
   "outputs": [
    {
     "name": "stdout",
     "output_type": "stream",
     "text": [
      "['False', 'None', 'True', 'and', 'as', 'assert', 'async', 'await', 'break', 'class', 'continue', 'def', 'del', 'elif', 'else', 'except', 'finally', 'for', 'from', 'global', 'if', 'import', 'in', 'is', 'lambda', 'nonlocal', 'not', 'or', 'pass', 'raise', 'return', 'try', 'while', 'with', 'yield']\n"
     ]
    }
   ],
   "source": [
    "import keyword # import keyword module\n",
    "\n",
    "print(keyword.kwlist)"
   ]
  },
  {
   "cell_type": "markdown",
   "id": "bbe9b5b3",
   "metadata": {},
   "source": [
    "## Q2.  What are the rules to create variables in python?"
   ]
  },
  {
   "cell_type": "markdown",
   "id": "0a993b56",
   "metadata": {},
   "source": [
    "Solution -\n",
    "variables can be declared in Python using the following rules -\n",
    "1. variable name cannot start with a number, can start with a letter or an underscore\n",
    "2. variable name cannot contain any special character\n",
    "3. variable name can contain letters (a-z, A-Z), numbers(0-9), underscore(_)\n",
    "4. Python is a case sensitive language, hence variable names myVar and MyVar are considered different\n",
    "5. keywords cannot be used in a variable name"
   ]
  },
  {
   "cell_type": "markdown",
   "id": "a693881e",
   "metadata": {},
   "source": [
    "## Q3. What are the standards and conventions followed for the nomenclature of variables in\n",
    "python to improve code readability and maintainability?"
   ]
  },
  {
   "cell_type": "markdown",
   "id": "98117b87",
   "metadata": {},
   "source": [
    "Solution -\n",
    "\n",
    "1. choose variable names that describe it correctly and are self-explanatory.\n",
    "2. use lower case letters and use underscore for multiple words.\n",
    "3. avoid using keywords"
   ]
  },
  {
   "cell_type": "markdown",
   "id": "47706272",
   "metadata": {},
   "source": [
    "## Q4.  What will happen if a keyword is used as a variable name?"
   ]
  },
  {
   "cell_type": "markdown",
   "id": "a7e45bb9",
   "metadata": {},
   "source": [
    "Solution -\n",
    "\n",
    "It will throw a Syntax Error."
   ]
  },
  {
   "cell_type": "markdown",
   "id": "b8f7be4d",
   "metadata": {},
   "source": [
    "## Q5. For what purpose def keyword is used?"
   ]
  },
  {
   "cell_type": "markdown",
   "id": "240cc9a8",
   "metadata": {},
   "source": [
    "Solution -\n",
    "\n",
    "'def' keyword is used to define and create a user defined function. 'def' keyword is used to declare a function.\n",
    "\n",
    "For Example -\n",
    "def my_first_func():\n",
    "    print(\"Hell0\")\n"
   ]
  },
  {
   "cell_type": "markdown",
   "id": "f94dfaa2",
   "metadata": {},
   "source": [
    "## Q6. What is the operation of this special character ‘\\’?"
   ]
  },
  {
   "cell_type": "markdown",
   "id": "a831ff3e",
   "metadata": {},
   "source": [
    "Solution -\n",
    "The special character \\ is known as escape character."
   ]
  },
  {
   "cell_type": "code",
   "execution_count": null,
   "id": "a24b6d0a",
   "metadata": {},
   "outputs": [],
   "source": [
    "# Common uses -\n",
    "# '\\n' - newline character\n",
    "# '\\t' - tab character\n",
    "# '\\\"' - double quote character\n",
    "# '\\'' - single quote character"
   ]
  },
  {
   "cell_type": "markdown",
   "id": "1f111a68",
   "metadata": {},
   "source": [
    "## Q7.  Give an example of the following conditions:\n",
    "(i) Homogeneous list\n",
    "(ii) Heterogeneous set\n",
    "(iii) Homogeneous tuple"
   ]
  },
  {
   "cell_type": "markdown",
   "id": "b7ca9fc2",
   "metadata": {},
   "source": [
    "Solution -\n",
    "\n",
    "(i) Homogeneous list\n",
    "\n",
    "cars_list = [\"Mercedez Benz\", \"Honda Civic\", \"Toyota Cruiser\", \"Audi A7\"] #list with data type \"String\".\n",
    "\n",
    "\n",
    "(ii) Heterogeneous set\n",
    "\n",
    "set1 = {\"List\",\"Tuple\",\"Set\",2023,True} \n",
    "\n",
    "(iii) Homogeneous tuple\n",
    "\n",
    "tup1 = (\"Mango\",\"Orange\",\"Banana\",\"Lemon\") #Tuple with data type \"String\"."
   ]
  },
  {
   "cell_type": "markdown",
   "id": "9cda01f5",
   "metadata": {},
   "source": [
    "## Q8. Explain the mutable and immutable data types with proper explanation & examples."
   ]
  },
  {
   "cell_type": "markdown",
   "id": "5866e303",
   "metadata": {},
   "source": [
    "Solution -\n",
    "\n",
    "Mutable data types -\n",
    "Lists and Dictionaries are mutable form of data types, i.e. they can be modified"
   ]
  },
  {
   "cell_type": "code",
   "execution_count": 9,
   "id": "4b9ae2a3",
   "metadata": {},
   "outputs": [
    {
     "name": "stdout",
     "output_type": "stream",
     "text": [
      "Before modifying: [1, 2, 3, 4, 5]\n",
      "After modifying: [1, 6, 3, 4, 5]\n"
     ]
    }
   ],
   "source": [
    "#For Example -\n",
    "list1 = [1,2,3,4,5]\n",
    "\n",
    "print(\"Before modifying:\",list1) #printing the original list\n",
    "\n",
    "list1[1] = 6 # replacing the value at index position 1 with 6\n",
    "\n",
    "print(\"After modifying:\",list1) # printing new list\n"
   ]
  },
  {
   "cell_type": "markdown",
   "id": "ca32e605",
   "metadata": {},
   "source": [
    "Immutable data types - Tuples and Strings are immutable data types, i.e. they cannot be modified"
   ]
  },
  {
   "cell_type": "code",
   "execution_count": 11,
   "id": "8c498a4b",
   "metadata": {},
   "outputs": [
    {
     "name": "stdout",
     "output_type": "stream",
     "text": [
      "Before modifying: (1, 2, 3, 4, 5)\n"
     ]
    },
    {
     "ename": "TypeError",
     "evalue": "'tuple' object does not support item assignment",
     "output_type": "error",
     "traceback": [
      "\u001b[1;31m---------------------------------------------------------------------------\u001b[0m",
      "\u001b[1;31mTypeError\u001b[0m                                 Traceback (most recent call last)",
      "Cell \u001b[1;32mIn[11], line 6\u001b[0m\n\u001b[0;32m      2\u001b[0m tup1 \u001b[38;5;241m=\u001b[39m (\u001b[38;5;241m1\u001b[39m,\u001b[38;5;241m2\u001b[39m,\u001b[38;5;241m3\u001b[39m,\u001b[38;5;241m4\u001b[39m,\u001b[38;5;241m5\u001b[39m)\n\u001b[0;32m      4\u001b[0m \u001b[38;5;28mprint\u001b[39m(\u001b[38;5;124m\"\u001b[39m\u001b[38;5;124mBefore modifying:\u001b[39m\u001b[38;5;124m\"\u001b[39m,tup1)\n\u001b[1;32m----> 6\u001b[0m tup1[\u001b[38;5;241m2\u001b[39m] \u001b[38;5;241m=\u001b[39m \u001b[38;5;241m6\u001b[39m  \u001b[38;5;66;03m#replacing the value at index position 2 with 6 --- This will result in Error\u001b[39;00m\n\u001b[0;32m      8\u001b[0m \u001b[38;5;28mprint\u001b[39m(\u001b[38;5;124m\"\u001b[39m\u001b[38;5;124mAfter modifying:\u001b[39m\u001b[38;5;124m\"\u001b[39m,tup1)\n",
      "\u001b[1;31mTypeError\u001b[0m: 'tuple' object does not support item assignment"
     ]
    }
   ],
   "source": [
    "# For Example -\n",
    "tup1 = (1,2,3,4,5)\n",
    "\n",
    "print(\"Before modifying:\",tup1)\n",
    "\n",
    "tup1[2] = 6  #replacing the value at index position 2 with 6 --- This will result in Error\n",
    "\n",
    "print(\"After modifying:\",tup1)\n"
   ]
  },
  {
   "cell_type": "markdown",
   "id": "c5fcb258",
   "metadata": {},
   "source": [
    "## Q9. Write a code to create the given structure using only for loop."
   ]
  },
  {
   "attachments": {
    "image.png": {
     "image/png": "[encoded data removed]"
    }
   },
   "cell_type": "markdown",
   "id": "d2b4108e",
   "metadata": {},
   "source": [
    "![image.png](attachment:image.png)"
   ]
  },
  {
   "cell_type": "code",
   "execution_count": 63,
   "id": "7540130e",
   "metadata": {},
   "outputs": [
    {
     "name": "stdout",
     "output_type": "stream",
     "text": [
      "    *\n",
      "   ***\n",
      "  *****\n",
      " *******\n",
      "*********\n"
     ]
    }
   ],
   "source": [
    "rows = 5\n",
    "\n",
    "for i in range(rows):\n",
    "    spaces = rows-i-1 #Calculating the no. of spaces\n",
    "    for j in range(spaces):\n",
    "        print(\" \",end=\"\")\n",
    "    print(\"*\"*(2*i+1),end = \"\") #printing \"*\" astrick mark\n",
    "    print() #next line"
   ]
  },
  {
   "cell_type": "markdown",
   "id": "0cfa2bf9",
   "metadata": {},
   "source": [
    "## Q10. Write a code to create the given structure using while loop"
   ]
  },
  {
   "attachments": {
    "image.png": {
     "image/png": "[encoded data removed]"
    }
   },
   "cell_type": "markdown",
   "id": "cca6f1a5",
   "metadata": {},
   "source": [
    "![image.png](attachment:image.png)"
   ]
  },
  {
   "cell_type": "code",
   "execution_count": 75,
   "id": "af2d2bd6",
   "metadata": {},
   "outputs": [
    {
     "name": "stdout",
     "output_type": "stream",
     "text": [
      "|||||||||\n",
      " |||||||\n",
      "  |||||\n",
      "   |||\n",
      "    |\n"
     ]
    }
   ],
   "source": [
    "rows = 5\n",
    "i = rows\n",
    "while i>0:     #outer while loop\n",
    "    spaces = rows - i     #calulating spaces\n",
    "    j=0\n",
    "    while j<spaces:     #inner while loop\n",
    "        print(\" \",end=\"\")     #printing spaces\n",
    "        j += 1\n",
    "    print(\"|\"*(2*i-1),end=\"\")     #printing \"|\" symbol\n",
    "    i -= 1\n",
    "    print()"
   ]
  },
  {
   "cell_type": "code",
   "execution_count": null,
   "id": "8ba5a4f1",
   "metadata": {},
   "outputs": [],
   "source": []
  }
 ],
 "metadata": {
  "kernelspec": {
   "display_name": "Python 3 (ipykernel)",
   "language": "python",
   "name": "python3"
  },
  "language_info": {
   "codemirror_mode": {
    "name": "ipython",
    "version": 3
   },
   "file_extension": ".py",
   "mimetype": "text/x-python",
   "name": "python",
   "nbconvert_exporter": "python",
   "pygments_lexer": "ipython3",
   "version": "3.10.9"
  }
 },
 "nbformat": 4,
 "nbformat_minor": 5
}
