{
 "cells": [
  {
   "cell_type": "markdown",
   "id": "c41ae225",
   "metadata": {},
   "source": [
    "# 21 May\n",
    "## Python Basic - 2"
   ]
  },
  {
   "cell_type": "markdown",
   "id": "d63b1c97",
   "metadata": {},
   "source": [
    "### Q.1. Create two int type variables, apply addition, subtraction, division and multiplications and store the results in variables. Then print the data in the following format by calling the variables:\n"
   ]
  },
  {
   "cell_type": "markdown",
   "id": "904365ab",
   "metadata": {},
   "source": [
    "First variable is __ & second variable is __.\n",
    "Addition: __ + __ = __\n",
    "Subtraction: __ - __ = __\n",
    "Multiplication: __ * __ = __\n",
    "Division: __ / __ = __"
   ]
  },
  {
   "cell_type": "code",
   "execution_count": 5,
   "id": "fb46c673",
   "metadata": {},
   "outputs": [
    {
     "name": "stdout",
     "output_type": "stream",
     "text": [
      "First variable is 20 & second variable is 10\n",
      "Addition: 20 + 10 = 30\n",
      "Substraction: 20 - 10 = 10\n",
      "multiplication: 20 * 10 = 200\n",
      "division: 20 / 10 = 2.0\n"
     ]
    }
   ],
   "source": [
    "var1 = 20\n",
    "var2 = 10\n",
    "\n",
    "print (\"First variable is\",var1,\"& second variable is\",var2)\n",
    "\n",
    "addition = var1 + var2\n",
    "print(\"Addition:\",var1,\"+\",var2,\"=\",addition)\n",
    "\n",
    "substraction = var1 - var2\n",
    "print(\"Substraction:\",var1,\"-\",var2,\"=\",substraction)\n",
    "\n",
    "multiplication = var1 * var2\n",
    "print(\"multiplication:\",var1,\"*\",var2,\"=\",multiplication)\n",
    "\n",
    "division = var1 / var2\n",
    "print(\"division:\",var1,\"/\",var2,\"=\",division)"
   ]
  },
  {
   "cell_type": "markdown",
   "id": "d392ce08",
   "metadata": {},
   "source": [
    "### Q.2. What is the difference between the following operators:"
   ]
  },
  {
   "cell_type": "code",
   "execution_count": null,
   "id": "39218c04",
   "metadata": {},
   "outputs": [],
   "source": [
    "(i) ‘/’ & ‘//’\n",
    "(ii) ‘**’ & ‘^’"
   ]
  },
  {
   "cell_type": "code",
   "execution_count": null,
   "id": "b2dec2a7",
   "metadata": {},
   "outputs": [],
   "source": [
    "#Solution\n",
    "\n",
    "'''\n",
    "'/' - This operator always performs floating point divison.\n",
    "'//' - This operator performs floor division and returns an integer value unless any one of the operands is float\n",
    "'''"
   ]
  },
  {
   "cell_type": "code",
   "execution_count": 8,
   "id": "4c373d1e",
   "metadata": {},
   "outputs": [
    {
     "name": "stdout",
     "output_type": "stream",
     "text": [
      "4.5\n"
     ]
    }
   ],
   "source": [
    "# Example ('/' operator)-\n",
    "\n",
    "simple_division = 9/2\n",
    "print(simple_division)"
   ]
  },
  {
   "cell_type": "code",
   "execution_count": 13,
   "id": "c8882562",
   "metadata": {},
   "outputs": [
    {
     "name": "stdout",
     "output_type": "stream",
     "text": [
      "3.0\n"
     ]
    }
   ],
   "source": [
    "# Example ('//' operator) -\n",
    "\n",
    "int_division = 13//4\n",
    "print(int_division)"
   ]
  },
  {
   "cell_type": "markdown",
   "id": "9a2c4287",
   "metadata": {},
   "source": [
    "### Q.3. List the logical operators. "
   ]
  },
  {
   "cell_type": "markdown",
   "id": "20ec4e71",
   "metadata": {},
   "source": [
    "#### 'AND' Operator:\n",
    "\n",
    "If both operands are True then it returns True otherwise it returns False."
   ]
  },
  {
   "cell_type": "code",
   "execution_count": 19,
   "id": "14201139",
   "metadata": {},
   "outputs": [
    {
     "name": "stdout",
     "output_type": "stream",
     "text": [
      "True\n"
     ]
    }
   ],
   "source": [
    "num1 = 2\n",
    "num2 = 3\n",
    "num3 = 0\n",
    "\n",
    "result = num1>0 and num2>0\n",
    "print(result)"
   ]
  },
  {
   "cell_type": "code",
   "execution_count": 20,
   "id": "29e178a3",
   "metadata": {},
   "outputs": [
    {
     "name": "stdout",
     "output_type": "stream",
     "text": [
      "False\n"
     ]
    }
   ],
   "source": [
    "result = num1>0 and num3>0\n",
    "print(result)"
   ]
  },
  {
   "cell_type": "markdown",
   "id": "572fb7e3",
   "metadata": {},
   "source": [
    "#### 'OR' Operator:\n",
    "If any one of the operands is True then it returns True otherwise it returns False."
   ]
  },
  {
   "cell_type": "code",
   "execution_count": 21,
   "id": "86217a5c",
   "metadata": {},
   "outputs": [
    {
     "name": "stdout",
     "output_type": "stream",
     "text": [
      "True\n"
     ]
    }
   ],
   "source": [
    "result = num1>0 or num1>num2\n",
    "print(result)"
   ]
  },
  {
   "cell_type": "code",
   "execution_count": 22,
   "id": "510e9549",
   "metadata": {},
   "outputs": [
    {
     "name": "stdout",
     "output_type": "stream",
     "text": [
      "False\n"
     ]
    }
   ],
   "source": [
    "result = num1>num2 or num3>num1\n",
    "print(result)"
   ]
  },
  {
   "cell_type": "markdown",
   "id": "5ec32b6a",
   "metadata": {},
   "source": [
    "#### 'Not' Operator.\n",
    "It returns opposite of the operand. If the operand is True it returns False and vice-versa."
   ]
  },
  {
   "cell_type": "code",
   "execution_count": 24,
   "id": "d990d809",
   "metadata": {},
   "outputs": [
    {
     "name": "stdout",
     "output_type": "stream",
     "text": [
      "False\n"
     ]
    }
   ],
   "source": [
    "result = not num1>0\n",
    "print(result)"
   ]
  },
  {
   "cell_type": "markdown",
   "id": "b3ca38ff",
   "metadata": {},
   "source": [
    "### Q.4. Explain right shift operator and left shift operator with examples."
   ]
  },
  {
   "cell_type": "markdown",
   "id": "02d0e23f",
   "metadata": {},
   "source": [
    "Right shift operator and left shift operator are bitwise shift operators.\n",
    "They perform shifting of the bits in a binary representation to the right or left respectively."
   ]
  },
  {
   "cell_type": "markdown",
   "id": "90a87a87",
   "metadata": {},
   "source": [
    "#### Right Shift Operator ('>>')"
   ]
  },
  {
   "cell_type": "code",
   "execution_count": 25,
   "id": "4e1607b7",
   "metadata": {},
   "outputs": [
    {
     "name": "stdout",
     "output_type": "stream",
     "text": [
      "2\n"
     ]
    }
   ],
   "source": [
    "num1 = 5 # Binary - 101\n",
    "\n",
    "result = 5 >> 1     # Right shift operator will shift the bits one position to the right\n",
    "\n",
    "print(result)     # Result will be 010 - decimal value is 2"
   ]
  },
  {
   "cell_type": "code",
   "execution_count": 27,
   "id": "b3f6c0ea",
   "metadata": {},
   "outputs": [
    {
     "name": "stdout",
     "output_type": "stream",
     "text": [
      "0\n"
     ]
    }
   ],
   "source": [
    "result = 5 >> 2     # Right shift operator will shift the bits one position to the right\n",
    "print(result)     # Result will be 010 - decimal value is 0"
   ]
  },
  {
   "cell_type": "markdown",
   "id": "190faf6b",
   "metadata": {},
   "source": [
    "#### Left Shift Operator ('<<\") "
   ]
  },
  {
   "cell_type": "code",
   "execution_count": 28,
   "id": "5ff13cbd",
   "metadata": {},
   "outputs": [
    {
     "name": "stdout",
     "output_type": "stream",
     "text": [
      "20\n"
     ]
    }
   ],
   "source": [
    "num1 = 10     #Binary - 1010\n",
    "\n",
    "result = 10 << 1     # Left shift operator will shift the bits one position to the left\n",
    "print(result)    # Result will be 10100 - decimal value is 20"
   ]
  },
  {
   "cell_type": "markdown",
   "id": "9a548545",
   "metadata": {},
   "source": [
    "### Q.5. Create a list containing int type data of length 15. Then write a code to check if 10 is present in the list or not. "
   ]
  },
  {
   "cell_type": "code",
   "execution_count": 36,
   "id": "e4ef1bff",
   "metadata": {},
   "outputs": [
    {
     "name": "stdout",
     "output_type": "stream",
     "text": [
      "10 is present in the list\n"
     ]
    }
   ],
   "source": [
    "num_list = [1,2,3,4,5,6,7,8,9,10,11,12,13,14,15]\n",
    "\n",
    "if 10 in num_list:\n",
    "    print(\"10 is present in the list\")\n",
    "else:\n",
    "    print(\"10 is not present in the list\")"
   ]
  },
  {
   "cell_type": "code",
   "execution_count": null,
   "id": "28090976",
   "metadata": {},
   "outputs": [],
   "source": []
  }
 ],
 "metadata": {
  "kernelspec": {
   "display_name": "Python 3 (ipykernel)",
   "language": "python",
   "name": "python3"
  },
  "language_info": {
   "codemirror_mode": {
    "name": "ipython",
    "version": 3
   },
   "file_extension": ".py",
   "mimetype": "text/x-python",
   "name": "python",
   "nbconvert_exporter": "python",
   "pygments_lexer": "ipython3",
   "version": "3.10.9"
  }
 },
 "nbformat": 4,
 "nbformat_minor": 5
}
